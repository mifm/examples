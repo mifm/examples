{
  "nbformat": 4,
  "nbformat_minor": 0,
  "metadata": {
    "colab": {
      "name": "lat_long_to_site_and_boundary.ipynb",
      "provenance": [],
      "authorship_tag": "ABX9TyNSbIRAPbDrD7v0RFp54kL3",
      "include_colab_link": true
    },
    "kernelspec": {
      "name": "python3",
      "display_name": "Python 3"
    },
    "language_info": {
      "name": "python"
    }
  },
  "cells": [
    {
      "cell_type": "markdown",
      "metadata": {
        "id": "view-in-github",
        "colab_type": "text"
      },
      "source": [
        "<a href=\"https://colab.research.google.com/github/mifm/examples/blob/master/GlobalWindAtlasSite.ipynb\" target=\"_parent\"><img src=\"https://colab.research.google.com/assets/colab-badge.svg\" alt=\"Open In Colab\"/></a>"
      ]
    },
    {
      "cell_type": "code",
      "metadata": {
        "id": "Ega5fhjMACGb"
      },
      "source": [
        "%%capture\n",
        "!pip install git+https://gitlab.windenergy.dtu.dk/TOPFARM/PyWake.git"
      ],
      "execution_count": 1,
      "outputs": []
    },
    {
      "cell_type": "code",
      "metadata": {
        "id": "Ap4fvDjZEdzj"
      },
      "source": [
        "from py_wake.site.xrsite import GlobalWindAtlasSite\n",
        "lat, long = 51.74, 2.879972 "
      ],
      "execution_count": 13,
      "outputs": []
    },
    {
      "cell_type": "markdown",
      "source": [
        "#Old syntax:\n",
        "\n",
        "\n",
        "```\n",
        "ds = get_gwc_ds(lat, long)\n",
        "\n",
        "def site_from_gwc(ds, height=80.0, roughness=0.1, ti=0.1):\n",
        "    ds_interp = ds.interp(height=height, roughness=roughness)\n",
        "    site = UniformWeibullSite(p_wd = ds_interp.Sector_frequency, # sector frequencies\n",
        "                              a = ds_interp.Weibull_A, # Weibull scale parameter\n",
        "                              k = ds_interp.Weibull_k, # Weibull shape parameter\n",
        "                              ti = ti # turbulence intensity, optional (not needed in all cases)\n",
        "                             )\n",
        "    return site\n",
        "\n",
        "site = site_from_gwc(ds, height=150.0, roughness=0.0, ti=0.1)\n",
        "```\n",
        "\n"
      ],
      "metadata": {
        "id": "y9E0_GWjdcjq"
      }
    },
    {
      "cell_type": "markdown",
      "source": [
        "#New syntax:"
      ],
      "metadata": {
        "id": "hWlmZwJ5dtdb"
      }
    },
    {
      "cell_type": "code",
      "metadata": {
        "id": "tBzKUrSzAKpw"
      },
      "source": [
        "site = GlobalWindAtlasSite(lat, long, height=80, roughness=0.1, ti=0.1)"
      ],
      "execution_count": 15,
      "outputs": []
    },
    {
      "cell_type": "code",
      "source": [
        ""
      ],
      "metadata": {
        "id": "Ay0B9IoneDrT"
      },
      "execution_count": null,
      "outputs": []
    }
  ]
}