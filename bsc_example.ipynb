{
  "nbformat": 4,
  "nbformat_minor": 0,
  "metadata": {
    "colab": {
      "provenance": [],
      "authorship_tag": "ABX9TyO1IMRbLVx2qS7t0hqzGFzh",
      "include_colab_link": true
    },
    "kernelspec": {
      "name": "python3",
      "display_name": "Python 3"
    },
    "language_info": {
      "name": "python"
    }
  },
  "cells": [
    {
      "cell_type": "markdown",
      "metadata": {
        "id": "view-in-github",
        "colab_type": "text"
      },
      "source": [
        "<a href=\"https://colab.research.google.com/github/mifm/examples/blob/master/bsc_example.ipynb\" target=\"_parent\"><img src=\"https://colab.research.google.com/assets/colab-badge.svg\" alt=\"Open In Colab\"/></a>"
      ]
    },
    {
      "cell_type": "code",
      "execution_count": null,
      "metadata": {
        "id": "Ntj_XNjPqZxf"
      },
      "outputs": [],
      "source": [
        "!pip install openturns"
      ]
    },
    {
      "cell_type": "code",
      "source": [
        "!pip install git+https://gitlab.windenergy.dtu.dk/TOPFARM/basic-plugins/support-structure-mass-surrogate.git"
      ],
      "metadata": {
        "id": "wcUjZBPMqb5Q"
      },
      "execution_count": null,
      "outputs": []
    },
    {
      "cell_type": "code",
      "source": [
        "import os\n",
        "import pickle\n",
        "import matplotlib.pyplot as plt\n",
        "import numpy as np\n",
        "\n",
        "from ssms.models import model_path\n",
        "from ssms.load_QLS import QLSModel, get_r2"
      ],
      "metadata": {
        "id": "_v3UmlNuqisg"
      },
      "execution_count": 3,
      "outputs": []
    },
    {
      "cell_type": "code",
      "source": [
        "surrogate_path = os.path.join(model_path, 'QLS')\n",
        "path = os.path.join(surrogate_path, '15.0_QLS_surrogate_model.pickle')\n",
        "with open(path, 'rb') as f:\n",
        "    dic = pickle.load(f)\n",
        "input_channel_names = dic['input_channel_names']\n",
        "output_channel_names = dic['output_channel_names']\n",
        "out_item = 2\n",
        "output_channel = output_channel_names[out_item]\n",
        "print(f'output channel: {output_channel}')\n",
        "df = dic['df']\n",
        "qlsm = QLSModel(dic['models'][out_item], dic['input_scaler'], dic['output_scalers'][output_channel])"
      ],
      "metadata": {
        "colab": {
          "base_uri": "https://localhost:8080/"
        },
        "id": "mdjgvHAQqoYh",
        "outputId": "0c63487f-8329-41d3-8ee6-64f3d8a44dd8"
      },
      "execution_count": 21,
      "outputs": [
        {
          "output_type": "stream",
          "name": "stdout",
          "text": [
            "output channel: total_mass\n"
          ]
        },
        {
          "output_type": "stream",
          "name": "stderr",
          "text": [
            "/usr/local/lib/python3.10/dist-packages/sklearn/base.py:318: UserWarning: Trying to unpickle estimator MinMaxScaler from version 1.2.0 when using version 1.2.2. This might lead to breaking code or invalid results. Use at your own risk. For more info please refer to:\n",
            "https://scikit-learn.org/stable/model_persistence.html#security-maintainability-limitations\n",
            "  warnings.warn(\n"
          ]
        }
      ]
    },
    {
      "cell_type": "code",
      "source": [
        "res = qlsm.predict(RP=60*[10], D=60*[200], HTrans=60*[12], HHub_Ratio=60*[0.7], WaterDepth=np.arange(0,60), WaveHeight=60*[3.5], WavePeriod=60*[6], WindSpeed=60*[9])\n",
        "plt.figure()\n",
        "plt.plot(np.arange(0,60), res)"
      ],
      "metadata": {
        "colab": {
          "base_uri": "https://localhost:8080/",
          "height": 463
        },
        "id": "e9kbh4Ey5kqo",
        "outputId": "2369c4cc-c5b6-4bfb-d3f8-d974bd7a69af"
      },
      "execution_count": 25,
      "outputs": [
        {
          "output_type": "execute_result",
          "data": {
            "text/plain": [
              "[<matplotlib.lines.Line2D at 0x79019fe794b0>]"
            ]
          },
          "metadata": {},
          "execution_count": 25
        },
        {
          "output_type": "display_data",
          "data": {
            "text/plain": [
              "<Figure size 640x480 with 1 Axes>"
            ],
            "image/png": "[encoded data removed]"
          },
          "metadata": {}
        }
      ]
    },
    {
      "cell_type": "code",
      "source": [],
      "metadata": {
        "id": "3UJ8NFmo-o7O"
      },
      "execution_count": null,
      "outputs": []
    }
  ]
}