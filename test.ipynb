{
  "nbformat": 4,
  "nbformat_minor": 0,
  "metadata": {
    "colab": {
      "name": "test.ipynb",
      "provenance": [],
      "authorship_tag": "ABX9TyOQvx8MAwY7lzB+1xf3IGt0",
      "include_colab_link": true
    },
    "kernelspec": {
      "name": "python3",
      "display_name": "Python 3"
    },
    "language_info": {
      "name": "python"
    }
  },
  "cells": [
    {
      "cell_type": "markdown",
      "metadata": {
        "id": "view-in-github",
        "colab_type": "text"
      },
      "source": [
        "<a href=\"https://colab.research.google.com/github/mifm/examples/blob/master/test.ipynb\" target=\"_parent\"><img src=\"https://colab.research.google.com/assets/colab-badge.svg\" alt=\"Open In Colab\"/></a>"
      ]
    },
    {
      "cell_type": "code",
      "execution_count": 3,
      "metadata": {
        "id": "FW8gQHpKrO79"
      },
      "outputs": [],
      "source": [
        "%%capture\n",
        "try:\n",
        "  import py_wake\n",
        "except:\n",
        "  !git clone https://gitlab.windenergy.dtu.dk/TOPFARM/PyWake.git\n",
        "  %cd PyWake\n",
        "  !pip install .[test]"
      ]
    },
    {
      "cell_type": "code",
      "source": [
        "import py_wake\n",
        "# import and setup site and windTurbines\n",
        "%load_ext py_wake.utils.notebook_extensions\n",
        "import numpy as np\n",
        "import matplotlib.pyplot as plt\n",
        "from tqdm.notebook import tqdm\n",
        "from py_wake.utils import layouts\n",
        "from py_wake.utils.profiling import timeit, profileit\n",
        "from py_wake.examples.data.hornsrev1 import Hornsrev1Site, V80\n",
        "from py_wake import BastankhahGaussian\n",
        "import xarray as xr\n",
        "from py_wake.utils.plotting import setup_plot\n",
        "xr.set_options(display_expand_data=False)\n",
        "\n",
        "site = Hornsrev1Site()\n",
        "x, y = site.initial_position.T\n",
        "windTurbines = V80()\n",
        "\n",
        "wf_model = BastankhahGaussian(site, windTurbines)\n",
        "\n",
        "print(wf_model)"
      ],
      "metadata": {
        "colab": {
          "base_uri": "https://localhost:8080/"
        },
        "id": "GKDM8WDprUhi",
        "outputId": "54b4822a-6a9a-4f48-8797-a74bde0d1fd4"
      },
      "execution_count": 1,
      "outputs": [
        {
          "output_type": "stream",
          "name": "stdout",
          "text": [
            "BastankhahGaussian(PropagateDownwind, BastankhahGaussianDeficit-wake, RotorCenter-rotor-average, SquaredSum-superposition)\n"
          ]
        }
      ]
    },
    {
      "cell_type": "code",
      "source": [
        "# run wind farm simulation\n",
        "sim_res = wf_model(x, y, # wind turbine positions\n",
        "                   h=None, # wind turbine heights (defaults to the heights defined in windTurbines)\n",
        "                   type=0, # Wind turbine types\n",
        "                   wd=None, # Wind direction (defaults to site.default_wd (0,1,...,360 if not overriden))\n",
        "                   ws=None, # Wind speed (defaults to site.default_ws (3,4,...,25m/s if not overriden))\n",
        "                  )"
      ],
      "metadata": {
        "id": "Ws-DtmJxrZnA"
      },
      "execution_count": 2,
      "outputs": []
    },
    {
      "cell_type": "code",
      "source": [
        ""
      ],
      "metadata": {
        "id": "UXO9tQYgrbxC"
      },
      "execution_count": null,
      "outputs": []
    }
  ]
}