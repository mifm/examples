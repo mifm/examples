{
  "nbformat": 4,
  "nbformat_minor": 0,
  "metadata": {
    "colab": {
      "name": "estimating_speedups_from_weibull.ipynb",
      "provenance": [],
      "authorship_tag": "ABX9TyNSDx4LUkxFiR3PCVi4EZfO",
      "include_colab_link": true
    },
    "kernelspec": {
      "name": "python3",
      "display_name": "Python 3"
    },
    "language_info": {
      "name": "python"
    }
  },
  "cells": [
    {
      "cell_type": "markdown",
      "metadata": {
        "id": "view-in-github",
        "colab_type": "text"
      },
      "source": [
        "<a href=\"https://colab.research.google.com/github/mifm/examples/blob/master/estimating_speedups_from_weibull.ipynb\" target=\"_parent\"><img src=\"https://colab.research.google.com/assets/colab-badge.svg\" alt=\"Open In Colab\"/></a>"
      ]
    },
    {
      "cell_type": "code",
      "source": [
        "pip install git+https://gitlab.windenergy.dtu.dk/TOPFARM/PyWake.git"
      ],
      "metadata": {
        "colab": {
          "base_uri": "https://localhost:8080/"
        },
        "id": "MP6Mfuvo9obJ",
        "outputId": "e99599ca-c9c7-488c-cc64-94d61b7fee73"
      },
      "execution_count": 2,
      "outputs": [
        {
          "output_type": "stream",
          "name": "stdout",
          "text": [
            "Collecting git+https://gitlab.windenergy.dtu.dk/TOPFARM/PyWake.git\n",
            "  Cloning https://gitlab.windenergy.dtu.dk/TOPFARM/PyWake.git to /tmp/pip-req-build-djkklwhu\n",
            "  Running command git clone -q https://gitlab.windenergy.dtu.dk/TOPFARM/PyWake.git /tmp/pip-req-build-djkklwhu\n",
            "Requirement already satisfied: matplotlib in /usr/local/lib/python3.7/dist-packages (from py-wake==2.2.0) (3.2.2)\n",
            "Requirement already satisfied: numpy in /usr/local/lib/python3.7/dist-packages (from py-wake==2.2.0) (1.21.5)\n",
            "Requirement already satisfied: xarray in /usr/local/lib/python3.7/dist-packages (from py-wake==2.2.0) (0.18.2)\n",
            "Requirement already satisfied: autograd in /usr/local/lib/python3.7/dist-packages (from py-wake==2.2.0) (1.3)\n",
            "Requirement already satisfied: pyyaml in /usr/local/lib/python3.7/dist-packages (from py-wake==2.2.0) (3.13)\n",
            "Requirement already satisfied: scipy in /usr/local/lib/python3.7/dist-packages (from py-wake==2.2.0) (1.4.1)\n",
            "Requirement already satisfied: tqdm in /usr/local/lib/python3.7/dist-packages (from py-wake==2.2.0) (4.63.0)\n",
            "Requirement already satisfied: future>=0.15.2 in /usr/local/lib/python3.7/dist-packages (from autograd->py-wake==2.2.0) (0.16.0)\n",
            "Requirement already satisfied: kiwisolver>=1.0.1 in /usr/local/lib/python3.7/dist-packages (from matplotlib->py-wake==2.2.0) (1.3.2)\n",
            "Requirement already satisfied: python-dateutil>=2.1 in /usr/local/lib/python3.7/dist-packages (from matplotlib->py-wake==2.2.0) (2.8.2)\n",
            "Requirement already satisfied: pyparsing!=2.0.4,!=2.1.2,!=2.1.6,>=2.0.1 in /usr/local/lib/python3.7/dist-packages (from matplotlib->py-wake==2.2.0) (3.0.7)\n",
            "Requirement already satisfied: cycler>=0.10 in /usr/local/lib/python3.7/dist-packages (from matplotlib->py-wake==2.2.0) (0.11.0)\n",
            "Requirement already satisfied: six>=1.5 in /usr/local/lib/python3.7/dist-packages (from python-dateutil>=2.1->matplotlib->py-wake==2.2.0) (1.15.0)\n",
            "Requirement already satisfied: pandas>=1.0 in /usr/local/lib/python3.7/dist-packages (from xarray->py-wake==2.2.0) (1.3.5)\n",
            "Requirement already satisfied: setuptools>=40.4 in /usr/local/lib/python3.7/dist-packages (from xarray->py-wake==2.2.0) (57.4.0)\n",
            "Requirement already satisfied: pytz>=2017.3 in /usr/local/lib/python3.7/dist-packages (from pandas>=1.0->xarray->py-wake==2.2.0) (2018.9)\n",
            "Building wheels for collected packages: py-wake\n",
            "  Building wheel for py-wake (setup.py) ... \u001b[?25l\u001b[?25hdone\n",
            "  Created wheel for py-wake: filename=py_wake-2.2.0-py3-none-any.whl size=24776475 sha256=272426f0a3f552db5277ca5f9bedd4cd07501fb5d5a5fe72bbf7466f85016e8d\n",
            "  Stored in directory: /tmp/pip-ephem-wheel-cache-p10bfrbm/wheels/fb/b1/5a/9b9114aac7776bf9de40facb8a0f958449e0a2082c955ca29e\n",
            "Successfully built py-wake\n",
            "Installing collected packages: py-wake\n",
            "Successfully installed py-wake-2.2.0\n"
          ]
        }
      ]
    },
    {
      "cell_type": "code",
      "execution_count": 3,
      "metadata": {
        "colab": {
          "base_uri": "https://localhost:8080/",
          "height": 286
        },
        "id": "T5MKni449kr0",
        "outputId": "3af99367-4bbf-4a6b-c279-802a81850cc5"
      },
      "outputs": [
        {
          "output_type": "execute_result",
          "data": {
            "text/plain": [
              "[<matplotlib.lines.Line2D at 0x7fd88b3b9ed0>]"
            ]
          },
          "metadata": {},
          "execution_count": 3
        },
        {
          "output_type": "display_data",
          "data": {
            "text/plain": [
              "<Figure size 432x288 with 1 Axes>"
            ],
            "image/png": "[encoded data removed]"
          },
          "metadata": {
            "needs_background": "light"
          }
        }
      ],
      "source": [
        "from py_wake.examples.data.ParqueFicticio._parque_ficticio import ParqueFicticioSite\n",
        "import numpy as np\n",
        "from numpy import newaxis as na\n",
        "import matplotlib.pyplot as plt\n",
        "\n",
        "site = ParqueFicticioSite()\n",
        "def ws_from_cdf(cdf, A, k):\n",
        "    return A * (-np.log(1- cdf)) ** (1 / k)\n",
        "\n",
        "A = site.ds.Weibull_A.values\n",
        "k = site.ds.Weibull_k.values\n",
        "shape = A.shape\n",
        "\n",
        "cdfs = np.linspace(0, 0.99999999)\n",
        "cdfs = np.broadcast_to(cdfs[:, na, na, na, na],  cdfs.shape + shape)\n",
        "\n",
        "A = np.broadcast_to(A[na, ...], cdfs.shape)\n",
        "k = np.broadcast_to(k[na, ...], cdfs.shape)\n",
        "\n",
        "wsp = ws_from_cdf(cdfs, A, k)\n",
        "\n",
        "one_wsp = 8\n",
        "\n",
        "\n",
        "index = int(np.round(np.interp(one_wsp, wsp.mean((1,2))[:, 1,0], np.arange(50)),0))\n",
        "\n",
        "speedups = wsp[index,:,:,1,0] / one_wsp\n",
        "\n",
        "plt.plot(site.ds.Speedup.values[:,:,1,0].ravel(), speedups.ravel(), '.')"
      ]
    },
    {
      "cell_type": "code",
      "source": [
        ""
      ],
      "metadata": {
        "id": "4faw-y1A9lio"
      },
      "execution_count": null,
      "outputs": []
    }
  ]
}