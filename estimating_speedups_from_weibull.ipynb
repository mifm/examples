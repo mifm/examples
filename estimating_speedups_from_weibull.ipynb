{
  "nbformat": 4,
  "nbformat_minor": 0,
  "metadata": {
    "colab": {
      "name": "estimating_speedups_from_weibull.ipynb",
      "provenance": [],
      "authorship_tag": "ABX9TyOPc2b1obIj4R7vXgWGaz9d",
      "include_colab_link": true
    },
    "kernelspec": {
      "name": "python3",
      "display_name": "Python 3"
    },
    "language_info": {
      "name": "python"
    }
  },
  "cells": [
    {
      "cell_type": "markdown",
      "metadata": {
        "id": "view-in-github",
        "colab_type": "text"
      },
      "source": [
        "<a href=\"https://colab.research.google.com/github/mifm/examples/blob/master/estimating_speedups_from_weibull.ipynb\" target=\"_parent\"><img src=\"https://colab.research.google.com/assets/colab-badge.svg\" alt=\"Open In Colab\"/></a>"
      ]
    },
    {
      "cell_type": "code",
      "source": [
        "pip install git+https://gitlab.windenergy.dtu.dk/TOPFARM/PyWake.git"
      ],
      "metadata": {
        "colab": {
          "base_uri": "https://localhost:8080/"
        },
        "id": "MP6Mfuvo9obJ",
        "outputId": "f95e826a-6add-4408-dea7-dc141d842781"
      },
      "execution_count": 1,
      "outputs": [
        {
          "output_type": "stream",
          "name": "stdout",
          "text": [
            "Collecting git+https://gitlab.windenergy.dtu.dk/TOPFARM/PyWake.git\n",
            "  Cloning https://gitlab.windenergy.dtu.dk/TOPFARM/PyWake.git to /tmp/pip-req-build-zuf84rn3\n",
            "  Running command git clone -q https://gitlab.windenergy.dtu.dk/TOPFARM/PyWake.git /tmp/pip-req-build-zuf84rn3\n",
            "Requirement already satisfied: matplotlib in /usr/local/lib/python3.7/dist-packages (from py-wake==2.2.0) (3.2.2)\n",
            "Requirement already satisfied: numpy in /usr/local/lib/python3.7/dist-packages (from py-wake==2.2.0) (1.21.5)\n",
            "Requirement already satisfied: xarray in /usr/local/lib/python3.7/dist-packages (from py-wake==2.2.0) (0.18.2)\n",
            "Requirement already satisfied: autograd in /usr/local/lib/python3.7/dist-packages (from py-wake==2.2.0) (1.3)\n",
            "Requirement already satisfied: pyyaml in /usr/local/lib/python3.7/dist-packages (from py-wake==2.2.0) (3.13)\n",
            "Requirement already satisfied: scipy in /usr/local/lib/python3.7/dist-packages (from py-wake==2.2.0) (1.4.1)\n",
            "Requirement already satisfied: tqdm in /usr/local/lib/python3.7/dist-packages (from py-wake==2.2.0) (4.63.0)\n",
            "Requirement already satisfied: future>=0.15.2 in /usr/local/lib/python3.7/dist-packages (from autograd->py-wake==2.2.0) (0.16.0)\n",
            "Requirement already satisfied: kiwisolver>=1.0.1 in /usr/local/lib/python3.7/dist-packages (from matplotlib->py-wake==2.2.0) (1.3.2)\n",
            "Requirement already satisfied: cycler>=0.10 in /usr/local/lib/python3.7/dist-packages (from matplotlib->py-wake==2.2.0) (0.11.0)\n",
            "Requirement already satisfied: python-dateutil>=2.1 in /usr/local/lib/python3.7/dist-packages (from matplotlib->py-wake==2.2.0) (2.8.2)\n",
            "Requirement already satisfied: pyparsing!=2.0.4,!=2.1.2,!=2.1.6,>=2.0.1 in /usr/local/lib/python3.7/dist-packages (from matplotlib->py-wake==2.2.0) (3.0.7)\n",
            "Requirement already satisfied: six>=1.5 in /usr/local/lib/python3.7/dist-packages (from python-dateutil>=2.1->matplotlib->py-wake==2.2.0) (1.15.0)\n",
            "Requirement already satisfied: pandas>=1.0 in /usr/local/lib/python3.7/dist-packages (from xarray->py-wake==2.2.0) (1.3.5)\n",
            "Requirement already satisfied: setuptools>=40.4 in /usr/local/lib/python3.7/dist-packages (from xarray->py-wake==2.2.0) (57.4.0)\n",
            "Requirement already satisfied: pytz>=2017.3 in /usr/local/lib/python3.7/dist-packages (from pandas>=1.0->xarray->py-wake==2.2.0) (2018.9)\n",
            "Building wheels for collected packages: py-wake\n",
            "  Building wheel for py-wake (setup.py) ... \u001b[?25l\u001b[?25hdone\n",
            "  Created wheel for py-wake: filename=py_wake-2.2.0-py3-none-any.whl size=24777040 sha256=d9b79e0ca6284c27999c15b002b95ff15a4d4e900168044adf3f26683bd79fc9\n",
            "  Stored in directory: /tmp/pip-ephem-wheel-cache-5twcmjhp/wheels/fb/b1/5a/9b9114aac7776bf9de40facb8a0f958449e0a2082c955ca29e\n",
            "Successfully built py-wake\n",
            "Installing collected packages: py-wake\n",
            "Successfully installed py-wake-2.2.0\n"
          ]
        }
      ]
    },
    {
      "cell_type": "code",
      "execution_count": 2,
      "metadata": {
        "colab": {
          "base_uri": "https://localhost:8080/",
          "height": 332
        },
        "id": "T5MKni449kr0",
        "outputId": "387c0cc9-aed7-4343-808a-6cbad7bf3515"
      },
      "outputs": [
        {
          "output_type": "stream",
          "name": "stderr",
          "text": [
            "/usr/local/lib/python3.7/dist-packages/py_wake/utils/xarray_utils.py:150: FutureWarning: xarray subclass DataArrayILK should explicitly define __slots__\n",
            "  class DataArrayILK(DataArray):\n"
          ]
        },
        {
          "output_type": "execute_result",
          "data": {
            "text/plain": [
              "[<matplotlib.lines.Line2D at 0x7f48c332fd90>]"
            ]
          },
          "metadata": {},
          "execution_count": 2
        },
        {
          "output_type": "display_data",
          "data": {
            "text/plain": [
              "<Figure size 432x288 with 1 Axes>"
            ],
            "image/png": "[encoded data removed]"
          },
          "metadata": {
            "needs_background": "light"
          }
        }
      ],
      "source": [
        "from py_wake.examples.data.ParqueFicticio._parque_ficticio import ParqueFicticioSite\n",
        "import numpy as np\n",
        "import matplotlib.pyplot as plt\n",
        "from py_wake.utils.weibull import mean\n",
        "\n",
        "site = ParqueFicticioSite()\n",
        "\n",
        "plt.xlabel('Speedup from wasp')\n",
        "plt.ylabel('Estimated speedup from A and k')\n",
        "\n",
        "\n",
        "wsp = mean(site.ds.Weibull_A.values, site.ds.Weibull_k.values)\n",
        "speedups_from_mean = wsp / wsp.mean((0, 1))\n",
        "plt.plot(site.ds.Speedup.values[:,:,1,0].ravel(), speedups_from_mean[:,:,1,0].ravel(), '.')"
      ]
    },
    {
      "cell_type": "code",
      "source": [
        ""
      ],
      "metadata": {
        "id": "4faw-y1A9lio"
      },
      "execution_count": null,
      "outputs": []
    }
  ]
}