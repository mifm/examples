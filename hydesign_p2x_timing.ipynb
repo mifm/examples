{
  "nbformat": 4,
  "nbformat_minor": 0,
  "metadata": {
    "colab": {
      "provenance": [],
      "authorship_tag": "ABX9TyPOwHuOcUYuqeuiCii9fO9C",
      "include_colab_link": true
    },
    "kernelspec": {
      "name": "python3",
      "display_name": "Python 3"
    },
    "language_info": {
      "name": "python"
    }
  },
  "cells": [
    {
      "cell_type": "markdown",
      "metadata": {
        "id": "view-in-github",
        "colab_type": "text"
      },
      "source": [
        "<a href=\"https://colab.research.google.com/github/mifm/examples/blob/master/hydesign_p2x_timing.ipynb\" target=\"_parent\"><img src=\"https://colab.research.google.com/assets/colab-badge.svg\" alt=\"Open In Colab\"/></a>"
      ]
    },
    {
      "cell_type": "code",
      "execution_count": 1,
      "metadata": {
        "id": "xo5pcPHz6QBr"
      },
      "outputs": [],
      "source": [
        "%%capture\n",
        "!pip install hydesign"
      ]
    },
    {
      "cell_type": "code",
      "source": [
        "import time\n",
        "from hydesign.examples import examples_filepath\n",
        "from hydesign.assembly.hpp_assembly_P2X import hpp_model_P2X\n",
        "import pandas as pd\n",
        "\n",
        "name = 'France_good_wind'\n",
        "examples_sites = pd.read_csv(f'{examples_filepath}examples_sites.csv', index_col=0, sep=';')\n",
        "ex_site = examples_sites.loc[examples_sites.name == name]\n",
        "\n",
        "longitude = ex_site['longitude'].values[0]\n",
        "latitude = ex_site['latitude'].values[0]\n",
        "altitude = ex_site['altitude'].values[0]\n",
        "\n",
        "sim_pars_fn = examples_filepath+ex_site['sim_pars_fn'].values[0]\n",
        "input_ts_fn = examples_filepath+ex_site['input_ts_fn'].values[0]\n",
        "H2_demand_fn = examples_filepath+ex_site['H2_demand_col'].values[0]\n",
        "\n",
        "hpp = hpp_model_P2X(\n",
        "    latitude=latitude,\n",
        "    longitude=longitude,\n",
        "    altitude=altitude,\n",
        "    max_num_batteries_allowed = 10,\n",
        "    work_dir = './',\n",
        "    sim_pars_fn = sim_pars_fn,\n",
        "    input_ts_fn = input_ts_fn,\n",
        "    H2_demand_fn = H2_demand_fn,\n",
        "    )\n",
        "\n"
      ],
      "metadata": {
        "colab": {
          "base_uri": "https://localhost:8080/"
        },
        "id": "tAx2eIDZ6Tr5",
        "outputId": "9a2f1383-8258-4af2-a796-965f8ba72dc0"
      },
      "execution_count": 4,
      "outputs": [
        {
          "output_type": "stream",
          "name": "stdout",
          "text": [
            "\n",
            "Fixed parameters on the site\n",
            "-------------------------------\n",
            "longitude = -0.864258\n",
            "latitude = 48.744116\n",
            "altitude = 302.0\n"
          ]
        }
      ]
    },
    {
      "cell_type": "code",
      "source": [
        "x=[50, 300, 10, 40, 10, 0, 45, 180, 1.5, 40, 4, 5, 250, 5000]\n",
        "# x=[10.0, 350.0, 5.0, 40.0, 7.0, 0.0, 50.0, 180.0, 1.5, 0.0, 3.0, 5.0, 100.0, 2500.0]\n",
        "start = time.time()\n",
        "\n",
        "outs = hpp.evaluate(*x)\n",
        "\n",
        "hpp.print_design(x, outs)\n",
        "\n",
        "end = time.time()\n",
        "print('exec. time [min]:', (end - start)/60 )"
      ],
      "metadata": {
        "colab": {
          "base_uri": "https://localhost:8080/"
        },
        "id": "4-5dATBs6YQw",
        "outputId": "607b63cf-2f16-4d99-f0cd-350d87c8e725"
      },
      "execution_count": 6,
      "outputs": [
        {
          "output_type": "stream",
          "name": "stdout",
          "text": [
            "\n",
            "Design:\n",
            "---------------\n",
            "clearance [m]: 50.000\n",
            "sp [W/m2]: 300.000\n",
            "p_rated [MW]: 10.000\n",
            "Nwt: 40.000\n",
            "wind_MW_per_km2 [MW/km2]: 10.000\n",
            "solar_MW [MW]: 0.000\n",
            "surface_tilt [deg]: 45.000\n",
            "surface_azimuth [deg]: 180.000\n",
            "DC_AC_ratio: 1.500\n",
            "b_P [MW]: 40.000\n",
            "b_E_h [h]: 4.000\n",
            "cost_of_battery_P_fluct_in_peak_price_ratio: 5.000\n",
            "ptg_MW [MW]: 250.000\n",
            "HSS_kg [kg]: 5000.000\n",
            "\n",
            "\n",
            "NPV_over_CAPEX: 1.457\n",
            "NPV [MEuro]: 1013.157\n",
            "IRR: 0.163\n",
            "LCOE [Euro/MWh]: 32.030\n",
            "LCOH [Euro/kg]: 6.350\n",
            "Revenue [MEuro]: 2598.374\n",
            "CAPEX [MEuro]: 695.511\n",
            "OPEX [MEuro]: 14.049\n",
            "penalty lifetime [MEuro]: 0.000\n",
            "AEP [GWh]: 351.813\n",
            "GUF: 0.134\n",
            "annual_H2 [tons]: 17197.719\n",
            "annual_P_ptg [GWh]: 1137.679\n",
            "grid [MW]: 300.000\n",
            "wind [MW]: 400.000\n",
            "solar [MW]: 0.000\n",
            "PtG [MW]: 250.000\n",
            "HSS [kg]: 5000.000\n",
            "Battery Energy [MWh]: 160.000\n",
            "Battery Power [MW]: 40.000\n",
            "Total curtailment [GWh]: 0.000\n",
            "Awpp [km2]: 40.000\n",
            "Apvp [km2]: 0.000\n",
            "Rotor diam [m]: 206.013\n",
            "Hub height [m]: 153.006\n",
            "Number of batteries used in lifetime: 1.000\n",
            "Break-even H2 price [Euro/kg]: 1.742\n",
            "Break-even PPA price [Euro/MWh]: 0.000\n",
            "Capacity factor wind [-]: 0.425\n",
            "\n",
            "exec. time [min]: 2.9092698017756145\n"
          ]
        }
      ]
    },
    {
      "cell_type": "code",
      "source": [
        "# x=[50, 300, 10, 40, 10, 0, 45, 180, 1.5, 40, 4, 5, 250, 5000]\n",
        "x=[10.0, 350.0, 5.0, 40.0, 7.0, 0.0, 50.0, 180.0, 1.5, 0.0, 3.0, 5.0, 100.0, 2500.0]\n",
        "start = time.time()\n",
        "\n",
        "outs = hpp.evaluate(*x)\n",
        "\n",
        "hpp.print_design(x, outs)\n",
        "\n",
        "end = time.time()\n",
        "print('exec. time [min]:', (end - start)/60 )"
      ],
      "metadata": {
        "colab": {
          "base_uri": "https://localhost:8080/"
        },
        "id": "ChIftbrD6ch4",
        "outputId": "029f44fc-80fa-4151-e53c-a46642460348"
      },
      "execution_count": 7,
      "outputs": [
        {
          "output_type": "stream",
          "name": "stdout",
          "text": [
            "\n",
            "Design:\n",
            "---------------\n",
            "clearance [m]: 10.000\n",
            "sp [W/m2]: 350.000\n",
            "p_rated [MW]: 5.000\n",
            "Nwt: 40.000\n",
            "wind_MW_per_km2 [MW/km2]: 7.000\n",
            "solar_MW [MW]: 0.000\n",
            "surface_tilt [deg]: 50.000\n",
            "surface_azimuth [deg]: 180.000\n",
            "DC_AC_ratio: 1.500\n",
            "b_P [MW]: 0.000\n",
            "b_E_h [h]: 3.000\n",
            "cost_of_battery_P_fluct_in_peak_price_ratio: 5.000\n",
            "ptg_MW [MW]: 100.000\n",
            "HSS_kg [kg]: 2500.000\n",
            "\n",
            "\n",
            "NPV_over_CAPEX: 1.019\n",
            "NPV [MEuro]: 298.767\n",
            "IRR: 0.138\n",
            "LCOE [Euro/MWh]: 37.564\n",
            "LCOH [Euro/kg]: 7.421\n",
            "Revenue [MEuro]: 901.892\n",
            "CAPEX [MEuro]: 293.164\n",
            "OPEX [MEuro]: 5.175\n",
            "penalty lifetime [MEuro]: 0.000\n",
            "AEP [GWh]: 137.255\n",
            "GUF: 0.052\n",
            "annual_H2 [tons]: 5918.230\n",
            "annual_P_ptg [GWh]: 391.166\n",
            "grid [MW]: 300.000\n",
            "wind [MW]: 200.000\n",
            "solar [MW]: 0.000\n",
            "PtG [MW]: 100.000\n",
            "HSS [kg]: 2500.000\n",
            "Battery Energy [MWh]: 0.000\n",
            "Battery Power [MW]: 0.000\n",
            "Total curtailment [GWh]: 0.000\n",
            "Awpp [km2]: 28.571\n",
            "Apvp [km2]: 0.000\n",
            "Rotor diam [m]: 134.867\n",
            "Hub height [m]: 77.434\n",
            "Number of batteries used in lifetime: 0.000\n",
            "Break-even H2 price [Euro/kg]: 2.199\n",
            "Break-even PPA price [Euro/MWh]: 0.000\n",
            "Capacity factor wind [-]: 0.302\n",
            "\n",
            "exec. time [min]: 0.3047350287437439\n"
          ]
        }
      ]
    },
    {
      "cell_type": "code",
      "source": [],
      "metadata": {
        "id": "3h4B4STT6e1C"
      },
      "execution_count": null,
      "outputs": []
    }
  ]
}