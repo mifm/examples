{
  "nbformat": 4,
  "nbformat_minor": 0,
  "metadata": {
    "colab": {
      "provenance": [],
      "authorship_tag": "ABX9TyN3TaSZFu274IHJUgCxk0R4",
      "include_colab_link": true
    },
    "kernelspec": {
      "name": "python3",
      "display_name": "Python 3"
    },
    "language_info": {
      "name": "python"
    }
  },
  "cells": [
    {
      "cell_type": "markdown",
      "metadata": {
        "id": "view-in-github",
        "colab_type": "text"
      },
      "source": [
        "<a href=\"https://colab.research.google.com/github/mifm/examples/blob/master/smt.ipynb\" target=\"_parent\"><img src=\"https://colab.research.google.com/assets/colab-badge.svg\" alt=\"Open In Colab\"/></a>"
      ]
    },
    {
      "cell_type": "code",
      "execution_count": null,
      "metadata": {
        "id": "quN2AdpRPci_"
      },
      "outputs": [],
      "source": [
        "%%capture\n",
        "!pip install -q condacolab\n",
        "import condacolab\n",
        "condacolab.install() # expect a kernel restart"
      ]
    },
    {
      "cell_type": "code",
      "source": [
        "%%capture\n",
        "!conda create --name hydesign python=3.9.18 smt=2.0"
      ],
      "metadata": {
        "id": "I4Z-Xv8QPeBc"
      },
      "execution_count": null,
      "outputs": []
    },
    {
      "cell_type": "code",
      "source": [
        "%%capture\n",
        "%%bash\n",
        "source activate hydesign"
      ],
      "metadata": {
        "id": "naqqukV1PxCV"
      },
      "execution_count": 4,
      "outputs": []
    },
    {
      "cell_type": "code",
      "source": [
        "%%capture\n",
        "!conda install finitediff"
      ],
      "metadata": {
        "id": "qbCIzwogRZ-Z"
      },
      "execution_count": 6,
      "outputs": []
    },
    {
      "cell_type": "code",
      "source": [
        "%%capture\n",
        "!pip install hydesign"
      ],
      "metadata": {
        "id": "OpXpQxWNQjsE"
      },
      "execution_count": null,
      "outputs": []
    },
    {
      "cell_type": "code",
      "source": [
        "import pandas as pd\n",
        "import numpy as np\n",
        "from hydesign.assembly.hpp_assembly_constantoutput import hpp_model_constant_output as hpp_model\n",
        "from hydesign.examples import examples_filepath\n",
        "import matplotlib.pyplot as plt\n",
        "from hydesign.Parallel_EGO import get_kwargs, EfficientGlobalOptimizationDriver\n",
        "import os"
      ],
      "metadata": {
        "id": "yTxGnxVcRFOk"
      },
      "execution_count": 10,
      "outputs": []
    },
    {
      "cell_type": "code",
      "source": [
        "examples_sites = pd.read_csv(f'{examples_filepath}examples_sites.csv', index_col=0)\n",
        "name = 'France_good_wind'\n",
        "ex_site = examples_sites.loc[examples_sites.name == name]\n",
        "longitude = ex_site['longitude'].values[0]\n",
        "latitude = ex_site['latitude'].values[0]\n",
        "altitude = ex_site['altitude'].values[0]\n",
        "input_ts_fn = examples_filepath+ex_site['input_ts_fn'].values[0]\n",
        "sim_pars_fn = examples_filepath+ex_site['sim_pars_fn'].values[0].replace('.yml','_benchmark.yml')\n",
        "H2_demand_fn = examples_filepath+ex_site['H2_demand_col'].values[0]\n",
        "\n",
        "PPA = 40 # Euro/MWh\n",
        "hpp = hpp_model(\n",
        "    latitude,\n",
        "    longitude,\n",
        "    altitude,\n",
        "    num_batteries = 10,\n",
        "    work_dir = './',\n",
        "    sim_pars_fn = sim_pars_fn,\n",
        "    input_ts_fn = input_ts_fn,\n",
        "    ppa_price = PPA,\n",
        "    load_min = 3, #MW\n",
        "    load_min_penalty = 100, #MEuro\n",
        "    battery_deg = True,\n",
        ")\n",
        "x=[35.0, 300.0, 10.0, 3, 7.0, 30, 25.0, 180.0, 1.0, 30, 7, 10.0]"
      ],
      "metadata": {
        "colab": {
          "base_uri": "https://localhost:8080/"
        },
        "id": "02m5O6blR2-m",
        "outputId": "af06ad4e-d79b-4fd9-8c27-0d527a7cf5b5"
      },
      "execution_count": 9,
      "outputs": [
        {
          "output_type": "stream",
          "name": "stdout",
          "text": [
            "\n",
            "Fixed parameters on the site\n",
            "-------------------------------\n",
            "longitude = -0.864258\n",
            "latitude = 48.744116\n",
            "altitude = 302.0\n"
          ]
        }
      ]
    },
    {
      "cell_type": "code",
      "source": [
        "n_procs = int(os.cpu_count())"
      ],
      "metadata": {
        "id": "R1DOyC0dR7t_"
      },
      "execution_count": 11,
      "outputs": []
    },
    {
      "cell_type": "code",
      "source": [
        "inputs = {\n",
        "    'example': 9,\n",
        "    'name': None,\n",
        "    'longitude': None,\n",
        "    'latitude': None,\n",
        "    'altitude': None,\n",
        "    'input_ts_fn': None,\n",
        "    'sim_pars_fn': None,\n",
        "\n",
        "    'opt_var': \"NPV_over_CAPEX\",\n",
        "    'num_batteries': 10,\n",
        "    'n_procs': n_procs - 1,\n",
        "    'n_doe': 20,\n",
        "    'n_clusters': 5,\n",
        "    'n_seed': 0,\n",
        "    'max_iter': 2,\n",
        "    'final_design_fn': 'hydesign_design_0.csv',\n",
        "    'npred': 3e4,\n",
        "    'tol': 1e-6,\n",
        "    'min_conv_iter': 3,\n",
        "    'work_dir': './',\n",
        "    'hpp_model': hpp_model,\n",
        "    'PPA_price': 40,\n",
        "    'load_min': 3, # MW\n",
        "    }\n",
        "kwargs = get_kwargs(inputs)"
      ],
      "metadata": {
        "colab": {
          "base_uri": "https://localhost:8080/"
        },
        "id": "gMz1yTZbSCPl",
        "outputId": "5867ff62-3f21-4904-90cf-3603261b3b6a"
      },
      "execution_count": 12,
      "outputs": [
        {
          "output_type": "stream",
          "name": "stdout",
          "text": [
            "Selected example site:\n",
            "---------------------------------------------------\n",
            "case                                                 Europe\n",
            "name                                      Denmark_good_wind\n",
            "longitude                                          8.594398\n",
            "latitude                                          56.227322\n",
            "altitude                                               85.0\n",
            "input_ts_fn      Europe/GWA3/input_ts_Denmark_good_wind.csv\n",
            "sim_pars_fn                             Europe/hpp_pars.yml\n",
            "price_fn                           Europe/2030-EL_PRICE.csv\n",
            "price_col                                              DK_W\n",
            "H2_demand_col                          Europe/H2_demand.csv\n",
            "Name: 9, dtype: object\n"
          ]
        }
      ]
    },
    {
      "cell_type": "code",
      "source": [
        "kwargs['variables'] = {\n",
        "    'clearance [m]':\n",
        "        #{'var_type':'design',\n",
        "        #  'limits':[10, 60],\n",
        "        #  'types':'int'\n",
        "        #  },\n",
        "        {'var_type':'fixed',\n",
        "           'value': 35\n",
        "           },\n",
        "    'sp [W/m2]':\n",
        "        #{'var_type':'design',\n",
        "        # 'limits':[200, 359],\n",
        "        # 'types':'int'\n",
        "        # },\n",
        "        {'var_type':'fixed',\n",
        "           'value': 300\n",
        "           },\n",
        "    'p_rated [MW]':\n",
        "        {'var_type':'design',\n",
        "          'limits':[1, 10],\n",
        "          'types':'int'\n",
        "          },\n",
        "        # {'var_type':'fixed',\n",
        "        #  'value': 6\n",
        "         # },\n",
        "    'Nwt':\n",
        "        {'var_type':'design',\n",
        "          'limits':[0, 400],\n",
        "          'types':'int'\n",
        "          },\n",
        "        # {'var_type':'fixed',\n",
        "        #   'value': 200\n",
        "        #   },\n",
        "    'wind_MW_per_km2 [MW/km2]':\n",
        "        #{'var_type':'design',\n",
        "        #  'limits':[5, 9],\n",
        "        #  'types':'float'\n",
        "        #  },\n",
        "         {'var_type':'fixed',\n",
        "           'value': 7\n",
        "           },\n",
        "    'solar_MW [MW]':\n",
        "        {'var_type':'design',\n",
        "           'limits':[0, 400],\n",
        "           'types':'int'\n",
        "          },\n",
        "        #{'var_type':'fixed',\n",
        "        #  'value': 20\n",
        "        #  },\n",
        "    'surface_tilt [deg]':\n",
        "        # {'var_type':'design',\n",
        "        #   'limits':[0, 50],\n",
        "        #   'types':'float'\n",
        "        #   },\n",
        "        {'var_type':'fixed',\n",
        "          'value': 25\n",
        "          },\n",
        "    'surface_azimuth [deg]':\n",
        "        # {'var_type':'design',\n",
        "        #   'limits':[150, 210],\n",
        "        #   'types':'float'\n",
        "        #   },\n",
        "        {'var_type':'fixed',\n",
        "          'value': 180\n",
        "          },\n",
        "    'DC_AC_ratio':\n",
        "        # {'var_type':'design',\n",
        "        #   'limits':[1, 2.0],\n",
        "        #   'types':'float'\n",
        "        #   },\n",
        "        {'var_type':'fixed',\n",
        "          'value':1.6,\n",
        "          },\n",
        "    'b_P [MW]':\n",
        "        {'var_type':'design',\n",
        "           'limits':[0, 100],\n",
        "           'types':'int'\n",
        "          },\n",
        "        #{'var_type':'fixed',\n",
        "        #  'value': 50\n",
        "        #  },\n",
        "    'b_E_h [h]':\n",
        "        {'var_type':'design',\n",
        "           'limits':[1, 10],\n",
        "           'types':'int'\n",
        "          },\n",
        "        #{'var_type':'fixed',\n",
        "        #  'value': 6\n",
        "        #  },\n",
        "    'cost_of_battery_P_fluct_in_peak_price_ratio':\n",
        "        {'var_type':'design',\n",
        "          'limits':[0, 20],\n",
        "          'types':'float'\n",
        "          },\n",
        "#         {'var_type':'fixed',\n",
        "#           'value': 10},\n",
        "    }\n"
      ],
      "metadata": {
        "id": "8L1EZmnbSD-G"
      },
      "execution_count": 13,
      "outputs": []
    },
    {
      "cell_type": "code",
      "source": [
        "EGOD = EfficientGlobalOptimizationDriver(**kwargs)\n",
        "EGOD.run()\n",
        "result = EGOD.result"
      ],
      "metadata": {
        "colab": {
          "base_uri": "https://localhost:8080/"
        },
        "id": "KkLndlCQSGRd",
        "outputId": "66677f37-1e8e-48c1-8cbc-01009645871e"
      },
      "execution_count": null,
      "outputs": [
        {
          "output_type": "stream",
          "name": "stdout",
          "text": [
            "\n",
            "\n",
            "\n",
            "\n",
            "Sizing a HPP plant at Denmark_good_wind:\n",
            "\n",
            "\n",
            "Fixed parameters on the site\n",
            "-------------------------------\n",
            "longitude = 8.594398\n",
            "latitude = 56.227322\n",
            "altitude = 85.0\n",
            "\n",
            "\n",
            "\n"
          ]
        }
      ]
    },
    {
      "cell_type": "code",
      "source": [],
      "metadata": {
        "id": "cbWAi8aCSH9d"
      },
      "execution_count": null,
      "outputs": []
    }
  ]
}