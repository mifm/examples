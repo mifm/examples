{
  "nbformat": 4,
  "nbformat_minor": 0,
  "metadata": {
    "colab": {
      "name": "Non-uniform weibull example.ipynb",
      "provenance": [],
      "authorship_tag": "ABX9TyOBXRNyyjoNl2s/qEqchpQ0",
      "include_colab_link": true
    },
    "kernelspec": {
      "name": "python3",
      "display_name": "Python 3"
    },
    "language_info": {
      "name": "python"
    }
  },
  "cells": [
    {
      "cell_type": "markdown",
      "metadata": {
        "id": "view-in-github",
        "colab_type": "text"
      },
      "source": [
        "<a href=\"https://colab.research.google.com/github/mifm/examples/blob/master/Non_uniform_weibull_example.ipynb\" target=\"_parent\"><img src=\"https://colab.research.google.com/assets/colab-badge.svg\" alt=\"Open In Colab\"/></a>"
      ]
    },
    {
      "cell_type": "code",
      "metadata": {
        "id": "r8tuV4jQq_OT"
      },
      "source": [
        "%%capture\n",
        "!pip install py_wake"
      ],
      "execution_count": 1,
      "outputs": []
    },
    {
      "cell_type": "code",
      "metadata": {
        "id": "qnJvMIqurF9t"
      },
      "source": [
        "import numpy as np\n",
        "from py_wake.site.xrsite import XRSite, UniformWeibullSite\n",
        "import xarray as xr\n",
        "from py_wake.examples.data.iea37._iea37 import IEA37_WindTurbines\n",
        "from py_wake.deficit_models.noj import NOJ\n",
        "\n",
        "f = np.random.rand(4,4,12)\n",
        "f = f/(f.sum(2)[:,:,np.newaxis])\n",
        "a = 9.1 + np.random.rand(4,4,12)*2\n",
        "k = 2.4 + np.random.rand(4,4,12)/5\n",
        "\n",
        "ds = xr.Dataset(\n",
        "    data_vars={'Sector_frequency': (['x', 'y', 'wd'], f), 'Weibull_A': (['x', 'y', 'wd'], a), 'Weibull_k': (['x', 'y', 'wd'], k)},\n",
        "    coords={'x': np.linspace(0,3000,4),\n",
        "            'y': np.linspace(0,3000,4),\n",
        "            'wd': np.linspace(0, 360, 12, endpoint=False)})\n",
        "ds['TI'] = 0\n",
        "site = XRSite(ds)\n",
        "\n",
        "windTurbines = IEA37_WindTurbines()\n",
        "wfm = NOJ(site, windTurbines)\n",
        "aep = wfm.aep(np.linspace(500,2500,5), np.linspace(500,2500,5))"
      ],
      "execution_count": 30,
      "outputs": []
    },
    {
      "cell_type": "code",
      "metadata": {
        "colab": {
          "base_uri": "https://localhost:8080/"
        },
        "id": "0XMvBeQXrHo4",
        "outputId": "4a68a8c1-7774-4291-b83d-9c738e51923c"
      },
      "source": [
        "aep"
      ],
      "execution_count": 31,
      "outputs": [
        {
          "output_type": "execute_result",
          "data": {
            "text/plain": [
              "76.76668227052392"
            ]
          },
          "metadata": {},
          "execution_count": 31
        }
      ]
    },
    {
      "cell_type": "code",
      "metadata": {
        "id": "rl2A8bbqrIMM"
      },
      "source": [
        "uniform_site = UniformWeibullSite(f[1,0,:], a[1,0,:], k[1,0,:], ti=0)\n",
        "wfm_uniform = NOJ(uniform_site, windTurbines)\n",
        "aep_uniform = wfm_uniform.aep(np.linspace(500,2500,5), np.linspace(500,2500,5))"
      ],
      "execution_count": 32,
      "outputs": []
    },
    {
      "cell_type": "code",
      "metadata": {
        "colab": {
          "base_uri": "https://localhost:8080/"
        },
        "id": "-dUImF2urymd",
        "outputId": "3e446617-374c-467d-927d-aa0bfc875884"
      },
      "source": [
        "aep_uniform"
      ],
      "execution_count": 33,
      "outputs": [
        {
          "output_type": "execute_result",
          "data": {
            "text/plain": [
              "80.4433777089329"
            ]
          },
          "metadata": {},
          "execution_count": 33
        }
      ]
    },
    {
      "cell_type": "code",
      "metadata": {
        "id": "zG_xMyK5r-4B"
      },
      "source": [
        ""
      ],
      "execution_count": null,
      "outputs": []
    }
  ]
}