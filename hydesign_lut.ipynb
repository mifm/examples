{
  "nbformat": 4,
  "nbformat_minor": 0,
  "metadata": {
    "colab": {
      "provenance": [],
      "authorship_tag": "ABX9TyNHNqh6HW6+leHOlBm9h2Et",
      "include_colab_link": true
    },
    "kernelspec": {
      "name": "python3",
      "display_name": "Python 3"
    },
    "language_info": {
      "name": "python"
    }
  },
  "cells": [
    {
      "cell_type": "markdown",
      "metadata": {
        "id": "view-in-github",
        "colab_type": "text"
      },
      "source": [
        "<a href=\"https://colab.research.google.com/github/mifm/examples/blob/master/hydesign_lut.ipynb\" target=\"_parent\"><img src=\"https://colab.research.google.com/assets/colab-badge.svg\" alt=\"Open In Colab\"/></a>"
      ]
    },
    {
      "cell_type": "code",
      "execution_count": 6,
      "metadata": {
        "id": "ZYE3rB5ag81R"
      },
      "outputs": [],
      "source": [
        "%%capture\n",
        "pip install git+https://gitlab.windenergy.dtu.dk/TOPFARM/hydesign.git@pyomo_jumu"
      ]
    },
    {
      "cell_type": "code",
      "source": [
        "from hydesign.look_up_tables import lut_filepath\n",
        "import os"
      ],
      "metadata": {
        "id": "QY0DoLuVhH-q"
      },
      "execution_count": 8,
      "outputs": []
    },
    {
      "cell_type": "code",
      "source": [
        "os.path.isfile(lut_filepath + 'genWT_v3.nc')"
      ],
      "metadata": {
        "colab": {
          "base_uri": "https://localhost:8080/"
        },
        "id": "rN5n8Y8ohVDw",
        "outputId": "5ecb7f95-e109-4e84-848c-c1b9522ccb84"
      },
      "execution_count": 4,
      "outputs": [
        {
          "output_type": "execute_result",
          "data": {
            "text/plain": [
              "True"
            ]
          },
          "metadata": {},
          "execution_count": 4
        }
      ]
    }
  ]
}