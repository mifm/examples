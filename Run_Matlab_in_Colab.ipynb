{
  "nbformat": 4,
  "nbformat_minor": 0,
  "metadata": {
    "colab": {
      "provenance": [],
      "authorship_tag": "ABX9TyOsNrfECMMhsCB14J3JL7nt",
      "include_colab_link": true
    },
    "kernelspec": {
      "name": "python3",
      "display_name": "Python 3"
    },
    "language_info": {
      "name": "python"
    }
  },
  "cells": [
    {
      "cell_type": "markdown",
      "metadata": {
        "id": "view-in-github",
        "colab_type": "text"
      },
      "source": [
        "<a href=\"https://colab.research.google.com/github/mifm/examples/blob/master/Run_Matlab_in_Colab.ipynb\" target=\"_parent\"><img src=\"https://colab.research.google.com/assets/colab-badge.svg\" alt=\"Open In Colab\"/></a>"
      ]
    },
    {
      "cell_type": "markdown",
      "source": [
        "https://se.mathworks.com/help/compiler/install-the-matlab-runtime.html\n",
        "\n",
        "https://se.mathworks.com/products/compiler/matlab-runtime.html\n",
        "\n",
        "https://www.opencvhelp.org/tutorials/matlab/how-to-run-matlab-code-in-google-colab/\n",
        "\n",
        "https://se.mathworks.com/videos/using-simulink-with-python-1683218506123.html\n",
        "\n",
        "https://se.mathworks.com/matlabcentral/answers/102061-what-is-the-version-of-the-matlab-compiler-runtime-mcr-that-corresponds-to-the-version-of-matlab-c\n",
        "\n",
        "https://se.mathworks.com/help/compiler/mcr-path-settings-for-run-time-deployment.html#mw_76d53b44-f6eb-4dc7-915c-94c4a8f2e222\n",
        "\n",
        "https://github.com/mifm/MagicSquarePkg\n",
        "\n",
        "https://se.mathworks.com/help/compiler_sdk/gs/create-a-python-application-with-matlab-code.html\n",
        "\n"
      ],
      "metadata": {
        "id": "tejqNTjCxGQB"
      }
    },
    {
      "cell_type": "code",
      "execution_count": 1,
      "metadata": {
        "colab": {
          "base_uri": "https://localhost:8080/"
        },
        "id": "C3N2YXO56y0_",
        "outputId": "d4b58565-5cf9-4452-d013-9fefc2d84c2c"
      },
      "outputs": [
        {
          "output_type": "stream",
          "name": "stdout",
          "text": [
            "--2024-11-01 09:35:30--  https://ssd.mathworks.com/supportfiles/downloads/R2022b/Release/10/deployment_files/installer/complete/glnxa64/MATLAB_Runtime_R2022b_Update_10_glnxa64.zip\n",
            "Resolving ssd.mathworks.com (ssd.mathworks.com)... 23.60.23.41\n",
            "Connecting to ssd.mathworks.com (ssd.mathworks.com)|23.60.23.41|:443... connected.\n",
            "HTTP request sent, awaiting response... 200 OK\n",
            "Length: 4179540068 (3.9G) [application/zip]\n",
            "Saving to: ‘MATLAB_Runtime_R2022b_Update_10_glnxa64.zip’\n",
            "\n",
            "MATLAB_Runtime_R202 100%[===================>]   3.89G   180MB/s    in 32s     \n",
            "\n",
            "2024-11-01 09:36:02 (124 MB/s) - ‘MATLAB_Runtime_R2022b_Update_10_glnxa64.zip’ saved [4179540068/4179540068]\n",
            "\n"
          ]
        }
      ],
      "source": [
        "# this is for code compiled with Matlab R2022b (9.13)\n",
        "!wget https://ssd.mathworks.com/supportfiles/downloads/R2022b/Release/10/deployment_files/installer/complete/glnxa64/MATLAB_Runtime_R2022b_Update_10_glnxa64.zip"
      ]
    },
    {
      "cell_type": "code",
      "source": [
        "%%capture\n",
        "!unzip MATLAB_Runtime_R2022b_Update_10_glnxa64.zip"
      ],
      "metadata": {
        "collapsed": true,
        "id": "LrvlYm_J65Tx"
      },
      "execution_count": 2,
      "outputs": []
    },
    {
      "cell_type": "code",
      "source": [
        "!sudo ./install -agreeToLicense yes"
      ],
      "metadata": {
        "id": "FtIoATl47GWZ"
      },
      "execution_count": 3,
      "outputs": []
    },
    {
      "cell_type": "code",
      "source": [
        "!pip install git+https://github.com/mifm/MagicSquarePkg.git"
      ],
      "metadata": {
        "id": "MG75jmsZ8-R7",
        "outputId": "14c143d2-2d39-49b4-9d78-185e14692107",
        "colab": {
          "base_uri": "https://localhost:8080/"
        }
      },
      "execution_count": 4,
      "outputs": [
        {
          "output_type": "stream",
          "name": "stdout",
          "text": [
            "Collecting git+https://github.com/mifm/MagicSquarePkg.git\n",
            "  Cloning https://github.com/mifm/MagicSquarePkg.git to /tmp/pip-req-build-wo3q8jpe\n",
            "  Running command git clone --filter=blob:none --quiet https://github.com/mifm/MagicSquarePkg.git /tmp/pip-req-build-wo3q8jpe\n",
            "  Resolved https://github.com/mifm/MagicSquarePkg.git to commit 2674a171f7bf7045c12103f9466d9dafc944a375\n",
            "  Installing build dependencies ... \u001b[?25l\u001b[?25hdone\n",
            "  Getting requirements to build wheel ... \u001b[?25l\u001b[?25hdone\n",
            "  Preparing metadata (pyproject.toml) ... \u001b[?25l\u001b[?25hdone\n",
            "Building wheels for collected packages: MagicSquarePkg-R2022b\n",
            "  Building wheel for MagicSquarePkg-R2022b (pyproject.toml) ... \u001b[?25l\u001b[?25hdone\n",
            "  Created wheel for MagicSquarePkg-R2022b: filename=MagicSquarePkg_R2022b-9.13-py3-none-any.whl size=56949 sha256=2982fa911b96684fd6768e17270bc57a16a965f0a84a50b315ee25b980ca6f1a\n",
            "  Stored in directory: /tmp/pip-ephem-wheel-cache-79z8b39g/wheels/0c/8e/a1/d0aef4ad90e2a4ffeb7c5d1fd876e5d6749fe8c5fd9b33fc73\n",
            "Successfully built MagicSquarePkg-R2022b\n",
            "Installing collected packages: MagicSquarePkg-R2022b\n",
            "Successfully installed MagicSquarePkg-R2022b-9.13\n"
          ]
        }
      ]
    },
    {
      "cell_type": "code",
      "source": [
        "import os\n",
        "os.environ['LD_LIBRARY_PATH']= '/usr/local/MATLAB/MATLAB_Runtime/R2022b/runtime/glnxa64' + ':' +\\\n",
        "                                '/usr/local/MATLAB/MATLAB_Runtime/R2022b/bin/glnxa64' + ':' +\\\n",
        "                                '/usr/local/MATLAB/MATLAB_Runtime/R2022b/sys/os/glnxa64' + ':' +\\\n",
        "                                '/usr/local/MATLAB/MATLAB_Runtime/R2022b/extern/bin/glnxa64'"
      ],
      "metadata": {
        "id": "4uvacalS6OPH"
      },
      "execution_count": 5,
      "outputs": []
    },
    {
      "cell_type": "code",
      "source": [
        "!echo $LD_LIBRARY_PATH"
      ],
      "metadata": {
        "id": "ghUqIeN613st",
        "outputId": "782c6160-cf21-4e01-dd5b-11e82ebc8967",
        "colab": {
          "base_uri": "https://localhost:8080/"
        }
      },
      "execution_count": 6,
      "outputs": [
        {
          "output_type": "stream",
          "name": "stdout",
          "text": [
            "/usr/local/MATLAB/MATLAB_Runtime/R2022b/runtime/glnxa64:/usr/local/MATLAB/MATLAB_Runtime/R2022b/bin/glnxa64:/usr/local/MATLAB/MATLAB_Runtime/R2022b/sys/os/glnxa64:/usr/local/MATLAB/MATLAB_Runtime/R2022b/extern/bin/glnxa64\n"
          ]
        }
      ]
    },
    {
      "cell_type": "code",
      "source": [
        "import MagicSquarePkg\n"
      ],
      "metadata": {
        "id": "Paejjtbf7yMR"
      },
      "execution_count": 8,
      "outputs": []
    },
    {
      "cell_type": "code",
      "source": [
        "import matlab"
      ],
      "metadata": {
        "id": "v4OY-I1u76mB"
      },
      "execution_count": 14,
      "outputs": []
    },
    {
      "cell_type": "code",
      "source": [
        "my_MagicSquarePkg = MagicSquarePkg.initialize()"
      ],
      "metadata": {
        "id": "Z0LI33-S9edS"
      },
      "execution_count": 15,
      "outputs": []
    },
    {
      "cell_type": "code",
      "source": [
        "xIn = matlab.double([5], size=(1, 1))\n",
        "yOut = my_MagicSquarePkg.makesqr(xIn)\n",
        "print(yOut, sep='\\\\n')"
      ],
      "metadata": {
        "id": "Y4hnmbEC9jFR",
        "outputId": "def364c0-bce7-45fe-ef9b-76403c971e92",
        "colab": {
          "base_uri": "https://localhost:8080/"
        }
      },
      "execution_count": 16,
      "outputs": [
        {
          "output_type": "stream",
          "name": "stdout",
          "text": [
            "[[17.0,24.0,1.0,8.0,15.0],[23.0,5.0,7.0,14.0,16.0],[4.0,6.0,13.0,20.0,22.0],[10.0,12.0,19.0,21.0,3.0],[11.0,18.0,25.0,2.0,9.0]]\n"
          ]
        }
      ]
    },
    {
      "cell_type": "code",
      "source": [
        "my_MagicSquarePkg.terminate()"
      ],
      "metadata": {
        "id": "4R1TLvY4911J"
      },
      "execution_count": 17,
      "outputs": []
    },
    {
      "cell_type": "code",
      "source": [],
      "metadata": {
        "id": "bSuPAcetE05S"
      },
      "execution_count": 13,
      "outputs": []
    }
  ]
}