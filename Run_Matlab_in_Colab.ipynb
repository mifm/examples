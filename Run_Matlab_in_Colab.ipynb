{
  "nbformat": 4,
  "nbformat_minor": 0,
  "metadata": {
    "colab": {
      "provenance": [],
      "authorship_tag": "ABX9TyNm2j/RqwtPKtcgupnHN5sX",
      "include_colab_link": true
    },
    "kernelspec": {
      "name": "python3",
      "display_name": "Python 3"
    },
    "language_info": {
      "name": "python"
    }
  },
  "cells": [
    {
      "cell_type": "markdown",
      "metadata": {
        "id": "view-in-github",
        "colab_type": "text"
      },
      "source": [
        "<a href=\"https://colab.research.google.com/github/mifm/examples/blob/master/Run_Matlab_in_Colab.ipynb\" target=\"_parent\"><img src=\"https://colab.research.google.com/assets/colab-badge.svg\" alt=\"Open In Colab\"/></a>"
      ]
    },
    {
      "cell_type": "markdown",
      "source": [
        "https://se.mathworks.com/help/compiler/install-the-matlab-runtime.html\n",
        "\n",
        "https://se.mathworks.com/products/compiler/matlab-runtime.html\n",
        "\n",
        "https://www.opencvhelp.org/tutorials/matlab/how-to-run-matlab-code-in-google-colab/\n",
        "\n",
        "https://se.mathworks.com/videos/using-simulink-with-python-1683218506123.html\n",
        "\n",
        "https://se.mathworks.com/matlabcentral/answers/102061-what-is-the-version-of-the-matlab-compiler-runtime-mcr-that-corresponds-to-the-version-of-matlab-c\n",
        "\n",
        "https://se.mathworks.com/help/compiler/mcr-path-settings-for-run-time-deployment.html#mw_76d53b44-f6eb-4dc7-915c-94c4a8f2e222\n",
        "\n",
        "https://github.com/mifm/MagicSquarePkg\n",
        "\n",
        "https://se.mathworks.com/help/compiler_sdk/gs/create-a-python-application-with-matlab-code.html\n",
        "\n"
      ],
      "metadata": {
        "id": "tejqNTjCxGQB"
      }
    },
    {
      "cell_type": "code",
      "execution_count": 14,
      "metadata": {
        "colab": {
          "base_uri": "https://localhost:8080/"
        },
        "id": "C3N2YXO56y0_",
        "outputId": "e44f857b-5139-474a-ec24-98d170937ed6"
      },
      "outputs": [
        {
          "output_type": "stream",
          "name": "stdout",
          "text": [
            "--2024-11-01 13:06:22--  https://ssd.mathworks.com/supportfiles/downloads/R2023b/Release/9/deployment_files/installer/complete/glnxa64/MATLAB_Runtime_R2023b_Update_9_glnxa64.zip\n",
            "Resolving ssd.mathworks.com (ssd.mathworks.com)... 23.196.156.41\n",
            "Connecting to ssd.mathworks.com (ssd.mathworks.com)|23.196.156.41|:443... connected.\n",
            "HTTP request sent, awaiting response... 200 OK\n",
            "Length: 4837025616 (4.5G) [application/zip]\n",
            "Saving to: ‘MATLAB_Runtime_R2023b_Update_9_glnxa64.zip’\n",
            "\n",
            "MATLAB_Runtime_R202 100%[===================>]   4.50G  1.31MB/s    in 46m 33s \n",
            "\n",
            "2024-11-01 13:52:57 (1.65 MB/s) - ‘MATLAB_Runtime_R2023b_Update_9_glnxa64.zip’ saved [4837025616/4837025616]\n",
            "\n"
          ]
        }
      ],
      "source": [
        "# this is for code compiled with Matlab R2022b (9.13)\n",
        "!wget https://ssd.mathworks.com/supportfiles/downloads/R2023b/Release/9/deployment_files/installer/complete/glnxa64/MATLAB_Runtime_R2023b_Update_9_glnxa64.zip"
      ]
    },
    {
      "cell_type": "code",
      "source": [
        "%%capture\n",
        "!unzip MATLAB_Runtime_R2023b_Update_9_glnxa64.zip"
      ],
      "metadata": {
        "collapsed": true,
        "id": "LrvlYm_J65Tx"
      },
      "execution_count": 15,
      "outputs": []
    },
    {
      "cell_type": "code",
      "source": [
        "!sudo ./install -agreeToLicense yes"
      ],
      "metadata": {
        "id": "FtIoATl47GWZ"
      },
      "execution_count": 16,
      "outputs": []
    },
    {
      "cell_type": "code",
      "source": [
        "# !pip install git+https://github.com/mifm/MagicSquarePkg.git"
      ],
      "metadata": {
        "id": "MG75jmsZ8-R7"
      },
      "execution_count": 17,
      "outputs": []
    },
    {
      "cell_type": "code",
      "source": [
        "import os\n",
        "os.environ['LD_LIBRARY_PATH']= '/usr/local/MATLAB/MATLAB_Runtime/R2023b/runtime/glnxa64' + ':' +\\\n",
        "                                '/usr/local/MATLAB/MATLAB_Runtime/R2023b/bin/glnxa64' + ':' +\\\n",
        "                                '/usr/local/MATLAB/MATLAB_Runtime/R2023b/sys/os/glnxa64' + ':' +\\\n",
        "                                '/usr/local/MATLAB/MATLAB_Runtime/R2023b/extern/bin/glnxa64'"
      ],
      "metadata": {
        "id": "4uvacalS6OPH"
      },
      "execution_count": 18,
      "outputs": []
    },
    {
      "cell_type": "code",
      "source": [
        "# !echo $LD_LIBRARY_PATH"
      ],
      "metadata": {
        "id": "ghUqIeN613st"
      },
      "execution_count": 19,
      "outputs": []
    },
    {
      "cell_type": "code",
      "source": [
        "# import MagicSquarePkg\n"
      ],
      "metadata": {
        "id": "Paejjtbf7yMR"
      },
      "execution_count": 20,
      "outputs": []
    },
    {
      "cell_type": "code",
      "source": [
        "# import matlab"
      ],
      "metadata": {
        "id": "v4OY-I1u76mB"
      },
      "execution_count": 21,
      "outputs": []
    },
    {
      "cell_type": "code",
      "source": [
        "# my_MagicSquarePkg = MagicSquarePkg.initialize()"
      ],
      "metadata": {
        "id": "Z0LI33-S9edS"
      },
      "execution_count": 22,
      "outputs": []
    },
    {
      "cell_type": "code",
      "source": [
        "# xIn = matlab.double([5], size=(1, 1))\n",
        "# yOut = my_MagicSquarePkg.makesqr(xIn)\n",
        "# print(yOut, sep='\\\\n')"
      ],
      "metadata": {
        "id": "Y4hnmbEC9jFR"
      },
      "execution_count": 23,
      "outputs": []
    },
    {
      "cell_type": "code",
      "source": [
        "# my_MagicSquarePkg.terminate()"
      ],
      "metadata": {
        "id": "4R1TLvY4911J"
      },
      "execution_count": 24,
      "outputs": []
    },
    {
      "cell_type": "code",
      "source": [
        "!pip install git+https://github.com/mifm/RunSimulinkPkg.git"
      ],
      "metadata": {
        "id": "bSuPAcetE05S",
        "outputId": "78a6b03e-6654-4939-9daa-fe6e90e0f040",
        "colab": {
          "base_uri": "https://localhost:8080/"
        }
      },
      "execution_count": 25,
      "outputs": [
        {
          "output_type": "stream",
          "name": "stdout",
          "text": [
            "Collecting git+https://github.com/mifm/RunSimulinkPkg.git\n",
            "  Cloning https://github.com/mifm/RunSimulinkPkg.git to /tmp/pip-req-build-mn1rmwg9\n",
            "  Running command git clone --filter=blob:none --quiet https://github.com/mifm/RunSimulinkPkg.git /tmp/pip-req-build-mn1rmwg9\n",
            "  Resolved https://github.com/mifm/RunSimulinkPkg.git to commit 8973f528a5eb0dddd6031e08622222872a9ee397\n",
            "  Installing build dependencies ... \u001b[?25l\u001b[?25hdone\n",
            "  Getting requirements to build wheel ... \u001b[?25l\u001b[?25hdone\n",
            "  Preparing metadata (pyproject.toml) ... \u001b[?25l\u001b[?25hdone\n",
            "Building wheels for collected packages: RunSimulinkPkg-R2023b\n",
            "  Building wheel for RunSimulinkPkg-R2023b (pyproject.toml) ... \u001b[?25l\u001b[?25hdone\n",
            "  Created wheel for RunSimulinkPkg-R2023b: filename=RunSimulinkPkg_R2023b-23.2-py3-none-any.whl size=224739 sha256=1cc1610bd58607373c78657db18de271478b5b13ced706ebd1634e46b83cc7aa\n",
            "  Stored in directory: /tmp/pip-ephem-wheel-cache-5nc6wbop/wheels/4d/2b/4a/5939957e3719647e59c830c98c5c446619a8b0f166330782f3\n",
            "Successfully built RunSimulinkPkg-R2023b\n",
            "Installing collected packages: RunSimulinkPkg-R2023b\n",
            "Successfully installed RunSimulinkPkg-R2023b-23.2\n"
          ]
        }
      ]
    },
    {
      "cell_type": "code",
      "source": [
        "import RunSimulinkPkg\n",
        "# Import the matlab module only after you have imported\n",
        "# MATLAB Compiler SDK generated Python modules.\n",
        "import matlab\n",
        "\n",
        "try:\n",
        "    my_RunSimulinkPkg = RunSimulinkPkg.initialize()\n",
        "except Exception as e:\n",
        "    print('Error initializing RunSimulinkPkg package\\\\n:{}'.format(e))\n",
        "    exit(1)\n",
        "\n",
        "try:\n",
        "    aIn = matlab.double([0.1], size=(1, 1))\n",
        "    bIn = matlab.double([-130], size=(1, 1))\n",
        "    cOut = my_RunSimulinkPkg.run_simulink(aIn, bIn)\n",
        "    print(cOut, sep='\\\\n')\n",
        "except Exception as e:\n",
        "    print('Error occurred during program execution\\\\n:{}'.format(e))\n",
        "\n",
        "my_RunSimulinkPkg.terminate()"
      ],
      "metadata": {
        "id": "PopxBORu1Cyc",
        "outputId": "f54588f7-d125-43f2-e212-3f9deffd0111",
        "colab": {
          "base_uri": "https://localhost:8080/"
        }
      },
      "execution_count": 26,
      "outputs": [
        {
          "output_type": "stream",
          "name": "stdout",
          "text": [
            "Error occurred during program execution\\n:An error occurred when evaluating the result from a function. Details: \n",
            "  File /root/.mcrCache23.2/RunSim0/RunSimulinkP/run_simulink.m, line 5, in run_simulink\n",
            "The current simulation mode is unknown or not supported in deployment.  Please set SimulationMode model parameter to 'Rapid', using Simulink.SimulationInput object.\n",
            "\n"
          ]
        }
      ]
    }
  ]
}