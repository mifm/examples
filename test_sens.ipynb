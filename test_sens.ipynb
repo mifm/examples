{
  "nbformat": 4,
  "nbformat_minor": 0,
  "metadata": {
    "colab": {
      "name": "test_sens.ipynb",
      "provenance": [],
      "collapsed_sections": [],
      "authorship_tag": "ABX9TyPoS4F8MjxDAalREo+b7u7v",
      "include_colab_link": true
    },
    "kernelspec": {
      "name": "python3",
      "display_name": "Python 3"
    },
    "language_info": {
      "name": "python"
    }
  },
  "cells": [
    {
      "cell_type": "markdown",
      "metadata": {
        "id": "view-in-github",
        "colab_type": "text"
      },
      "source": [
        "<a href=\"https://colab.research.google.com/github/mifm/examples/blob/master/test_sens.ipynb\" target=\"_parent\"><img src=\"https://colab.research.google.com/assets/colab-badge.svg\" alt=\"Open In Colab\"/></a>"
      ]
    },
    {
      "cell_type": "code",
      "metadata": {
        "id": "d3kuIXefahei"
      },
      "source": [
        "%%capture\n",
        "!pip install topfarm"
      ],
      "execution_count": 13,
      "outputs": []
    },
    {
      "cell_type": "code",
      "metadata": {
        "id": "amiIyZfFbg7J"
      },
      "source": [
        "import numpy as np\n",
        "from py_wake.examples.data.iea37._iea37 import IEA37_WindTurbines, IEA37Site\n",
        "from py_wake.deficit_models.gaussian import IEA37SimpleBastankhahGaussian\n",
        "from topfarm.cost_models.economic_models.dtu_wind_cm_main import economic_evaluation as ee_2"
      ],
      "execution_count": 14,
      "outputs": []
    },
    {
      "cell_type": "code",
      "metadata": {
        "colab": {
          "base_uri": "https://localhost:8080/",
          "height": 520
        },
        "id": "z1I-3Wu7aQ75",
        "outputId": "d62737d3-7c01-400c-ca52-80c652c8b058"
      },
      "source": [
        "# site set up\n",
        "n_wt = 9 # number of wind turbines\n",
        "site = IEA37Site(n_wt) # site is the IEA Wind Task 37 site with a circle boundary\n",
        "windTurbines = IEA37_WindTurbines() # wind turbines are the IEA Wind Task 37 3.4 MW reference turbine\n",
        "wake_model = IEA37SimpleBastankhahGaussian(site, windTurbines) # select the Gaussian wake model\n",
        "\n",
        "# vectors for turbine properties: diameter, rated power and hub height\n",
        "# these are inputs to the cost model\n",
        "diameters = [50, 65, 90]\n",
        "for d in diameters:\n",
        "    windTurbines._diameters[0] = d\n",
        "    Drotor_vector = [windTurbines.diameter()] * n_wt \n",
        "    power_rated_vector = [float(windTurbines.power(20))*1e-6] * n_wt \n",
        "    hub_height_vector = [windTurbines.hub_height()] * n_wt \n",
        "    \n",
        "    # add additional cost model inputs for shore distance, energy price, project lifetime, rated rotor speed and water depth\n",
        "    distance_from_shore = 30         # [km]\n",
        "    energy_price = 0.1               # [Euro/kWh] What we get per kWh\n",
        "    project_duration = 20            # [years]    \n",
        "    rated_rpm_array = [12] * n_wt    # [rpm]\n",
        "    water_depth_array = [15] * n_wt  # [m]\n",
        "    \n",
        "    # set up function for new cost model with initial inputs as set above\n",
        "    eco_eval = ee_2(distance_from_shore, energy_price, project_duration)\n",
        "    \n",
        "    # calculate aep as a function of x,y positions of the wind turbiens\n",
        "    aep = wake_model(site.initial_position[:,0], site.initial_position[:,1]).aep().sum(['wd','ws']).values*10**6\n",
        "    \n",
        "    # calculate overall internal rate of return (IRR)\n",
        "    eco_eval.IRR = eco_eval.calculate_irr(rated_rpm_array, Drotor_vector, power_rated_vector, hub_height_vector, water_depth_array, aep)\n",
        "    \n",
        "    # calculate LCOE\n",
        "    LCOE = (eco_eval.project_costs_sums['DEVEX']+eco_eval.project_costs_sums['CAPEX']+eco_eval.project_costs_sums['OPEX']+eco_eval.project_costs_sums['ABEX'])/((np.sum(aep))*project_duration)\n",
        "    \n",
        "    # plot layout\n",
        "    windTurbines.plot_xy(site.initial_position[:,0], site.initial_position[:,1])\n",
        "    \n",
        "    # print aep, IRR\n",
        "    print(windTurbines.diameter(0))\n",
        "    print(np.sum(aep))\n",
        "    print(eco_eval.IRR)\n",
        "    print(LCOE)\n",
        "    print('')\n"
      ],
      "execution_count": 15,
      "outputs": [
        {
          "output_type": "stream",
          "text": [
            "50.0\n",
            "243670029.00515404\n",
            "21.639770607791608\n",
            "0.018882519748510088\n",
            "\n",
            "65.0\n",
            "234461544.74851143\n",
            "19.976001706769587\n",
            "0.020046645966031593\n",
            "\n",
            "90.0\n",
            "218960152.4177442\n",
            "17.035754689358917\n",
            "0.02249469482826575\n",
            "\n"
          ],
          "name": "stdout"
        },
        {
          "output_type": "display_data",
          "data": {
            "image/png": "[encoded data removed]",
            "text/plain": [
              "<Figure size 432x288 with 1 Axes>"
            ]
          },
          "metadata": {
            "tags": [],
            "needs_background": "light"
          }
        }
      ]
    },
    {
      "cell_type": "code",
      "metadata": {
        "id": "TH40XQhacOaD"
      },
      "source": [
        ""
      ],
      "execution_count": null,
      "outputs": []
    }
  ]
}