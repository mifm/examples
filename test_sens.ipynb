{
  "nbformat": 4,
  "nbformat_minor": 0,
  "metadata": {
    "colab": {
      "name": "test_sens.ipynb",
      "provenance": [],
      "collapsed_sections": [],
      "authorship_tag": "ABX9TyNWT7jCQJ5nk3oGuQpA6nhu",
      "include_colab_link": true
    },
    "kernelspec": {
      "name": "python3",
      "display_name": "Python 3"
    },
    "language_info": {
      "name": "python"
    }
  },
  "cells": [
    {
      "cell_type": "markdown",
      "metadata": {
        "id": "view-in-github",
        "colab_type": "text"
      },
      "source": [
        "<a href=\"https://colab.research.google.com/github/mifm/examples/blob/master/test_sens.ipynb\" target=\"_parent\"><img src=\"https://colab.research.google.com/assets/colab-badge.svg\" alt=\"Open In Colab\"/></a>"
      ]
    },
    {
      "cell_type": "code",
      "metadata": {
        "id": "d3kuIXefahei"
      },
      "source": [
        "%%capture\n",
        "import importlib\n",
        "if not importlib.util.find_spec(\"topfarm\"):\n",
        "  !pip install topfarm"
      ],
      "execution_count": 2,
      "outputs": []
    },
    {
      "cell_type": "code",
      "metadata": {
        "id": "amiIyZfFbg7J"
      },
      "source": [
        "# Import numerical python\n",
        "import numpy as np\n",
        "import yaml\n",
        "\n",
        "# Import pywake models including the IEA Wind Task 37 case study site, the Gaussian wake model and the AEP calculator\n",
        "from py_wake.wind_turbines._wind_turbines import WindTurbines\n",
        "from py_wake.deficit_models.gaussian import IEA37SimpleBastankhahGaussian\n",
        "from py_wake.rotor_avg_models.rotor_avg_model import EqGridRotorAvg\n",
        "from py_wake.wind_turbines.power_ct_functions import CubePowerSimpleCt\n",
        "from py_wake.site import UniformWeibullSite\n",
        "from py_wake.examples.data.iea37.iea37_reader import read_iea37_windfarm\n",
        "from py_wake.examples.data.iea37 import iea37_path\n",
        "# Import the DTU cost model\n",
        "from topfarm.cost_models.economic_models.dtu_wind_cm_main import economic_evaluation as ee_2"
      ],
      "execution_count": 3,
      "outputs": []
    },
    {
      "cell_type": "code",
      "metadata": {
        "id": "RKfgygeWcCu9"
      },
      "source": [
        "def read_iea37_windrose_weib(filename):\n",
        "    with open(filename, 'r') as f:\n",
        "        data = yaml.load(f, Loader=yaml.SafeLoader)\n",
        "    prop = data['definitions']['wind_inflow']['properties']\n",
        "    wdir = prop['direction']['bins']\n",
        "    A = prop['speed']['A']\n",
        "    k = prop['speed']['k']\n",
        "    p_wdir = prop['probability']['default']\n",
        "    return map(np.atleast_1d, (wdir, A, k, p_wdir))\n",
        "\n",
        "class MySite(UniformWeibullSite):\n",
        "    def __init__(self, n_wt, ti=.075, shear=None, path=iea37_path + \"iea37-windrose_weib.yaml\"):\n",
        "        assert n_wt in [9, 16, 36, 64]\n",
        "\n",
        "        wdir, a, k, freq = read_iea37_windrose_weib(path)\n",
        "        UniformWeibullSite.__init__(self, freq, a, k, ti, shear=shear)\n",
        "        self.initial_position = np.array(read_iea37_windfarm(iea37_path + 'iea37-ex%d.yaml' % n_wt)[:2]).T\n"
      ],
      "execution_count": 4,
      "outputs": []
    },
    {
      "cell_type": "code",
      "metadata": {
        "colab": {
          "base_uri": "https://localhost:8080/",
          "height": 370
        },
        "id": "z1I-3Wu7aQ75",
        "outputId": "1df5fd0c-7914-44ca-a423-6c8dba4cd020"
      },
      "source": [
        "# site set up\n",
        "n_wt = 9 # number of wind turbines\n",
        "site = MySite(n_wt, path='data/iea37-windrose_weib.yaml') # site is the IEA Wind Task 37 site with a circle boundary\n",
        "windTurbines = IEA37_WindTurbines() # wind turbines are the IEA Wind Task 37 3.4 MW reference turbine\n",
        "wake_model = IEA37SimpleBastankhahGaussian(site, windTurbines) # select the Gaussian wake model\n",
        "\n",
        "# vectors for turbine properties: diameter, rated power and hub height\n",
        "# these are inputs to the cost model\n",
        "diameters = np.asarray([50, 65, 90])\n",
        "rated_powers = np.asarray([1.0, 3.35, 5]) * 10**6\n",
        "nd = diameters.size\n",
        "nrp = rated_powers.size\n",
        "xr_data = {k: ([\"diameter\", \"rated_power\"], np.zeros((nd, nrp))) for k in ['D', 'Rated Power', 'AEP', 'IRR', 'LCOE']}\n",
        "for i, d in enumerate(diameters):\n",
        "    for j, rated_power in enumerate(rated_powers):\n",
        "        windTurbines._diameters[0] = d\n",
        "        windTurbines.powerCtFunction.power_rated = rated_power\n",
        "        Drotor_vector = [windTurbines.diameter()] * n_wt \n",
        "        power_rated_vector = [float(windTurbines.power(20))*1e-6] * n_wt \n",
        "        hub_height_vector = [windTurbines.hub_height()] * n_wt \n",
        "        \n",
        "        # add additional cost model inputs for shore distance, energy price, project lifetime, rated rotor speed and water depth\n",
        "        distance_from_shore = 30         # [km]\n",
        "        energy_price = 0.1               # [Euro/kWh] What we get per kWh\n",
        "        project_duration = 20            # [years]    \n",
        "        rated_rpm_array = [12] * n_wt    # [rpm]\n",
        "        water_depth_array = [15] * n_wt  # [m]\n",
        "        \n",
        "        # set up function for new cost model with initial inputs as set above\n",
        "        eco_eval = ee_2(distance_from_shore, energy_price, project_duration)\n",
        "        \n",
        "        # calculate aep as a function of x,y positions of the wind turbiens\n",
        "        aep = wake_model(site.initial_position[:,0], site.initial_position[:,1], ws=np.arange(5, 15)).aep().sum(['wd','ws']).values*10**6\n",
        "        \n",
        "        # calculate overall internal rate of return (IRR)\n",
        "        eco_eval.IRR = eco_eval.calculate_irr(rated_rpm_array, Drotor_vector, power_rated_vector, hub_height_vector, water_depth_array, aep)\n",
        "        \n",
        "        # calculate LCOE\n",
        "        LCOE = (eco_eval.project_costs_sums['DEVEX']+eco_eval.project_costs_sums['CAPEX']+eco_eval.project_costs_sums['OPEX']+eco_eval.project_costs_sums['ABEX'])/((np.sum(aep))*project_duration)\n",
        "        \n",
        "        # plot layout\n",
        "        windTurbines.plot_xy(site.initial_position[:,0], site.initial_position[:,1])\n",
        "        \n",
        "        xr_data['D'][1][i, j] = windTurbines.diameter(0)\n",
        "        xr_data['Rated Power'][1][i, j] = rated_power\n",
        "        xr_data['AEP'][1][i, j] = np.sum(aep)\n",
        "        xr_data['IRR'][1][i, j] = eco_eval.IRR\n",
        "        xr_data['LCOE'][1][i, j] = LCOE\n",
        "ds = xr.Dataset(xr_data, coords={\"diameter\":diameters, \"rated_power\":rated_powers})\n",
        "ds"
      ],
      "execution_count": 5,
      "outputs": [
        {
          "output_type": "error",
          "ename": "FileNotFoundError",
          "evalue": "ignored",
          "traceback": [
            "\u001b[0;31m---------------------------------------------------------------------------\u001b[0m",
            "\u001b[0;31mFileNotFoundError\u001b[0m                         Traceback (most recent call last)",
            "\u001b[0;32m<ipython-input-5-1700feff149f>\u001b[0m in \u001b[0;36m<module>\u001b[0;34m()\u001b[0m\n\u001b[1;32m      1\u001b[0m \u001b[0;31m# site set up\u001b[0m\u001b[0;34m\u001b[0m\u001b[0;34m\u001b[0m\u001b[0;34m\u001b[0m\u001b[0m\n\u001b[1;32m      2\u001b[0m \u001b[0mn_wt\u001b[0m \u001b[0;34m=\u001b[0m \u001b[0;36m9\u001b[0m \u001b[0;31m# number of wind turbines\u001b[0m\u001b[0;34m\u001b[0m\u001b[0;34m\u001b[0m\u001b[0m\n\u001b[0;32m----> 3\u001b[0;31m \u001b[0msite\u001b[0m \u001b[0;34m=\u001b[0m \u001b[0mMySite\u001b[0m\u001b[0;34m(\u001b[0m\u001b[0mn_wt\u001b[0m\u001b[0;34m)\u001b[0m \u001b[0;31m# site is the IEA Wind Task 37 site with a circle boundary\u001b[0m\u001b[0;34m\u001b[0m\u001b[0;34m\u001b[0m\u001b[0m\n\u001b[0m\u001b[1;32m      4\u001b[0m \u001b[0mwindTurbines\u001b[0m \u001b[0;34m=\u001b[0m \u001b[0mIEA37_WindTurbines\u001b[0m\u001b[0;34m(\u001b[0m\u001b[0;34m)\u001b[0m \u001b[0;31m# wind turbines are the IEA Wind Task 37 3.4 MW reference turbine\u001b[0m\u001b[0;34m\u001b[0m\u001b[0;34m\u001b[0m\u001b[0m\n\u001b[1;32m      5\u001b[0m \u001b[0mwake_model\u001b[0m \u001b[0;34m=\u001b[0m \u001b[0mIEA37SimpleBastankhahGaussian\u001b[0m\u001b[0;34m(\u001b[0m\u001b[0msite\u001b[0m\u001b[0;34m,\u001b[0m \u001b[0mwindTurbines\u001b[0m\u001b[0;34m)\u001b[0m \u001b[0;31m# select the Gaussian wake model\u001b[0m\u001b[0;34m\u001b[0m\u001b[0;34m\u001b[0m\u001b[0m\n",
            "\u001b[0;32m<ipython-input-4-c101126f1e1f>\u001b[0m in \u001b[0;36m__init__\u001b[0;34m(self, n_wt, ti, shear)\u001b[0m\n\u001b[1;32m     13\u001b[0m         \u001b[0;32massert\u001b[0m \u001b[0mn_wt\u001b[0m \u001b[0;32min\u001b[0m \u001b[0;34m[\u001b[0m\u001b[0;36m9\u001b[0m\u001b[0;34m,\u001b[0m \u001b[0;36m16\u001b[0m\u001b[0;34m,\u001b[0m \u001b[0;36m36\u001b[0m\u001b[0;34m,\u001b[0m \u001b[0;36m64\u001b[0m\u001b[0;34m]\u001b[0m\u001b[0;34m\u001b[0m\u001b[0;34m\u001b[0m\u001b[0m\n\u001b[1;32m     14\u001b[0m \u001b[0;34m\u001b[0m\u001b[0m\n\u001b[0;32m---> 15\u001b[0;31m         \u001b[0mwdir\u001b[0m\u001b[0;34m,\u001b[0m \u001b[0ma\u001b[0m\u001b[0;34m,\u001b[0m \u001b[0mk\u001b[0m\u001b[0;34m,\u001b[0m \u001b[0mfreq\u001b[0m \u001b[0;34m=\u001b[0m \u001b[0mread_iea37_windrose_weib\u001b[0m\u001b[0;34m(\u001b[0m\u001b[0miea37_path\u001b[0m \u001b[0;34m+\u001b[0m \u001b[0;34m\"iea37-windrose_weib.yaml\"\u001b[0m\u001b[0;34m)\u001b[0m\u001b[0;34m\u001b[0m\u001b[0;34m\u001b[0m\u001b[0m\n\u001b[0m\u001b[1;32m     16\u001b[0m         \u001b[0mUniformWeibullSite\u001b[0m\u001b[0;34m.\u001b[0m\u001b[0m__init__\u001b[0m\u001b[0;34m(\u001b[0m\u001b[0mself\u001b[0m\u001b[0;34m,\u001b[0m \u001b[0mfreq\u001b[0m\u001b[0;34m,\u001b[0m \u001b[0ma\u001b[0m\u001b[0;34m,\u001b[0m \u001b[0mk\u001b[0m\u001b[0;34m,\u001b[0m \u001b[0mti\u001b[0m\u001b[0;34m,\u001b[0m \u001b[0mshear\u001b[0m\u001b[0;34m=\u001b[0m\u001b[0mshear\u001b[0m\u001b[0;34m)\u001b[0m\u001b[0;34m\u001b[0m\u001b[0;34m\u001b[0m\u001b[0m\n\u001b[1;32m     17\u001b[0m         \u001b[0mself\u001b[0m\u001b[0;34m.\u001b[0m\u001b[0minitial_position\u001b[0m \u001b[0;34m=\u001b[0m \u001b[0mnp\u001b[0m\u001b[0;34m.\u001b[0m\u001b[0marray\u001b[0m\u001b[0;34m(\u001b[0m\u001b[0mread_iea37_windfarm\u001b[0m\u001b[0;34m(\u001b[0m\u001b[0miea37_path\u001b[0m \u001b[0;34m+\u001b[0m \u001b[0;34m'iea37-ex%d.yaml'\u001b[0m \u001b[0;34m%\u001b[0m \u001b[0mn_wt\u001b[0m\u001b[0;34m)\u001b[0m\u001b[0;34m[\u001b[0m\u001b[0;34m:\u001b[0m\u001b[0;36m2\u001b[0m\u001b[0;34m]\u001b[0m\u001b[0;34m)\u001b[0m\u001b[0;34m.\u001b[0m\u001b[0mT\u001b[0m\u001b[0;34m\u001b[0m\u001b[0;34m\u001b[0m\u001b[0m\n",
            "\u001b[0;32m<ipython-input-4-c101126f1e1f>\u001b[0m in \u001b[0;36mread_iea37_windrose_weib\u001b[0;34m(filename)\u001b[0m\n\u001b[1;32m      1\u001b[0m \u001b[0;32mdef\u001b[0m \u001b[0mread_iea37_windrose_weib\u001b[0m\u001b[0;34m(\u001b[0m\u001b[0mfilename\u001b[0m\u001b[0;34m)\u001b[0m\u001b[0;34m:\u001b[0m\u001b[0;34m\u001b[0m\u001b[0;34m\u001b[0m\u001b[0m\n\u001b[0;32m----> 2\u001b[0;31m     \u001b[0;32mwith\u001b[0m \u001b[0mopen\u001b[0m\u001b[0;34m(\u001b[0m\u001b[0mfilename\u001b[0m\u001b[0;34m,\u001b[0m \u001b[0;34m'r'\u001b[0m\u001b[0;34m)\u001b[0m \u001b[0;32mas\u001b[0m \u001b[0mf\u001b[0m\u001b[0;34m:\u001b[0m\u001b[0;34m\u001b[0m\u001b[0;34m\u001b[0m\u001b[0m\n\u001b[0m\u001b[1;32m      3\u001b[0m         \u001b[0mdata\u001b[0m \u001b[0;34m=\u001b[0m \u001b[0myaml\u001b[0m\u001b[0;34m.\u001b[0m\u001b[0mload\u001b[0m\u001b[0;34m(\u001b[0m\u001b[0mf\u001b[0m\u001b[0;34m,\u001b[0m \u001b[0mLoader\u001b[0m\u001b[0;34m=\u001b[0m\u001b[0myaml\u001b[0m\u001b[0;34m.\u001b[0m\u001b[0mSafeLoader\u001b[0m\u001b[0;34m)\u001b[0m\u001b[0;34m\u001b[0m\u001b[0;34m\u001b[0m\u001b[0m\n\u001b[1;32m      4\u001b[0m     \u001b[0mprop\u001b[0m \u001b[0;34m=\u001b[0m \u001b[0mdata\u001b[0m\u001b[0;34m[\u001b[0m\u001b[0;34m'definitions'\u001b[0m\u001b[0;34m]\u001b[0m\u001b[0;34m[\u001b[0m\u001b[0;34m'wind_inflow'\u001b[0m\u001b[0;34m]\u001b[0m\u001b[0;34m[\u001b[0m\u001b[0;34m'properties'\u001b[0m\u001b[0;34m]\u001b[0m\u001b[0;34m\u001b[0m\u001b[0;34m\u001b[0m\u001b[0m\n\u001b[1;32m      5\u001b[0m     \u001b[0mwdir\u001b[0m \u001b[0;34m=\u001b[0m \u001b[0mprop\u001b[0m\u001b[0;34m[\u001b[0m\u001b[0;34m'direction'\u001b[0m\u001b[0;34m]\u001b[0m\u001b[0;34m[\u001b[0m\u001b[0;34m'bins'\u001b[0m\u001b[0;34m]\u001b[0m\u001b[0;34m\u001b[0m\u001b[0;34m\u001b[0m\u001b[0m\n",
            "\u001b[0;31mFileNotFoundError\u001b[0m: [Errno 2] No such file or directory: '/usr/local/lib/python3.7/dist-packages/py_wake/examples/data/iea37/iea37-windrose_weib.yaml'"
          ]
        }
      ]
    },
    {
      "cell_type": "code",
      "metadata": {
        "id": "TH40XQhacOaD"
      },
      "source": [
        ""
      ],
      "execution_count": null,
      "outputs": []
    }
  ]
}