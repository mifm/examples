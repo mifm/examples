{
  "nbformat": 4,
  "nbformat_minor": 0,
  "metadata": {
    "colab": {
      "name": "Untitled5.ipynb",
      "provenance": [],
      "authorship_tag": "ABX9TyNDP9hSUGkaIX2qyXHbTHbK",
      "include_colab_link": true
    },
    "kernelspec": {
      "name": "python3",
      "display_name": "Python 3"
    }
  },
  "cells": [
    {
      "cell_type": "markdown",
      "metadata": {
        "id": "view-in-github",
        "colab_type": "text"
      },
      "source": [
        "<a href=\"https://colab.research.google.com/github/mifm/examples/blob/master/topfarm_type_example.ipynb\" target=\"_parent\"><img src=\"https://colab.research.google.com/assets/colab-badge.svg\" alt=\"Open In Colab\"/></a>"
      ]
    },
    {
      "cell_type": "code",
      "metadata": {
        "id": "wkRAPCcjNtGr",
        "colab_type": "code",
        "colab": {}
      },
      "source": [
        "!pip install git+https://gitlab.windenergy.dtu.dk/TOPFARM/TopFarm2.git"
      ],
      "execution_count": 0,
      "outputs": []
    },
    {
      "cell_type": "code",
      "metadata": {
        "id": "uE3R9HlKNxM8",
        "colab_type": "code",
        "colab": {
          "base_uri": "https://localhost:8080/",
          "height": 919
        },
        "outputId": "976c51ca-1d53-4a4e-f270-b89aa80dd6e7"
      },
      "source": [
        "\"\"\"Example: optimizing a layout with constraints\n",
        "\n",
        "This example uses a dummy cost function to optimize turbine types. \n",
        "\"\"\"\n",
        "import numpy as np\n",
        "import os\n",
        "from topfarm.cost_models.dummy import DummyCost\n",
        "from topfarm._topfarm import TopFarmProblem\n",
        "from openmdao.drivers.doe_generators import FullFactorialGenerator\n",
        "from topfarm.plotting import TurbineTypePlotComponent, NoPlot\n",
        "\n",
        "\n",
        "# ------------------------ INPUTS ------------------------\n",
        "\n",
        "# define the conditions for the wind farm\n",
        "positions = np.array([[0, 0], [6, 6]])  # initial turbine pos\n",
        "optimal_types = np.array([[2], [6]])  # optimal layout\n",
        "\n",
        "# ===============================================================================\n",
        "# Setup the problem and plotting\n",
        "# ===============================================================================\n",
        "\n",
        "try:\n",
        "    import matplotlib.pyplot as plt\n",
        "    plt.gcf()\n",
        "    plot_comp = TurbineTypePlotComponent(\n",
        "        turbine_type_names=[\"Turbine %d\" % i for i in range(10)],\n",
        "        plot_initial=False,\n",
        "        delay=0.1, legendloc=0)\n",
        "    plot = True\n",
        "except RuntimeError:\n",
        "    plot_comp = NoPlot()\n",
        "    plot = False\n",
        "\n",
        "# create the wind farm\n",
        "tf = TopFarmProblem(\n",
        "    design_vars={'type': ([0, 0], 0, 9)},\n",
        "    cost_comp=DummyCost(optimal_types, ['type']),\n",
        "    plot_comp=plot_comp,\n",
        "    driver=FullFactorialGenerator(10))\n",
        "\n",
        "# ===============================================================================\n",
        "# #  Run the optimization\n",
        "# ===============================================================================\n",
        "state = {'x': positions[:, 0], 'y': positions[:, 1]}\n",
        "cost, state, recorder = tf.optimize(state)\n",
        "\n",
        "# ===============================================================================\n",
        "# plot and prin the the final, optimal types\n",
        "# ===============================================================================\n",
        "print(state['type'])\n",
        "tf.evaluate(state)\n",
        "\n",
        "\n"
      ],
      "execution_count": 7,
      "outputs": [
        {
          "output_type": "stream",
          "text": [
            "WARNING: The following inputs are not connected:\n",
            "   penalty: ['cost_comp.penalty']\n",
            "   x: ['plot_comp.x']\n",
            "   y: ['plot_comp.y']\n",
            "\n",
            "WARNING: The following inputs are not connected:\n",
            "   penalty: ['cost_comp.penalty']\n",
            "   x: ['plot_comp.x']\n",
            "   y: ['plot_comp.y']\n",
            "\n"
          ],
          "name": "stdout"
        },
        {
          "output_type": "display_data",
          "data": {
            "image/png": "[encoded data removed]",
            "text/plain": [
              "<Figure size 432x288 with 1 Axes>"
            ]
          },
          "metadata": {
            "tags": []
          }
        },
        {
          "output_type": "stream",
          "text": [
            "WARNING: The following inputs are not connected:\n",
            "   penalty: ['cost_comp.penalty']\n",
            "   x: ['plot_comp.x']\n",
            "   y: ['plot_comp.y']\n",
            "\n",
            "[2. 6.]\n",
            "WARNING: The following inputs are not connected:\n",
            "   penalty: ['cost_comp.penalty']\n",
            "   x: ['plot_comp.x']\n",
            "   y: ['plot_comp.y']\n",
            "\n"
          ],
          "name": "stdout"
        },
        {
          "output_type": "execute_result",
          "data": {
            "text/plain": [
              "(0.0, {'type': array([2., 6.])})"
            ]
          },
          "metadata": {
            "tags": []
          },
          "execution_count": 7
        },
        {
          "output_type": "display_data",
          "data": {
            "image/png": "[encoded data removed]",
            "text/plain": [
              "<Figure size 432x288 with 1 Axes>"
            ]
          },
          "metadata": {
            "tags": []
          }
        }
      ]
    },
    {
      "cell_type": "code",
      "metadata": {
        "id": "wjYRDAhcOzME",
        "colab_type": "code",
        "colab": {}
      },
      "source": [
        ""
      ],
      "execution_count": 0,
      "outputs": []
    }
  ]
}