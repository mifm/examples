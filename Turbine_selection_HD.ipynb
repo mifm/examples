{
  "cells": [
    {
      "cell_type": "markdown",
      "metadata": {
        "id": "view-in-github",
        "colab_type": "text"
      },
      "source": [
        "<a href=\"https://colab.research.google.com/github/mifm/examples/blob/master/Turbine_selection_HD.ipynb\" target=\"_parent\"><img src=\"https://colab.research.google.com/assets/colab-badge.svg\" alt=\"Open In Colab\"/></a>"
      ]
    },
    {
      "cell_type": "code",
      "source": [
        "!pip install git+https://gitlab.windenergy.dtu.dk/TOPFARM/PyWake.git"
      ],
      "metadata": {
        "colab": {
          "base_uri": "https://localhost:8080/"
        },
        "id": "iNIuF0tsIlMO",
        "outputId": "1c53a1e9-cdb7-4219-b9bf-028ccf90037a"
      },
      "id": "iNIuF0tsIlMO",
      "execution_count": 1,
      "outputs": [
        {
          "output_type": "stream",
          "name": "stdout",
          "text": [
            "Looking in indexes: https://pypi.org/simple, https://us-python.pkg.dev/colab-wheels/public/simple/\n",
            "Collecting git+https://gitlab.windenergy.dtu.dk/TOPFARM/PyWake.git\n",
            "  Cloning https://gitlab.windenergy.dtu.dk/TOPFARM/PyWake.git to /tmp/pip-req-build-o6u4w3zj\n",
            "  Running command git clone -q https://gitlab.windenergy.dtu.dk/TOPFARM/PyWake.git /tmp/pip-req-build-o6u4w3zj\n",
            "Requirement already satisfied: matplotlib in /usr/local/lib/python3.7/dist-packages (from py-wake==2.3.0) (3.2.2)\n",
            "Requirement already satisfied: numpy in /usr/local/lib/python3.7/dist-packages (from py-wake==2.3.0) (1.21.6)\n",
            "Requirement already satisfied: xarray in /usr/local/lib/python3.7/dist-packages (from py-wake==2.3.0) (0.20.2)\n",
            "Requirement already satisfied: autograd in /usr/local/lib/python3.7/dist-packages (from py-wake==2.3.0) (1.4)\n",
            "Requirement already satisfied: pyyaml in /usr/local/lib/python3.7/dist-packages (from py-wake==2.3.0) (3.13)\n",
            "Requirement already satisfied: scipy in /usr/local/lib/python3.7/dist-packages (from py-wake==2.3.0) (1.4.1)\n",
            "Requirement already satisfied: tqdm in /usr/local/lib/python3.7/dist-packages (from py-wake==2.3.0) (4.64.0)\n",
            "Requirement already satisfied: future>=0.15.2 in /usr/local/lib/python3.7/dist-packages (from autograd->py-wake==2.3.0) (0.16.0)\n",
            "Requirement already satisfied: pyparsing!=2.0.4,!=2.1.2,!=2.1.6,>=2.0.1 in /usr/local/lib/python3.7/dist-packages (from matplotlib->py-wake==2.3.0) (3.0.9)\n",
            "Requirement already satisfied: python-dateutil>=2.1 in /usr/local/lib/python3.7/dist-packages (from matplotlib->py-wake==2.3.0) (2.8.2)\n",
            "Requirement already satisfied: kiwisolver>=1.0.1 in /usr/local/lib/python3.7/dist-packages (from matplotlib->py-wake==2.3.0) (1.4.3)\n",
            "Requirement already satisfied: cycler>=0.10 in /usr/local/lib/python3.7/dist-packages (from matplotlib->py-wake==2.3.0) (0.11.0)\n",
            "Requirement already satisfied: typing-extensions in /usr/local/lib/python3.7/dist-packages (from kiwisolver>=1.0.1->matplotlib->py-wake==2.3.0) (4.1.1)\n",
            "Requirement already satisfied: six>=1.5 in /usr/local/lib/python3.7/dist-packages (from python-dateutil>=2.1->matplotlib->py-wake==2.3.0) (1.15.0)\n",
            "Requirement already satisfied: pandas>=1.1 in /usr/local/lib/python3.7/dist-packages (from xarray->py-wake==2.3.0) (1.3.5)\n",
            "Requirement already satisfied: importlib-metadata in /usr/local/lib/python3.7/dist-packages (from xarray->py-wake==2.3.0) (4.11.4)\n",
            "Requirement already satisfied: pytz>=2017.3 in /usr/local/lib/python3.7/dist-packages (from pandas>=1.1->xarray->py-wake==2.3.0) (2022.1)\n",
            "Requirement already satisfied: zipp>=0.5 in /usr/local/lib/python3.7/dist-packages (from importlib-metadata->xarray->py-wake==2.3.0) (3.8.0)\n",
            "Building wheels for collected packages: py-wake\n",
            "  Building wheel for py-wake (setup.py) ... \u001b[?25l\u001b[?25hdone\n",
            "  Created wheel for py-wake: filename=py_wake-2.3.0-py3-none-any.whl size=24796560 sha256=d1c1f11b2e70ca629e5717b2b4875f344ff27f17bfdc1157430d9b940d07f483\n",
            "  Stored in directory: /tmp/pip-ephem-wheel-cache-8fntkt5h/wheels/fb/b1/5a/9b9114aac7776bf9de40facb8a0f958449e0a2082c955ca29e\n",
            "Successfully built py-wake\n",
            "Installing collected packages: py-wake\n",
            "Successfully installed py-wake-2.3.0\n"
          ]
        }
      ]
    },
    {
      "cell_type": "code",
      "source": [
        "from py_wake.wind_farm_models import PropagateDownwind\n",
        "from abc import abstractmethod, ABC\n",
        "from py_wake.site._site import Site, UniformSite, LocalWind\n",
        "from py_wake.wind_turbines import WindTurbines\n",
        "from py_wake import np\n",
        "from py_wake.flow_map import FlowMap, HorizontalGrid, FlowBox, Grid\n",
        "import xarray as xr\n",
        "from py_wake.utils import xarray_utils, weibull  # register ilk function @UnusedImport\n",
        "from numpy import newaxis as na\n",
        "from py_wake.utils.model_utils import check_model, fix_shape\n",
        "import multiprocessing\n",
        "from py_wake.utils.parallelization import get_pool\n",
        "from py_wake.wind_turbines import WindTurbines\n",
        "from py_wake.wind_turbines.generic_wind_turbines import GenericWindTurbine\n",
        "from py_wake.wind_turbines.power_ct_functions import PowerCtFunctionList\n",
        "\n",
        "from py_wake.utils.functions import mean_deg, arg2ilk\n",
        "\n",
        "class PowerCtFunctionEta(PowerCtFunctionList):\n",
        "    def __init__(self, key, powerCtFunction_lst, default_value=None, additional_models=[]):\n",
        "        self.n_types = len(powerCtFunction_lst)\n",
        "        self._keys = [f'{key}_{i}' for i in range(self.n_types)]\n",
        "        PowerCtFunctionList.__init__(self, key=key, powerCtFunction_lst=powerCtFunction_lst, \n",
        "                             default_value=default_value, additional_models=additional_models)\n",
        "        required_inputs = list(self._required_inputs) \n",
        "        required_inputs.remove(key)\n",
        "        self._required_inputs = set(required_inputs + self._keys)\n",
        "\n",
        "    def __call__(self, ws, run_only=slice(None), **kwargs):\n",
        "        etas_e = np.array([kwargs[k] for k in self._keys])\n",
        "\n",
        "        for k in self._keys:\n",
        "            kwargs.pop(k)\n",
        "            \n",
        "        def get_kwargs(idx):\n",
        "            return {k: v for k, v in kwargs.items() if k in self.windTurbineFunction_lst[idx].inputs}\n",
        "        \n",
        "        val = np.stack([wt_func(ws, run_only=run_only, **get_kwargs(idx)) \n",
        "                        for idx, wt_func in enumerate(self.windTurbineFunction_lst)])\n",
        "        \n",
        "        \n",
        "        etas_sum = etas_e.sum() + 1.E-12\n",
        "        #Pct = (etas_e[:,na] * val).sum(0)/etas_sum   \n",
        "        \n",
        "        if len(val.shape)==5:\n",
        "            Pct = (etas_e[:, na, :, na, na] * val).sum(0)/etas_sum\n",
        "        elif len(val.shape)==4:\n",
        "            Pct = (etas_e[:, :, na, na] * val).sum(0)/etas_sum\n",
        "        elif len(val.shape)==3:\n",
        "            Pct = (etas_e[:, :, na] * val).sum(0)/etas_sum        \n",
        "        elif len(val.shape)==2:\n",
        "            if val.shape[0]>2:\n",
        "                Pct = (etas_e[:,:,na] * val[:,na,:]).sum(0)/etas_sum        \n",
        "            else:\n",
        "                Pct = (etas_e * val).sum(0)/etas_sum        \n",
        "        elif len(val.shape)==1:\n",
        "            Pct = (etas_e * val).sum()/etas_sum                \n",
        "        return Pct\n",
        "\n",
        "class EtaTurbines(WindTurbines):\n",
        "    def __init__(self, names, diameters, hub_heights, powerCtFunctions, loadFunctions=None, key='eta'):\n",
        "        \"\"\"Initialize WindTurbines\n",
        "\n",
        "        Parameters\n",
        "        ----------\n",
        "        names : array_like\n",
        "            Wind turbine names\n",
        "        diameters : array_like\n",
        "            Diameter of wind turbines\n",
        "        hub_heights : array_like\n",
        "            Hub height of wind turbines\n",
        "        powerCtFunctions : list of powerCtFunction objects\n",
        "            Wind turbine ct functions; func(ws) -> ct\n",
        "        \"\"\"\n",
        "        self.key = key\n",
        "        self.n_types = len(powerCtFunctions)\n",
        "        self._keys = [f'{key}_{i}' for i in range(self.n_types)]        \n",
        "        self._names = np.array(names)\n",
        "        self._diameters = np.array(diameters)\n",
        "        self._hub_heights = np.array(hub_heights)\n",
        "        assert len(names) == len(diameters) == len(hub_heights) == len(powerCtFunctions)\n",
        "        self.powerCtFunction = PowerCtFunctionEta(self.key, powerCtFunctions)\n",
        "        \n",
        "    def get_defaults(self, N, type_i=0, h_i=None, d_i=None, **kwargs):\n",
        "        \"\"\"\n",
        "        Parameters\n",
        "        ----------\n",
        "        N : int\n",
        "            number of turbines\n",
        "        type_i : array_like or None, optional\n",
        "            Turbine type. If None, all turbines is type 0\n",
        "        h_i : array_like or None, optional\n",
        "            hub heights. If None: default hub heights (set in WindTurbines)\n",
        "        d_i : array_lie or None, optional\n",
        "            Rotor diameter. If None: default diameter (set in WindTurbines)\n",
        "        \"\"\"\n",
        "        if self._keys[0] in kwargs:\n",
        "            eta_ie = np.array([kwargs[k] for k in self._keys])\n",
        "        else:\n",
        "            return WindTurbines.get_defaults(self, N, type_i=type_i, h_i=h_i, d_i=d_i)\n",
        "        \n",
        "        if h_i is None:\n",
        "            h_i = ((eta_ie[:, :] * self._hub_heights[:, na]).sum(0) / \n",
        "                (eta_ie+1.E-12).sum(0))\n",
        "        elif isinstance(h_i, (int, float)):\n",
        "            h_i = np.zeros(N) + h_i\n",
        "        if d_i is None:\n",
        "            d_i = ((eta_ie[:, :] * self._diameters[:, na]).sum(0) / \n",
        "                (eta_ie+1.E-12).sum(0))\n",
        "        elif isinstance(d_i, (int, float)):\n",
        "            d_i = np.zeros(N) + d_i\n",
        "        return np.asarray(h_i), np.asarray(d_i) + 1.E-12\n",
        "    \n",
        "    @staticmethod\n",
        "    def from_WindTurbine_lst(wt_lst):\n",
        "        \"\"\"Generate a WindTurbines object from a list of (Onetype)WindTurbines\n",
        "\n",
        "        Parameters\n",
        "        ----------\n",
        "        wt_lst : array_like\n",
        "            list of (OneType)WindTurbines\n",
        "        \"\"\"\n",
        "        def get(att):\n",
        "            lst = []\n",
        "            for wt in wt_lst:\n",
        "                lst.extend(getattr(wt, att))\n",
        "            return lst\n",
        "        return EtaTurbines(*[get(n) for n in ['_names', '_diameters', '_hub_heights']] +\n",
        "                            [[getattr(wt, 'powerCtFunction') for wt in wt_lst]])\n",
        "        \n",
        "\n",
        "class MyPropagateDownwind(PropagateDownwind):\n",
        "    def aep(self, x, y, h=None, d=None, type=0, wd=None, ws=None, yaw=None, tilt=None,  \n",
        "            normalize_probabilities=False, with_wake_loss=True,\n",
        "            n_cpu=1, wd_chunks=None, ws_chunks=None, **kwargs):\n",
        "        \"\"\"Anual Energy Production (sum of all wind turbines, directions and speeds) in GWh.\n",
        "\n",
        "        the typical use is:\n",
        "        >> sim_res = windFarmModel(x,y,...)\n",
        "        >> sim_res.aep()\n",
        "\n",
        "        This function bypasses the simulation result and returns only the total AEP,\n",
        "        which makes it slightly faster for small problems.\n",
        "        >> windFarmModel.aep(x,y,...)\n",
        "\n",
        "        Parameters\n",
        "        ----------\n",
        "        x : array_like\n",
        "            Wind turbine x positions\n",
        "        y : array_like\n",
        "            Wind turbine y positions\n",
        "        h : array_like, optional\n",
        "            Wind turbine hub heights\n",
        "        type : int or array_like, optional\n",
        "            Wind turbine type, default is 0\n",
        "        wd : int or array_like\n",
        "            Wind direction(s)\n",
        "        ws : int, float or array_like\n",
        "            Wind speed(s)\n",
        "        yaw : int, float, array_like or None, optional\n",
        "            Yaw misalignement, Positive is counter-clockwise when seen from above.\n",
        "            May be\n",
        "            - constant for all wt and flow cases or dependent on\n",
        "            - wind turbine(i),\n",
        "            - wind turbine and wind direction(il) or\n",
        "            - wind turbine, wind direction and wind speed (ilk)\n",
        "        tilt : array_like or None, optional\n",
        "            Tilt angle of rotor shaft. Normal tilt (rotor center above tower top) is positivie\n",
        "            May be\n",
        "            - constant for all wt and flow cases or dependent on\n",
        "            - wind turbine(i),\n",
        "            - wind turbine and wind direction(il) or\n",
        "            - wind turbine, wind direction and wind speed (ilk)\n",
        "        n_cpu : int or None, optional\n",
        "            Number of CPUs to be used for execution.\n",
        "            If 1 (default), the execution is not parallized\n",
        "            If None, the available number of CPUs are used\n",
        "        wd_chunks : int or None, optional\n",
        "            If n_cpu>1, the wind directions are divided into <wd_chunks> chunks and executed in parallel.\n",
        "            If wd_chunks is None, wd_chunks is set to the available number of CPUs\n",
        "        ws_chunks : int or None, optional\n",
        "            If n_cpu>1, the wind speeds are divided into <ws_chunks> chunks and executed in parallel.\n",
        "            If ws_chunks is None, ws_chunks is set to 1\n",
        "\n",
        "        Returns\n",
        "        -------\n",
        "        AEP in GWh\n",
        "\n",
        "        \"\"\"\n",
        "        if n_cpu != 1 or wd_chunks or ws_chunks:\n",
        "            return self._aep_chunk_wrapper(\n",
        "                self._aep_kwargs,\n",
        "                x, y, h, type, wd, ws, yaw, tilt,\n",
        "                normalize_probabilities=False, with_wake_loss=True,\n",
        "                n_cpu=1, wd_chunks=None, ws_chunks=None, **kwargs)\n",
        "        wd, ws = self.site.get_defaults(wd, ws)\n",
        "        I, L, K, = len(x), len(np.atleast_1d(wd)), len(np.atleast_1d(ws))\n",
        "        yaw_ilk = fix_shape(yaw, (I, L, K), allow_None=True, allow_number=True)\n",
        "        tilt_ilk = fix_shape(tilt, (I, L, K), allow_None=True, allow_number=True)\n",
        "\n",
        "        _, _, power_ilk, _, localWind, power_ct_inputs = self.calc_wt_interaction(\n",
        "            x_i=x, y_i=y, h_i=h, d_i=d, type_i=type, yaw_ilk=yaw_ilk, tilt_ilk=tilt_ilk, wd=wd, ws=ws, **kwargs)\n",
        "        P_ilk = localWind.P_ilk\n",
        "        if normalize_probabilities:\n",
        "            norm = P_ilk.sum((1, 2))[:, na, na]\n",
        "        else:\n",
        "            norm = 1\n",
        "\n",
        "        if with_wake_loss is False:\n",
        "            power_ilk = self.windTurbines.power(localWind.WS_ilk, **power_ct_inputs)\n",
        "        return (power_ilk * P_ilk / norm * 24 * 365 * 1e-9).sum()\n",
        "\n",
        "    def calc_wt_interaction(self, x_i, y_i, h_i=None, d_i=None, type_i=0, wd=None, ws=None, time=False,\n",
        "                            yaw_ilk=None, tilt_ilk=None,\n",
        "                            n_cpu=1, wd_chunks=None, ws_chunks=1,\n",
        "                            **kwargs):\n",
        "        \"\"\"See WindFarmModel.calc_wt_interaction and additional parameters below\n",
        "\n",
        "        Parameters\n",
        "        ----------\n",
        "        n_cpu : int or None, optional\n",
        "            Number of CPUs to be used for execution.\n",
        "            If 1 (default), the execution is not parallized\n",
        "            If None, the available number of CPUs are used\n",
        "        wd_chunks : int or None, optional\n",
        "            If n_cpu>1, the wind directions are divided into <wd_chunks> chunks and executed in parallel.\n",
        "            If wd_chunks is None, wd_chunks is set to the available number of CPUs\n",
        "        ws_chunks : int or None, optional\n",
        "            If n_cpu>1, the wind speeds are divided into <ws_chunks> chunks and executed in parallel.\n",
        "            If ws_chunks is None, ws_chunks is set to 1\n",
        "        \"\"\"\n",
        "        h_i, D_i = self.windTurbines.get_defaults(len(x_i), type_i, h_i, d_i, **kwargs)\n",
        "        x_i, y_i, type_i = [np.asarray(v) for v in [x_i, y_i, type_i]]\n",
        "        wd, ws = self.site.get_defaults(wd, ws)\n",
        "\n",
        "        # Find local wind speed, wind direction, turbulence intensity and probability\n",
        "        lw = self.site.local_wind(x_i=x_i, y_i=y_i, h_i=h_i, wd=wd, ws=ws, time=time)\n",
        "        I, L, K, = len(x_i), len(wd), (1, len(ws))[time is False]\n",
        "\n",
        "        wt_kwargs = kwargs\n",
        "        ri, oi = self.windTurbines.function_inputs\n",
        "        unused_inputs = set(wt_kwargs) - set(ri) - set(oi) - {'WS', 'WD', 'TI'}\n",
        "        if unused_inputs:\n",
        "            raise TypeError(\"\"\"got unexpected keyword argument(s): '%s'\n",
        "            required arguments: %s\n",
        "            optional arguments: %s\"\"\" % (\"', '\".join(unused_inputs), ['ws'] + ri, oi))\n",
        "\n",
        "        wt_kwargs = {k: arg2ilk(k, v, I, L, K) for k, v in wt_kwargs.items()}\n",
        "\n",
        "        if n_cpu != 1 or wd_chunks or ws_chunks > 1:\n",
        "            # parallel execution\n",
        "            map_func, arg_lst, wd_chunks, ws_chunks = self._multiprocessing_chunks(\n",
        "                wd=wd, ws=ws, time=time, n_cpu=n_cpu, wd_chunks=wd_chunks, ws_chunks=ws_chunks,\n",
        "                x_i=x_i, y_i=y_i, h_i=h_i, type_i=type_i, yaw_ilk=yaw_ilk, tilt_ilk=tilt_ilk, **kwargs)\n",
        "\n",
        "            WS_eff_ilk, TI_eff_ilk, power_ilk, ct_ilk, _, wt_inputs = list(\n",
        "                zip(*map_func(self._calc_wt_interaction_args, arg_lst)))\n",
        "\n",
        "            def concatenate(v_ilk):\n",
        "                if all([v is None for v in v_ilk]):\n",
        "                    return None\n",
        "                if time is False:\n",
        "                    v_ilk = [np.broadcast_to(v, WS_eff.shape) for v, WS_eff in zip(v_ilk, WS_eff_ilk)]\n",
        "\n",
        "                    return np.concatenate([np.concatenate(v_ilk[i::ws_chunks], axis=1)\n",
        "                                           for i in range(ws_chunks)], axis=2)\n",
        "                else:\n",
        "                    v_ilk = [np.broadcast_to(v, WS_eff.shape) for v, WS_eff in zip(v_ilk, WS_eff_ilk)]\n",
        "                    return np.concatenate(v_ilk, axis=1)\n",
        "\n",
        "            return ([concatenate(v) for v in [WS_eff_ilk, TI_eff_ilk, power_ilk, ct_ilk]] +\n",
        "                    [lw, {k: concatenate([wt_i[k] for wt_i in wt_inputs]) for k in wt_inputs[0]}])\n",
        "\n",
        "        # Calculate down-wind and cross-wind distances\n",
        "        self._validate_input(x_i, y_i)\n",
        "\n",
        "        for k in ['WS', 'WD', 'TI']:\n",
        "            if k in kwargs:\n",
        "                lw.add_ilk(k + '_ilk', kwargs[k])\n",
        "\n",
        "        self.site.distance.setup(x_i, y_i, h_i)\n",
        "\n",
        "        def add_arg(name, optional):\n",
        "            if name in wt_kwargs:  # custom WindFarmModel.__call__ arguments\n",
        "                return\n",
        "            elif name in {'yaw', 'tilt', 'type'}:  # fixed WindFarmModel.__call__ arguments\n",
        "                wt_kwargs[name] = {'yaw': yaw_ilk, 'tilt': tilt_ilk, 'type': type_i}[name]\n",
        "            elif name + '_ilk' in lw:\n",
        "                wt_kwargs[name] = lw[name + '_ilk']\n",
        "            elif name in self.site.ds:\n",
        "                wt_kwargs[name] = self.site.interp(self.site.ds[name], lw)\n",
        "            elif name in ['TI_eff']:\n",
        "                if self.turbulenceModel:\n",
        "                    wt_kwargs['TI_eff'] = None\n",
        "                elif optional is False:\n",
        "                    raise KeyError(\"Argument, TI_eff, needed to calculate power and ct requires a TurbulenceModel\")\n",
        "            elif name in ['dw_ijl', 'cw_ijl', 'hcw_ijl']:\n",
        "                pass\n",
        "            elif optional:\n",
        "                pass\n",
        "            else:\n",
        "                raise KeyError(\"Argument, %s, required to calculate power and ct not found\" % name)\n",
        "        for opt, lst in zip([False, True], self.windTurbines.function_inputs):\n",
        "            for k in lst:\n",
        "                add_arg(k, opt)\n",
        "\n",
        "        if yaw_ilk is None:\n",
        "            yaw_ilk = np.zeros((I, L, K))\n",
        "        if tilt_ilk is None:\n",
        "            tilt_ilk = np.zeros((I, L, K))\n",
        "\n",
        "        kwargs = {'wd': lw.wd,\n",
        "                  'WD_ilk': lw.WD_ilk,\n",
        "                  'WS_ilk': lw.WS_ilk,\n",
        "                  'TI_ilk': lw.TI_ilk,\n",
        "                  'WS_eff_ilk': lw.WS_ilk + 0.,  # autograd-friendly copy\n",
        "                  'TI_eff_ilk': lw.TI_ilk + 0.,\n",
        "                  'x_i': x_i, 'y_i': y_i, 'h_i': h_i, 'D_i': D_i,\n",
        "                  'yaw_ilk': yaw_ilk, 'tilt_ilk': tilt_ilk,\n",
        "                  'I': I, 'L': L, 'K': K, **wt_kwargs}\n",
        "        WS_eff_ilk, TI_eff_ilk, ct_ilk = self._calc_wt_interaction(**kwargs)\n",
        "        if 'TI_eff' in wt_kwargs:\n",
        "            wt_kwargs['TI_eff'] = TI_eff_ilk\n",
        "        d_ijl_keys = ({k for l in self.windTurbines.function_inputs for k in l} &\n",
        "                      {'dw_ijl', 'hcw_ijl', 'dh_ijl', 'cw_ijl'})\n",
        "        if d_ijl_keys:\n",
        "            d_ijl_dict = {k: lambda v=v: v for k, v in zip(['dw_ijl', 'hcw_ijl', 'dh_ijl'], self.site.distance(wd[na]))}\n",
        "            d_ijl_dict['cw_ijl'] = lambda d_ijl_dict=d_ijl_dict: np.sqrt(\n",
        "                d_ijl_dict['dw_ijl']**2 + d_ijl_dict['hcw_ijl']**2)\n",
        "            wt_kwargs.update({k: d_ijl_dict[k]() for k in d_ijl_keys})\n",
        "\n",
        "        wt_kwargs_keys = set(self.windTurbines.powerCtFunction.required_inputs +\n",
        "                             self.windTurbines.powerCtFunction.optional_inputs)\n",
        "        power_ilk = self.windTurbines.power(WS_eff_ilk, **{k: v for k, v in wt_kwargs.items() if k in wt_kwargs_keys})\n",
        "\n",
        "        return WS_eff_ilk, TI_eff_ilk, power_ilk, ct_ilk, lw, wt_kwargs\n",
        "\n",
        "\n",
        "    "
      ],
      "metadata": {
        "id": "Qz4V2dAeIh7a"
      },
      "id": "Qz4V2dAeIh7a",
      "execution_count": 2,
      "outputs": []
    },
    {
      "cell_type": "code",
      "execution_count": 3,
      "id": "6caf2753",
      "metadata": {
        "id": "6caf2753"
      },
      "outputs": [],
      "source": [
        "import autograd.numpy as np\n",
        "import matplotlib.pyplot as plt\n",
        "from py_wake.wind_turbines._wind_turbines import WindTurbine\n",
        "from py_wake.wind_turbines.power_ct_functions import PowerCtFunction\n",
        "from py_wake.utils.model_utils import fix_shape\n",
        "import seaborn as sns\n",
        "import multiprocessing\n",
        "from py_wake.deficit_models.gaussian import IEA37SimpleBastankhahGaussian\n",
        "from py_wake.site import UniformSite\n",
        "from py_wake.utils.gradients import autograd\n",
        "from scipy.optimize import basinhopping\n",
        "import scipy as sp\n",
        "from scipy.optimize import minimize\n",
        "import os, time"
      ]
    },
    {
      "cell_type": "markdown",
      "id": "3ea2ef60",
      "metadata": {
        "id": "3ea2ef60"
      },
      "source": [
        "# Adding D_is to the mix"
      ]
    },
    {
      "cell_type": "markdown",
      "id": "77f12b0d",
      "metadata": {
        "id": "77f12b0d"
      },
      "source": [
        "We need to expose d_i to calc_wt_interaction"
      ]
    },
    {
      "cell_type": "code",
      "execution_count": 6,
      "id": "ccd56b30",
      "metadata": {
        "id": "ccd56b30"
      },
      "outputs": [],
      "source": [
        "from py_wake.wind_turbines import WindTurbines"
      ]
    },
    {
      "cell_type": "code",
      "execution_count": 7,
      "id": "620948dd",
      "metadata": {
        "id": "620948dd"
      },
      "outputs": [],
      "source": [
        "from py_wake.utils import gradients\n",
        "from py_wake.utils.gradients import PchipInterpolator, UnivariateSpline, set_gradient_function"
      ]
    },
    {
      "cell_type": "code",
      "execution_count": 8,
      "id": "2a003ba0",
      "metadata": {
        "id": "2a003ba0"
      },
      "outputs": [],
      "source": [
        "from py_wake.examples.data.hornsrev1 import Hornsrev1Site # We work with the Horns Rev 1 site, which comes already set up with PyWake.\n",
        "from py_wake.examples.data.hornsrev1 import wt_x, wt_y # The existing layout coordinates are also available from PyWake"
      ]
    },
    {
      "cell_type": "markdown",
      "id": "bc706c8b",
      "metadata": {
        "id": "bc706c8b"
      },
      "source": [
        "Script to generate turbines with different D and H and fixed power rating wind turbines"
      ]
    },
    {
      "cell_type": "code",
      "execution_count": 9,
      "id": "651ea9bb",
      "metadata": {
        "id": "651ea9bb"
      },
      "outputs": [],
      "source": [
        "from py_wake.wind_turbines.generic_wind_turbines import GenericWindTurbine\n",
        "from numpy import newaxis as na\n",
        "def gen_wt(D, H):\n",
        "    return GenericWindTurbine(f'2MW_{D}_{H}', D, H, power_norm=2000)\n"
      ]
    },
    {
      "cell_type": "markdown",
      "id": "358af81a",
      "metadata": {
        "id": "358af81a"
      },
      "source": [
        "Generating some turbine types"
      ]
    },
    {
      "cell_type": "code",
      "execution_count": 10,
      "id": "42b75a64",
      "metadata": {
        "id": "42b75a64"
      },
      "outputs": [],
      "source": [
        "DH_array = np.array([\n",
        "    # D    H \n",
        "    (80., 70),  #0\n",
        "    (80, 100),  #1\n",
        "    (80, 130),  #2\n",
        "    (100, 100), #3\n",
        "    (100, 130), #4\n",
        "    (130, 100), #5\n",
        "    (130, 130), #6\n",
        "      ])\n",
        "n_eta = DH_array.shape[0]\n",
        "# Create a list of wind turbines\n",
        "wind_turbines = [gen_wt(D, H) for (D,H) in DH_array]\n",
        "rand_eta = lambda : np.random.rand(n_eta)\n",
        "f_eta = lambda etas_e: {f'eta_{i}':v for i, v in zip(range(n_eta), etas_e)}\n",
        "drand_eta = lambda : f_eta(rand_eta())"
      ]
    },
    {
      "cell_type": "markdown",
      "id": "5cf0ba15",
      "metadata": {
        "id": "5cf0ba15"
      },
      "source": [
        "We create a new type of turbine that is a composite of a list of wind turbines"
      ]
    },
    {
      "cell_type": "code",
      "execution_count": 11,
      "id": "46c36cea",
      "metadata": {
        "id": "46c36cea"
      },
      "outputs": [],
      "source": [
        "eta_wts = EtaTurbines.from_WindTurbine_lst(wind_turbines)"
      ]
    },
    {
      "cell_type": "markdown",
      "id": "109685e6",
      "metadata": {
        "id": "109685e6"
      },
      "source": [
        "Testing that it works"
      ]
    },
    {
      "cell_type": "code",
      "execution_count": 12,
      "id": "b316218b",
      "metadata": {
        "colab": {
          "base_uri": "https://localhost:8080/"
        },
        "id": "b316218b",
        "outputId": "7eefc756-3d7b-4f6a-e8fd-4939ca4522c4"
      },
      "outputs": [
        {
          "output_type": "execute_result",
          "data": {
            "text/plain": [
              "array([ 80.,  80.,  80., 100., 100., 130., 130.])"
            ]
          },
          "metadata": {},
          "execution_count": 12
        }
      ],
      "source": [
        "DH_array[:,0]"
      ]
    },
    {
      "cell_type": "code",
      "execution_count": 13,
      "id": "708efa9d",
      "metadata": {
        "colab": {
          "base_uri": "https://localhost:8080/"
        },
        "id": "708efa9d",
        "outputId": "50e98201-6ec9-406c-e15f-3f558143ef0d"
      },
      "outputs": [
        {
          "output_type": "stream",
          "name": "stdout",
          "text": [
            "[[1. 0.]\n",
            " [0. 0.]\n",
            " [0. 0.]\n",
            " [0. 0.]\n",
            " [0. 1.]\n",
            " [0. 0.]\n",
            " [0. 0.]]\n",
            "[ 70. 130.] [ 80. 100.]\n"
          ]
        }
      ],
      "source": [
        "n_wt = 2\n",
        "etas = np.random.rand(n_eta*n_wt).reshape([n_eta, n_wt])\n",
        "etas = np.zeros([n_eta, n_wt])\n",
        "etas[0,0] = 1.\n",
        "etas[4,1] = 1.\n",
        "print(etas)\n",
        "D = (etas[:,:] * DH_array[:,na,0]).sum(0)/etas.sum(0)\n",
        "H = (etas[:,:] * DH_array[:,na,1]).sum(0)/etas.sum(0)\n",
        "print(H,D)"
      ]
    },
    {
      "cell_type": "code",
      "execution_count": 14,
      "id": "ce8bff26",
      "metadata": {
        "colab": {
          "base_uri": "https://localhost:8080/"
        },
        "id": "ce8bff26",
        "outputId": "109e3c7b-e2d4-4d35-8b3c-c37566915656"
      },
      "outputs": [
        {
          "output_type": "stream",
          "name": "stdout",
          "text": [
            "{'eta_0': array([1., 0.]), 'eta_1': array([0., 0.]), 'eta_2': array([0., 0.]), 'eta_3': array([0., 0.]), 'eta_4': array([0., 1.]), 'eta_5': array([0., 0.]), 'eta_6': array([0., 0.])}\n",
            "[ 70. 130.] [ 80. 100.]\n"
          ]
        }
      ],
      "source": [
        "\n",
        "d_etas = f_eta(etas.reshape([n_eta, n_wt])) \n",
        "print(d_etas)\n",
        "H, D = eta_wts.get_defaults(n_wt, **d_etas)\n",
        "print(H,D)"
      ]
    },
    {
      "cell_type": "code",
      "execution_count": 15,
      "id": "db892fb4",
      "metadata": {
        "colab": {
          "base_uri": "https://localhost:8080/"
        },
        "id": "db892fb4",
        "outputId": "f6d13982-9ef7-4bc4-8b7b-0da0daa43c72"
      },
      "outputs": [
        {
          "output_type": "execute_result",
          "data": {
            "text/plain": [
              "[73441.2328462889, 0.8000006172162063]"
            ]
          },
          "metadata": {},
          "execution_count": 15
        }
      ],
      "source": [
        "wt0 = wind_turbines[0]\n",
        "wt0.power_ct(4)"
      ]
    },
    {
      "cell_type": "code",
      "execution_count": 16,
      "id": "3d22be0b",
      "metadata": {
        "colab": {
          "base_uri": "https://localhost:8080/"
        },
        "id": "3d22be0b",
        "outputId": "40b96c2f-4e36-4c96-b5df-f0421ed8a543"
      },
      "outputs": [
        {
          "output_type": "execute_result",
          "data": {
            "text/plain": [
              "<py_wake.wind_turbines.power_ct_functions.PowerCtTabular at 0x7f68a6027e50>"
            ]
          },
          "metadata": {},
          "execution_count": 16
        }
      ],
      "source": [
        "wt0.powerCtFunction"
      ]
    },
    {
      "cell_type": "markdown",
      "id": "2943f214",
      "metadata": {
        "id": "2943f214"
      },
      "source": [
        "Let's look at a few wind turbines"
      ]
    },
    {
      "cell_type": "markdown",
      "id": "5af11c47",
      "metadata": {
        "id": "5af11c47"
      },
      "source": [
        "Power curve"
      ]
    },
    {
      "cell_type": "code",
      "execution_count": 17,
      "id": "d8faa0a9",
      "metadata": {
        "colab": {
          "base_uri": "https://localhost:8080/",
          "height": 276
        },
        "id": "d8faa0a9",
        "outputId": "faf1a871-7f21-440b-bf51-2692c9faf2b6"
      },
      "outputs": [
        {
          "output_type": "display_data",
          "data": {
            "text/plain": [
              "<Figure size 432x288 with 1 Axes>"
            ],
            "image/png": "[encoded data removed]"
          },
          "metadata": {
            "needs_background": "light"
          }
        }
      ],
      "source": [
        "for wt in wind_turbines:\n",
        "    plt.plot(wt.powerCtFunction.ws_tab, wt.powerCtFunction.power_ct_tab[0,:])"
      ]
    },
    {
      "cell_type": "markdown",
      "id": "438a38f1",
      "metadata": {
        "id": "438a38f1"
      },
      "source": [
        "CT Curves"
      ]
    },
    {
      "cell_type": "code",
      "execution_count": 18,
      "id": "1ce57449",
      "metadata": {
        "colab": {
          "base_uri": "https://localhost:8080/",
          "height": 265
        },
        "id": "1ce57449",
        "outputId": "60276866-6a86-49fe-e80a-3ac68f31b6ad"
      },
      "outputs": [
        {
          "output_type": "display_data",
          "data": {
            "text/plain": [
              "<Figure size 432x288 with 1 Axes>"
            ],
            "image/png": "[encoded data removed]"
          },
          "metadata": {
            "needs_background": "light"
          }
        }
      ],
      "source": [
        "for wt in wind_turbines:\n",
        "    plt.plot(wt.powerCtFunction.ws_tab, wt.powerCtFunction.power_ct_tab[1,:])"
      ]
    },
    {
      "cell_type": "markdown",
      "id": "a4e46bfc",
      "metadata": {
        "id": "a4e46bfc"
      },
      "source": [
        "### Wind turbine setup"
      ]
    },
    {
      "cell_type": "markdown",
      "id": "e95a7f68",
      "metadata": {
        "id": "e95a7f68"
      },
      "source": [
        "This wind turbine has a special input that takes n_eta additioanl inputs"
      ]
    },
    {
      "cell_type": "code",
      "execution_count": 19,
      "id": "3ac588de",
      "metadata": {
        "colab": {
          "base_uri": "https://localhost:8080/"
        },
        "id": "3ac588de",
        "outputId": "3397722b-371d-4414-aaff-370ace1c4ced"
      },
      "outputs": [
        {
          "output_type": "execute_result",
          "data": {
            "text/plain": [
              "{'eta_0', 'eta_1', 'eta_2', 'eta_3', 'eta_4', 'eta_5', 'eta_6'}"
            ]
          },
          "metadata": {},
          "execution_count": 19
        }
      ],
      "source": [
        "eta_wts.powerCtFunction._required_inputs"
      ]
    },
    {
      "cell_type": "code",
      "execution_count": 20,
      "id": "5f38ef21",
      "metadata": {
        "colab": {
          "base_uri": "https://localhost:8080/"
        },
        "id": "5f38ef21",
        "outputId": "7878da4b-f195-4463-c204-d1be06a9c579"
      },
      "outputs": [
        {
          "output_type": "execute_result",
          "data": {
            "text/plain": [
              "{'eta_0': array([0.06184962, 0.779465  ]),\n",
              " 'eta_1': array([0.4735493 , 0.50761706]),\n",
              " 'eta_2': array([0.37675349, 0.56128913]),\n",
              " 'eta_3': array([0.99339933, 0.79913741]),\n",
              " 'eta_4': array([0.5680699, 0.2988389]),\n",
              " 'eta_5': array([0.60163149, 0.76269553]),\n",
              " 'eta_6': array([0.63700264, 0.64670456])}"
            ]
          },
          "metadata": {},
          "execution_count": 20
        }
      ],
      "source": [
        "n_wt = 2\n",
        "d_eta_dict = f_eta(np.random.rand(n_wt * n_eta).reshape([n_eta, n_wt]))\n",
        "d_eta_dict"
      ]
    },
    {
      "cell_type": "code",
      "execution_count": 21,
      "id": "7be807a1",
      "metadata": {
        "colab": {
          "base_uri": "https://localhost:8080/"
        },
        "id": "7be807a1",
        "outputId": "6fbd057d-ebb8-4df9-c4a2-6e8d448a8260"
      },
      "outputs": [
        {
          "output_type": "execute_result",
          "data": {
            "text/plain": [
              "array([[5.66163852e+05, 3.50631482e-01],\n",
              "       [6.21265802e+05, 4.12268454e-01]])"
            ]
          },
          "metadata": {},
          "execution_count": 21
        }
      ],
      "source": [
        "eta_wts.powerCtFunction(8., eta_0=d_eta_dict['eta_0'], \n",
        "                            eta_1=d_eta_dict['eta_1'], \n",
        "                            eta_2=d_eta_dict['eta_2'], \n",
        "                            eta_3=d_eta_dict['eta_3'], \n",
        "                            eta_4=d_eta_dict['eta_4'], \n",
        "                            eta_5=d_eta_dict['eta_5'], \n",
        "                            eta_6=d_eta_dict['eta_6'])"
      ]
    },
    {
      "cell_type": "code",
      "execution_count": 22,
      "id": "9d392ab5",
      "metadata": {
        "scrolled": false,
        "colab": {
          "base_uri": "https://localhost:8080/"
        },
        "id": "9d392ab5",
        "outputId": "5b3e4f7d-aee6-42b1-bf7e-6a4a30488a25"
      },
      "outputs": [
        {
          "output_type": "execute_result",
          "data": {
            "text/plain": [
              "array([[5.66163852e+05, 3.50631482e-01],\n",
              "       [6.21265802e+05, 4.12268454e-01]])"
            ]
          },
          "metadata": {},
          "execution_count": 22
        }
      ],
      "source": [
        "eta_wts.powerCtFunction(8., **d_eta_dict)"
      ]
    },
    {
      "cell_type": "code",
      "execution_count": 23,
      "id": "080d1d6b",
      "metadata": {
        "scrolled": true,
        "colab": {
          "base_uri": "https://localhost:8080/"
        },
        "id": "080d1d6b",
        "outputId": "97a9895b-2b1b-4078-a586-7cef2cf4b461"
      },
      "outputs": [
        {
          "output_type": "stream",
          "name": "stdout",
          "text": [
            "{'eta_0': array([0.83540777, 0.11496684]), 'eta_1': array([0.92883654, 0.07604098]), 'eta_2': array([0.00860688, 0.36506781]), 'eta_3': array([0.30006923, 0.56526334]), 'eta_4': array([0.01747917, 0.15878484]), 'eta_5': array([0.81732046, 0.81338932]), 'eta_6': array([0.46746759, 0.21584217])}\n",
            "[100.91450255 108.55452257]\n",
            "[ 96.96146553 108.1156154 ]\n"
          ]
        }
      ],
      "source": [
        "n_wt = 2\n",
        "d_eta_dict = f_eta(np.random.rand(n_wt * n_eta).reshape([n_eta, n_wt]))\n",
        "print(d_eta_dict)\n",
        "H, D = eta_wts.get_defaults(n_wt, **d_eta_dict)\n",
        "print(D)\n",
        "print(H)"
      ]
    },
    {
      "cell_type": "markdown",
      "id": "26b99a6b",
      "metadata": {
        "id": "26b99a6b"
      },
      "source": [
        "### Wind Farm setup "
      ]
    },
    {
      "cell_type": "code",
      "execution_count": 24,
      "id": "a95738a9",
      "metadata": {
        "id": "a95738a9"
      },
      "outputs": [],
      "source": [
        "from py_wake.deficit_models import NOJDeficit\n",
        "from py_wake.superposition_models import SquaredSum"
      ]
    },
    {
      "cell_type": "code",
      "execution_count": 25,
      "id": "eb677097",
      "metadata": {
        "scrolled": false,
        "id": "eb677097"
      },
      "outputs": [],
      "source": [
        "site = Hornsrev1Site()\n",
        "wfm = MyPropagateDownwind(site, eta_wts, wake_deficitModel=NOJDeficit(), superpositionModel=SquaredSum())"
      ]
    },
    {
      "cell_type": "code",
      "execution_count": 26,
      "id": "2697ba3f",
      "metadata": {
        "scrolled": true,
        "colab": {
          "base_uri": "https://localhost:8080/"
        },
        "id": "2697ba3f",
        "outputId": "14729a48-677e-4d11-e8d5-f1e3c340399c"
      },
      "outputs": [
        {
          "output_type": "execute_result",
          "data": {
            "text/plain": [
              "154.72901145954603"
            ]
          },
          "metadata": {},
          "execution_count": 26
        }
      ],
      "source": [
        "wfm.aep(np.array(wt_x)[:n_wt], np.array(wt_y)[:n_wt], **d_eta_dict)"
      ]
    },
    {
      "cell_type": "code",
      "execution_count": 27,
      "id": "22baf17d",
      "metadata": {
        "scrolled": true,
        "id": "22baf17d"
      },
      "outputs": [],
      "source": [
        "n_wt = 10\n",
        "x, y = np.array(wt_x)[:n_wt], np.array(wt_y)[:n_wt]\n",
        "\n",
        "n_eta = DH_array.shape[0]\n",
        "n_ds = n_wt * n_eta\n",
        "lamb1 = 1.E1\n",
        "lamb2 = 1.E1\n",
        "ref_aep = 1.1 * 1E1\n",
        "\n",
        "q = 6\n",
        "\n",
        "def constraint(eta_array):\n",
        "    return (lamb1 * np.sum((1-eta_array.sum(0))**2.0)**2. + \n",
        "            lamb2 * np.sum((eta_array*(1-eta_array))**2.))\n",
        "\n",
        "def ramp(eta):\n",
        "    \"\"\"DOI:10.48550/arXiv.2203.13525 - Eq.18\"\"\"\n",
        "    return eta / (1 + q*(1-eta))\n",
        "\n",
        "def compute_DH(eta_array):\n",
        "    return ((eta_array[:, :, na] * DH_array[:, na, :]).sum(0) / \n",
        "            (eta_array+1.E-12).sum(0)[:, na]).T\n",
        "\n",
        "def compute_aep(eta_array):\n",
        "    #, wd=np.linspace(0, 360, 12, endpoint=False)\n",
        "    return  wfm.aep(x, y, n_cpu=1, **f_eta(eta_array)).sum()\n",
        "\n",
        "def my_obj_func(eta_vec):\n",
        "    #Adding the ramp\n",
        "    eta_vec = ramp(eta_vec)\n",
        "    eta_array = eta_vec.reshape([n_eta, n_wt])\n",
        "    #D, H = compute_DH(eta_array)\n",
        "    #D = D + 1.E-12\n",
        "    #H = H + 1.E-12\n",
        "    aep = compute_aep(eta_array)\n",
        "    penality = constraint(eta_array)\n",
        "    return penality - aep / ref_aep\n",
        "\n",
        "\n",
        "aep_grad = autograd(my_obj_func)"
      ]
    },
    {
      "cell_type": "code",
      "execution_count": 28,
      "id": "773cd060",
      "metadata": {
        "id": "773cd060"
      },
      "outputs": [],
      "source": [
        "def process_results(x):\n",
        "    x = ramp(x)\n",
        "    eta_array = x.reshape([n_eta, n_wt])\n",
        "    if constraint(eta_array)>1E-3:\n",
        "        print('constraint not fullfilled', constraint(eta_array))\n",
        "    else:\n",
        "        print('constraint fullfilled', constraint(eta_array))\n",
        "    print('eta.sum(0)', eta_array.sum(0))\n",
        "    D, H = ((eta_array[:, :, na] * DH_array[:, na, :]).sum(0) / (eta_array).sum(0)[:, na]).T\n",
        "    print('D', D)\n",
        "    print('H', H)\n",
        "    aep = compute_aep(eta_array)\n",
        "    print('aep', aep)\n",
        "    return aep\n",
        "    "
      ]
    },
    {
      "cell_type": "markdown",
      "id": "6f608694",
      "metadata": {
        "id": "6f608694"
      },
      "source": [
        "Testing with a valid turbine"
      ]
    },
    {
      "cell_type": "code",
      "execution_count": 29,
      "id": "1d1d4716",
      "metadata": {
        "id": "1d1d4716"
      },
      "outputs": [],
      "source": [
        "eta_array = np.zeros([n_eta, n_wt])\n",
        "eta_array[1,:] = 1.0"
      ]
    },
    {
      "cell_type": "code",
      "execution_count": 30,
      "id": "02496467",
      "metadata": {
        "colab": {
          "base_uri": "https://localhost:8080/"
        },
        "id": "02496467",
        "outputId": "bc17cfa8-76be-4b36-9770-aba1676c61a0"
      },
      "outputs": [
        {
          "output_type": "execute_result",
          "data": {
            "text/plain": [
              "array([[0., 0., 0., 0., 0., 0., 0., 0., 0., 0.],\n",
              "       [1., 1., 1., 1., 1., 1., 1., 1., 1., 1.],\n",
              "       [0., 0., 0., 0., 0., 0., 0., 0., 0., 0.],\n",
              "       [0., 0., 0., 0., 0., 0., 0., 0., 0., 0.],\n",
              "       [0., 0., 0., 0., 0., 0., 0., 0., 0., 0.],\n",
              "       [0., 0., 0., 0., 0., 0., 0., 0., 0., 0.],\n",
              "       [0., 0., 0., 0., 0., 0., 0., 0., 0., 0.]])"
            ]
          },
          "metadata": {},
          "execution_count": 30
        }
      ],
      "source": [
        "eta_array"
      ]
    },
    {
      "cell_type": "code",
      "execution_count": 31,
      "id": "94d9a5f8",
      "metadata": {
        "colab": {
          "base_uri": "https://localhost:8080/"
        },
        "id": "94d9a5f8",
        "outputId": "971e1379-089b-447f-83f6-1346d895273b"
      },
      "outputs": [
        {
          "output_type": "execute_result",
          "data": {
            "text/plain": [
              "{'eta_0': array([0., 0., 0., 0., 0., 0., 0., 0., 0., 0.]),\n",
              " 'eta_1': array([1., 1., 1., 1., 1., 1., 1., 1., 1., 1.]),\n",
              " 'eta_2': array([0., 0., 0., 0., 0., 0., 0., 0., 0., 0.]),\n",
              " 'eta_3': array([0., 0., 0., 0., 0., 0., 0., 0., 0., 0.]),\n",
              " 'eta_4': array([0., 0., 0., 0., 0., 0., 0., 0., 0., 0.]),\n",
              " 'eta_5': array([0., 0., 0., 0., 0., 0., 0., 0., 0., 0.]),\n",
              " 'eta_6': array([0., 0., 0., 0., 0., 0., 0., 0., 0., 0.])}"
            ]
          },
          "metadata": {},
          "execution_count": 31
        }
      ],
      "source": [
        "f_eta(eta_array)"
      ]
    },
    {
      "cell_type": "code",
      "execution_count": 32,
      "id": "33934017",
      "metadata": {
        "colab": {
          "base_uri": "https://localhost:8080/"
        },
        "id": "33934017",
        "outputId": "e2416cc5-397d-44cb-a39b-43451212fc81"
      },
      "outputs": [
        {
          "output_type": "execute_result",
          "data": {
            "text/plain": [
              "-70.33035934750079"
            ]
          },
          "metadata": {},
          "execution_count": 32
        }
      ],
      "source": [
        "my_obj_func(eta_array.flatten())"
      ]
    },
    {
      "cell_type": "code",
      "execution_count": 33,
      "id": "d2efb91d",
      "metadata": {
        "colab": {
          "base_uri": "https://localhost:8080/"
        },
        "id": "d2efb91d",
        "outputId": "2390e488-4247-44fa-9ca5-892d5573babf"
      },
      "outputs": [
        {
          "output_type": "stream",
          "name": "stdout",
          "text": [
            "constraint fullfilled 0.0\n",
            "eta.sum(0) [1. 1. 1. 1. 1. 1. 1. 1. 1. 1.]\n",
            "D [80. 80. 80. 80. 80. 80. 80. 80. 80. 80.]\n",
            "H [100. 100. 100. 100. 100. 100. 100. 100. 100. 100.]\n",
            "aep 773.6339528225087\n"
          ]
        },
        {
          "output_type": "execute_result",
          "data": {
            "text/plain": [
              "773.6339528225087"
            ]
          },
          "metadata": {},
          "execution_count": 33
        }
      ],
      "source": [
        "process_results(eta_array)"
      ]
    },
    {
      "cell_type": "code",
      "execution_count": 34,
      "id": "d4f17efc",
      "metadata": {
        "colab": {
          "base_uri": "https://localhost:8080/"
        },
        "id": "d4f17efc",
        "outputId": "cde14f46-8a2b-414c-a853-acdd15a8547f"
      },
      "outputs": [
        {
          "output_type": "execute_result",
          "data": {
            "text/plain": [
              "773.6339528225087"
            ]
          },
          "metadata": {},
          "execution_count": 34
        }
      ],
      "source": [
        "wfm.aep(x, y, n_cpu=1, **f_eta(eta_array))"
      ]
    },
    {
      "cell_type": "code",
      "execution_count": 35,
      "id": "1d438beb",
      "metadata": {
        "colab": {
          "base_uri": "https://localhost:8080/"
        },
        "id": "1d438beb",
        "outputId": "000be84d-376b-4ab5-bc80-edb9c20c8d2e"
      },
      "outputs": [
        {
          "output_type": "execute_result",
          "data": {
            "text/plain": [
              "(array([100., 100., 100., 100., 100., 100., 100., 100., 100., 100.]),\n",
              " array([80., 80., 80., 80., 80., 80., 80., 80., 80., 80.]))"
            ]
          },
          "metadata": {},
          "execution_count": 35
        }
      ],
      "source": [
        "wfm.windTurbines.get_defaults(n_wt, **f_eta(eta_array))"
      ]
    },
    {
      "cell_type": "code",
      "execution_count": 36,
      "id": "1ee8e47b",
      "metadata": {
        "id": "1ee8e47b"
      },
      "outputs": [],
      "source": [
        "def opti_DH(method='SLSQP', x0=None, niter=10, strategy='minimize'):\n",
        "    \"\"\"\n",
        "    Parameters:\n",
        "    -----------\n",
        "    method: str [default='SLSQP'] {'L-BFGS-B','trust-constr','TNC', 'SLSQP'}\n",
        "    x0: np.array\n",
        "        initial design variable. If left None it will randomly pick one.\n",
        "    niter: int\n",
        "        max number of iteration\n",
        "    strategy: str ['default'='minimize'] {'minimize', 'basinhopping'}\n",
        "    \n",
        "    returns: tuple\n",
        "        - scipy minimize result dictionary\n",
        "        - aep\n",
        "    \n",
        "    \"\"\"\n",
        "    np.random.seed((os.getpid() * int(time.time())) % 123456789) # random the seed\n",
        "    if x0 is None:\n",
        "        x0 = np.random.rand(n_ds)\n",
        "        \n",
        "    bounds = np.stack([np.zeros(n_ds), np.ones(n_ds)]).T\n",
        "    if strategy=='minimize':\n",
        "        res = minimize(my_obj_func, x0, jac=aep_grad, bounds=bounds, method=method, \n",
        "                       options={'maxiter':niter})\n",
        "    if strategy=='basinhopping':\n",
        "        res = basinhopping(my_obj_func, x0, \n",
        "                           minimizer_kwargs={'method':method, 'jac':aep_grad, 'bounds':bounds}, \n",
        "                           niter=niter)\n",
        "    print(res)\n",
        "    return res, process_results(res['x'])"
      ]
    },
    {
      "cell_type": "code",
      "execution_count": 37,
      "id": "a903773c",
      "metadata": {
        "id": "a903773c"
      },
      "outputs": [],
      "source": [
        "save_aep = {}\n",
        "save_res = {}"
      ]
    },
    {
      "cell_type": "code",
      "execution_count": 38,
      "id": "24e69167",
      "metadata": {
        "scrolled": false,
        "colab": {
          "base_uri": "https://localhost:8080/"
        },
        "id": "24e69167",
        "outputId": "5b67d19d-412e-40b1-9a2d-a091ebee36a6"
      },
      "outputs": [
        {
          "output_type": "stream",
          "name": "stdout",
          "text": [
            "     fun: -67.21241728975085\n",
            "     jac: array([-5.39376740e-04, -5.89411220e-06, -3.39954930e-03, -2.86278005e-04,\n",
            "        1.53309191e-04,  4.02070018e-04,  6.14829357e-04,  2.59940533e-04,\n",
            "        1.71137791e-04, -1.77924082e-05, -1.15081289e-03, -1.25708099e-05,\n",
            "        1.13770424e-04,  2.34880658e-04,  1.12539952e-04,  1.58123036e-05,\n",
            "        5.14681715e-04,  2.60396208e-04,  1.13605258e-04, -2.30579562e-05,\n",
            "       -5.57813777e-04, -1.92475076e-05,  1.24312262e-04, -1.91419185e-04,\n",
            "        3.79040775e-03,  7.78164972e-05,  2.60749746e-04,  3.56070435e-04,\n",
            "        1.12809181e-04, -2.83235041e-05, -1.70659522e-03, -4.22901179e-06,\n",
            "        1.48773613e-04, -2.20712650e-04,  1.17863097e-04,  2.12810393e-05,\n",
            "        4.64769740e-04,  1.21764442e-03,  1.56039882e-04, -1.66858120e-05,\n",
            "       -6.22732254e-04, -1.09057095e-05,  2.10984605e-04,  2.32673661e-04,\n",
            "        1.70053800e-04,  3.15724212e-05,  4.26215722e-04,  2.64490396e-04,\n",
            "        6.09308160e-04, -2.19513600e-05, -2.38012672e-04,  3.78668121e-06,\n",
            "        1.36679330e-04,  2.22665434e-04,  1.20056809e-04,  3.16360833e-05,\n",
            "        4.46167654e-04, -1.01726132e-03,  3.11433142e-04, -1.07787899e-05,\n",
            "       -8.27426571e-04, -5.78588660e-03,  5.20951964e-04, -1.91814086e-04,\n",
            "        1.18235781e-04,  3.63746664e-05,  5.11348593e-04,  2.80570186e-04,\n",
            "        1.42386381e-04, -5.91720621e-03])\n",
            " message: 'Optimization terminated successfully.'\n",
            "    nfev: 120\n",
            "     nit: 82\n",
            "    njev: 82\n",
            "  status: 0\n",
            " success: True\n",
            "       x: array([4.70005195e-01, 0.00000000e+00, 9.99994637e-01, 4.69985706e-01,\n",
            "       1.08472849e-04, 1.00000000e+00, 4.70089047e-01, 0.00000000e+00,\n",
            "       4.69916539e-01, 4.13701967e-05, 4.69807561e-01, 3.87988614e-20,\n",
            "       0.00000000e+00, 4.70034625e-01, 6.72954623e-05, 1.26213893e-20,\n",
            "       4.69997556e-01, 0.00000000e+00, 4.69892825e-01, 1.27645344e-04,\n",
            "       4.70058140e-01, 2.11642131e-20, 1.22051289e-04, 4.69864403e-01,\n",
            "       1.00000000e+00, 0.00000000e+00, 4.69927490e-01, 1.35525272e-19,\n",
            "       4.69928719e-01, 5.06947993e-05, 4.69322274e-01, 0.00000000e+00,\n",
            "       0.00000000e+00, 4.69798131e-01, 4.24083807e-05, 0.00000000e+00,\n",
            "       4.70032843e-01, 2.09574311e-03, 4.69937369e-01, 1.13576315e-05,\n",
            "       4.70006987e-01, 0.00000000e+00, 5.42456663e-06, 4.70024280e-01,\n",
            "       1.84567274e-04, 0.00000000e+00, 4.70054389e-01, 0.00000000e+00,\n",
            "       4.70248324e-01, 4.45346013e-05, 4.70041618e-01, 4.55868814e-19,\n",
            "       0.00000000e+00, 4.70011247e-01, 4.99433925e-05, 1.01643954e-20,\n",
            "       4.69981305e-01, 9.99989735e-01, 4.70034427e-01, 2.53057396e-05,\n",
            "       4.69939771e-01, 9.99996825e-01, 7.23881657e-04, 4.69803514e-01,\n",
            "       4.00301666e-05, 9.61887555e-21, 4.69976547e-01, 6.77626358e-21,\n",
            "       4.69970727e-01, 9.99995676e-01])\n",
            "constraint not fullfilled 3.117499625972814\n",
            "eta.sum(0) [0.78675373 0.99997777 1.00008415 0.78688986 1.0000704  1.\n",
            " 0.78710506 1.00022808 0.78705292 1.00001272]\n",
            "D [100.00103006 130.          80.00518886  99.99834495  80.00129119\n",
            "  80.          99.99921275 129.99100413 100.00274488 129.99819099]\n",
            "H [108.57499338 130.          70.0073007  108.56903255 129.99838603\n",
            "  70.         108.56917574 100.         108.57527051 129.99894116]\n",
            "aep 773.6290860729603\n"
          ]
        }
      ],
      "source": [
        "method = 'SLSQP'# {'trust-constr' | 'TNC' | 'SLSQP' | 'L-BFGS-B'}\n",
        "x0 = None #x0=save_res['L-BFGS-B']['x']\n",
        "strategy='minimize' # {'minimize' | 'basinhopping'}\n",
        "res, aep = opti_DH(method=method, x0=x0, niter=1000, strategy=strategy)\n",
        "save_res[f'{strategy}_{method}'], save_aep[f'{strategy}_{method}'] = res, aep"
      ]
    },
    {
      "cell_type": "code",
      "execution_count": 38,
      "id": "08c0c659",
      "metadata": {
        "id": "08c0c659"
      },
      "outputs": [],
      "source": [
        ""
      ]
    },
    {
      "cell_type": "code",
      "execution_count": 39,
      "id": "ce20d37a",
      "metadata": {
        "colab": {
          "base_uri": "https://localhost:8080/"
        },
        "id": "ce20d37a",
        "outputId": "a75568eb-18b5-4843-f4aa-b7a04fb0e47b"
      },
      "outputs": [
        {
          "output_type": "execute_result",
          "data": {
            "text/plain": [
              "{'minimize_SLSQP': 773.6290860729603}"
            ]
          },
          "metadata": {},
          "execution_count": 39
        }
      ],
      "source": [
        "save_aep"
      ]
    },
    {
      "cell_type": "code",
      "execution_count": 40,
      "id": "50a9cfb6",
      "metadata": {
        "colab": {
          "base_uri": "https://localhost:8080/"
        },
        "id": "50a9cfb6",
        "outputId": "e45048ba-3351-4951-814e-9d0438e81274"
      },
      "outputs": [
        {
          "output_type": "execute_result",
          "data": {
            "text/plain": [
              "{'minimize_SLSQP':      fun: -67.21241728975085\n",
              "     jac: array([-5.39376740e-04, -5.89411220e-06, -3.39954930e-03, -2.86278005e-04,\n",
              "        1.53309191e-04,  4.02070018e-04,  6.14829357e-04,  2.59940533e-04,\n",
              "        1.71137791e-04, -1.77924082e-05, -1.15081289e-03, -1.25708099e-05,\n",
              "        1.13770424e-04,  2.34880658e-04,  1.12539952e-04,  1.58123036e-05,\n",
              "        5.14681715e-04,  2.60396208e-04,  1.13605258e-04, -2.30579562e-05,\n",
              "       -5.57813777e-04, -1.92475076e-05,  1.24312262e-04, -1.91419185e-04,\n",
              "        3.79040775e-03,  7.78164972e-05,  2.60749746e-04,  3.56070435e-04,\n",
              "        1.12809181e-04, -2.83235041e-05, -1.70659522e-03, -4.22901179e-06,\n",
              "        1.48773613e-04, -2.20712650e-04,  1.17863097e-04,  2.12810393e-05,\n",
              "        4.64769740e-04,  1.21764442e-03,  1.56039882e-04, -1.66858120e-05,\n",
              "       -6.22732254e-04, -1.09057095e-05,  2.10984605e-04,  2.32673661e-04,\n",
              "        1.70053800e-04,  3.15724212e-05,  4.26215722e-04,  2.64490396e-04,\n",
              "        6.09308160e-04, -2.19513600e-05, -2.38012672e-04,  3.78668121e-06,\n",
              "        1.36679330e-04,  2.22665434e-04,  1.20056809e-04,  3.16360833e-05,\n",
              "        4.46167654e-04, -1.01726132e-03,  3.11433142e-04, -1.07787899e-05,\n",
              "       -8.27426571e-04, -5.78588660e-03,  5.20951964e-04, -1.91814086e-04,\n",
              "        1.18235781e-04,  3.63746664e-05,  5.11348593e-04,  2.80570186e-04,\n",
              "        1.42386381e-04, -5.91720621e-03])\n",
              " message: 'Optimization terminated successfully.'\n",
              "    nfev: 120\n",
              "     nit: 82\n",
              "    njev: 82\n",
              "  status: 0\n",
              " success: True\n",
              "       x: array([4.70005195e-01, 0.00000000e+00, 9.99994637e-01, 4.69985706e-01,\n",
              "       1.08472849e-04, 1.00000000e+00, 4.70089047e-01, 0.00000000e+00,\n",
              "       4.69916539e-01, 4.13701967e-05, 4.69807561e-01, 3.87988614e-20,\n",
              "       0.00000000e+00, 4.70034625e-01, 6.72954623e-05, 1.26213893e-20,\n",
              "       4.69997556e-01, 0.00000000e+00, 4.69892825e-01, 1.27645344e-04,\n",
              "       4.70058140e-01, 2.11642131e-20, 1.22051289e-04, 4.69864403e-01,\n",
              "       1.00000000e+00, 0.00000000e+00, 4.69927490e-01, 1.35525272e-19,\n",
              "       4.69928719e-01, 5.06947993e-05, 4.69322274e-01, 0.00000000e+00,\n",
              "       0.00000000e+00, 4.69798131e-01, 4.24083807e-05, 0.00000000e+00,\n",
              "       4.70032843e-01, 2.09574311e-03, 4.69937369e-01, 1.13576315e-05,\n",
              "       4.70006987e-01, 0.00000000e+00, 5.42456663e-06, 4.70024280e-01,\n",
              "       1.84567274e-04, 0.00000000e+00, 4.70054389e-01, 0.00000000e+00,\n",
              "       4.70248324e-01, 4.45346013e-05, 4.70041618e-01, 4.55868814e-19,\n",
              "       0.00000000e+00, 4.70011247e-01, 4.99433925e-05, 1.01643954e-20,\n",
              "       4.69981305e-01, 9.99989735e-01, 4.70034427e-01, 2.53057396e-05,\n",
              "       4.69939771e-01, 9.99996825e-01, 7.23881657e-04, 4.69803514e-01,\n",
              "       4.00301666e-05, 9.61887555e-21, 4.69976547e-01, 6.77626358e-21,\n",
              "       4.69970727e-01, 9.99995676e-01])}"
            ]
          },
          "metadata": {},
          "execution_count": 40
        }
      ],
      "source": [
        "save_res"
      ]
    },
    {
      "cell_type": "code",
      "execution_count": 42,
      "id": "1cc00f59",
      "metadata": {
        "colab": {
          "base_uri": "https://localhost:8080/",
          "height": 901
        },
        "id": "1cc00f59",
        "outputId": "8eee8c7d-1151-4818-8d37-ae079fd84a3a"
      },
      "outputs": [
        {
          "output_type": "stream",
          "name": "stderr",
          "text": [
            "Process ForkPoolWorker-1:\n",
            "Process ForkPoolWorker-2:\n",
            "Traceback (most recent call last):\n",
            "  File \"/usr/lib/python3.7/multiprocessing/process.py\", line 297, in _bootstrap\n",
            "    self.run()\n",
            "Traceback (most recent call last):\n",
            "  File \"/usr/lib/python3.7/multiprocessing/process.py\", line 99, in run\n",
            "    self._target(*self._args, **self._kwargs)\n",
            "  File \"/usr/lib/python3.7/multiprocessing/process.py\", line 297, in _bootstrap\n",
            "    self.run()\n",
            "  File \"/usr/lib/python3.7/multiprocessing/pool.py\", line 110, in worker\n",
            "    task = get()\n",
            "  File \"/usr/lib/python3.7/multiprocessing/process.py\", line 99, in run\n",
            "    self._target(*self._args, **self._kwargs)\n",
            "  File \"/usr/lib/python3.7/multiprocessing/pool.py\", line 110, in worker\n",
            "    task = get()\n",
            "  File \"/usr/lib/python3.7/multiprocessing/queues.py\", line 352, in get\n",
            "    res = self._reader.recv_bytes()\n",
            "  File \"/usr/lib/python3.7/multiprocessing/queues.py\", line 351, in get\n",
            "    with self._rlock:\n",
            "  File \"/usr/lib/python3.7/multiprocessing/connection.py\", line 216, in recv_bytes\n",
            "    buf = self._recv_bytes(maxlength)\n",
            "  File \"/usr/lib/python3.7/multiprocessing/synchronize.py\", line 95, in __enter__\n",
            "    return self._semlock.__enter__()\n"
          ]
        },
        {
          "output_type": "error",
          "ename": "KeyboardInterrupt",
          "evalue": "ignored",
          "traceback": [
            "\u001b[0;31m---------------------------------------------------------------------------\u001b[0m",
            "\u001b[0;31mKeyboardInterrupt\u001b[0m                         Traceback (most recent call last)",
            "\u001b[0;32m<ipython-input-42-c30f161789c2>\u001b[0m in \u001b[0;36m<module>\u001b[0;34m()\u001b[0m\n\u001b[1;32m      1\u001b[0m \u001b[0ma_pool\u001b[0m \u001b[0;34m=\u001b[0m \u001b[0mmultiprocessing\u001b[0m\u001b[0;34m.\u001b[0m\u001b[0mget_context\u001b[0m\u001b[0;34m(\u001b[0m\u001b[0;34m'fork'\u001b[0m\u001b[0;34m)\u001b[0m\u001b[0;34m.\u001b[0m\u001b[0mPool\u001b[0m\u001b[0;34m(\u001b[0m\u001b[0;34m)\u001b[0m\u001b[0;34m\u001b[0m\u001b[0;34m\u001b[0m\u001b[0m\n\u001b[1;32m      2\u001b[0m \u001b[0mbounds\u001b[0m \u001b[0;34m=\u001b[0m \u001b[0mnp\u001b[0m\u001b[0;34m.\u001b[0m\u001b[0mstack\u001b[0m\u001b[0;34m(\u001b[0m\u001b[0;34m[\u001b[0m\u001b[0mnp\u001b[0m\u001b[0;34m.\u001b[0m\u001b[0mzeros\u001b[0m\u001b[0;34m(\u001b[0m\u001b[0mn_ds\u001b[0m\u001b[0;34m)\u001b[0m\u001b[0;34m,\u001b[0m \u001b[0mnp\u001b[0m\u001b[0;34m.\u001b[0m\u001b[0mones\u001b[0m\u001b[0;34m(\u001b[0m\u001b[0mn_ds\u001b[0m\u001b[0;34m)\u001b[0m\u001b[0;34m]\u001b[0m\u001b[0;34m)\u001b[0m\u001b[0;34m.\u001b[0m\u001b[0mT\u001b[0m\u001b[0;34m\u001b[0m\u001b[0;34m\u001b[0m\u001b[0m\n\u001b[0;32m----> 3\u001b[0;31m \u001b[0mres\u001b[0m \u001b[0;34m=\u001b[0m \u001b[0mbasinhopping\u001b[0m\u001b[0;34m(\u001b[0m\u001b[0mmy_obj_func\u001b[0m\u001b[0;34m,\u001b[0m \u001b[0mres\u001b[0m\u001b[0;34m[\u001b[0m\u001b[0;34m'x'\u001b[0m\u001b[0;34m]\u001b[0m\u001b[0;34m,\u001b[0m \u001b[0mminimizer_kwargs\u001b[0m\u001b[0;34m=\u001b[0m\u001b[0;34m{\u001b[0m\u001b[0;34m'method'\u001b[0m\u001b[0;34m:\u001b[0m\u001b[0;34m'L-BFGS-B'\u001b[0m\u001b[0;34m,\u001b[0m \u001b[0;34m'jac'\u001b[0m\u001b[0;34m:\u001b[0m\u001b[0maep_grad\u001b[0m\u001b[0;34m,\u001b[0m \u001b[0;34m'bounds'\u001b[0m\u001b[0;34m:\u001b[0m\u001b[0mbounds\u001b[0m\u001b[0;34m}\u001b[0m\u001b[0;34m,\u001b[0m \u001b[0mniter\u001b[0m\u001b[0;34m=\u001b[0m\u001b[0;36m100\u001b[0m\u001b[0;34m)\u001b[0m\u001b[0;34m\u001b[0m\u001b[0;34m\u001b[0m\u001b[0m\n\u001b[0m\u001b[1;32m      4\u001b[0m \u001b[0mprint\u001b[0m\u001b[0;34m(\u001b[0m\u001b[0mres\u001b[0m\u001b[0;34m)\u001b[0m\u001b[0;34m\u001b[0m\u001b[0;34m\u001b[0m\u001b[0m\n\u001b[1;32m      5\u001b[0m \u001b[0mbasinhopping_aep\u001b[0m \u001b[0;34m=\u001b[0m \u001b[0mprocess_results\u001b[0m\u001b[0;34m(\u001b[0m\u001b[0mres\u001b[0m\u001b[0;34m[\u001b[0m\u001b[0;34m'x'\u001b[0m\u001b[0;34m]\u001b[0m\u001b[0;34m)\u001b[0m\u001b[0;34m\u001b[0m\u001b[0;34m\u001b[0m\u001b[0m\n",
            "\u001b[0;32m/usr/local/lib/python3.7/dist-packages/scipy/optimize/_basinhopping.py\u001b[0m in \u001b[0;36mbasinhopping\u001b[0;34m(func, x0, niter, T, stepsize, minimizer_kwargs, take_step, accept_test, callback, interval, disp, niter_success, seed)\u001b[0m\n\u001b[1;32m    674\u001b[0m                \" successfully\"]\n\u001b[1;32m    675\u001b[0m     \u001b[0;32mfor\u001b[0m \u001b[0mi\u001b[0m \u001b[0;32min\u001b[0m \u001b[0mrange\u001b[0m\u001b[0;34m(\u001b[0m\u001b[0mniter\u001b[0m\u001b[0;34m)\u001b[0m\u001b[0;34m:\u001b[0m\u001b[0;34m\u001b[0m\u001b[0;34m\u001b[0m\u001b[0m\n\u001b[0;32m--> 676\u001b[0;31m         \u001b[0mnew_global_min\u001b[0m \u001b[0;34m=\u001b[0m \u001b[0mbh\u001b[0m\u001b[0;34m.\u001b[0m\u001b[0mone_cycle\u001b[0m\u001b[0;34m(\u001b[0m\u001b[0;34m)\u001b[0m\u001b[0;34m\u001b[0m\u001b[0;34m\u001b[0m\u001b[0m\n\u001b[0m\u001b[1;32m    677\u001b[0m \u001b[0;34m\u001b[0m\u001b[0m\n\u001b[1;32m    678\u001b[0m         \u001b[0;32mif\u001b[0m \u001b[0mcallable\u001b[0m\u001b[0;34m(\u001b[0m\u001b[0mcallback\u001b[0m\u001b[0;34m)\u001b[0m\u001b[0;34m:\u001b[0m\u001b[0;34m\u001b[0m\u001b[0;34m\u001b[0m\u001b[0m\n",
            "\u001b[0;32m/usr/local/lib/python3.7/dist-packages/scipy/optimize/_basinhopping.py\u001b[0m in \u001b[0;36mone_cycle\u001b[0;34m(self)\u001b[0m\n\u001b[1;32m    152\u001b[0m         \u001b[0mnew_global_min\u001b[0m \u001b[0;34m=\u001b[0m \u001b[0;32mFalse\u001b[0m\u001b[0;34m\u001b[0m\u001b[0;34m\u001b[0m\u001b[0m\n\u001b[1;32m    153\u001b[0m \u001b[0;34m\u001b[0m\u001b[0m\n\u001b[0;32m--> 154\u001b[0;31m         \u001b[0maccept\u001b[0m\u001b[0;34m,\u001b[0m \u001b[0mminres\u001b[0m \u001b[0;34m=\u001b[0m \u001b[0mself\u001b[0m\u001b[0;34m.\u001b[0m\u001b[0m_monte_carlo_step\u001b[0m\u001b[0;34m(\u001b[0m\u001b[0;34m)\u001b[0m\u001b[0;34m\u001b[0m\u001b[0;34m\u001b[0m\u001b[0m\n\u001b[0m\u001b[1;32m    155\u001b[0m \u001b[0;34m\u001b[0m\u001b[0m\n\u001b[1;32m    156\u001b[0m         \u001b[0;32mif\u001b[0m \u001b[0maccept\u001b[0m\u001b[0;34m:\u001b[0m\u001b[0;34m\u001b[0m\u001b[0;34m\u001b[0m\u001b[0m\n",
            "\u001b[0;32m/usr/local/lib/python3.7/dist-packages/scipy/optimize/_basinhopping.py\u001b[0m in \u001b[0;36m_monte_carlo_step\u001b[0;34m(self)\u001b[0m\n\u001b[1;32m    104\u001b[0m \u001b[0;34m\u001b[0m\u001b[0m\n\u001b[1;32m    105\u001b[0m         \u001b[0;31m# do a local minimization\u001b[0m\u001b[0;34m\u001b[0m\u001b[0;34m\u001b[0m\u001b[0;34m\u001b[0m\u001b[0m\n\u001b[0;32m--> 106\u001b[0;31m         \u001b[0mminres\u001b[0m \u001b[0;34m=\u001b[0m \u001b[0mself\u001b[0m\u001b[0;34m.\u001b[0m\u001b[0mminimizer\u001b[0m\u001b[0;34m(\u001b[0m\u001b[0mx_after_step\u001b[0m\u001b[0;34m)\u001b[0m\u001b[0;34m\u001b[0m\u001b[0;34m\u001b[0m\u001b[0m\n\u001b[0m\u001b[1;32m    107\u001b[0m         \u001b[0mx_after_quench\u001b[0m \u001b[0;34m=\u001b[0m \u001b[0mminres\u001b[0m\u001b[0;34m.\u001b[0m\u001b[0mx\u001b[0m\u001b[0;34m\u001b[0m\u001b[0;34m\u001b[0m\u001b[0m\n\u001b[1;32m    108\u001b[0m         \u001b[0menergy_after_quench\u001b[0m \u001b[0;34m=\u001b[0m \u001b[0mminres\u001b[0m\u001b[0;34m.\u001b[0m\u001b[0mfun\u001b[0m\u001b[0;34m\u001b[0m\u001b[0;34m\u001b[0m\u001b[0m\n",
            "\u001b[0;32m/usr/local/lib/python3.7/dist-packages/scipy/optimize/_basinhopping.py\u001b[0m in \u001b[0;36m__call__\u001b[0;34m(self, x0)\u001b[0m\n\u001b[1;32m    284\u001b[0m             \u001b[0;32mreturn\u001b[0m \u001b[0mself\u001b[0m\u001b[0;34m.\u001b[0m\u001b[0mminimizer\u001b[0m\u001b[0;34m(\u001b[0m\u001b[0mx0\u001b[0m\u001b[0;34m,\u001b[0m \u001b[0;34m**\u001b[0m\u001b[0mself\u001b[0m\u001b[0;34m.\u001b[0m\u001b[0mkwargs\u001b[0m\u001b[0;34m)\u001b[0m\u001b[0;34m\u001b[0m\u001b[0;34m\u001b[0m\u001b[0m\n\u001b[1;32m    285\u001b[0m         \u001b[0;32melse\u001b[0m\u001b[0;34m:\u001b[0m\u001b[0;34m\u001b[0m\u001b[0;34m\u001b[0m\u001b[0m\n\u001b[0;32m--> 286\u001b[0;31m             \u001b[0;32mreturn\u001b[0m \u001b[0mself\u001b[0m\u001b[0;34m.\u001b[0m\u001b[0mminimizer\u001b[0m\u001b[0;34m(\u001b[0m\u001b[0mself\u001b[0m\u001b[0;34m.\u001b[0m\u001b[0mfunc\u001b[0m\u001b[0;34m,\u001b[0m \u001b[0mx0\u001b[0m\u001b[0;34m,\u001b[0m \u001b[0;34m**\u001b[0m\u001b[0mself\u001b[0m\u001b[0;34m.\u001b[0m\u001b[0mkwargs\u001b[0m\u001b[0;34m)\u001b[0m\u001b[0;34m\u001b[0m\u001b[0;34m\u001b[0m\u001b[0m\n\u001b[0m\u001b[1;32m    287\u001b[0m \u001b[0;34m\u001b[0m\u001b[0m\n\u001b[1;32m    288\u001b[0m \u001b[0;34m\u001b[0m\u001b[0m\n",
            "\u001b[0;32m/usr/local/lib/python3.7/dist-packages/scipy/optimize/_minimize.py\u001b[0m in \u001b[0;36mminimize\u001b[0;34m(fun, x0, args, method, jac, hess, hessp, bounds, constraints, tol, callback, options)\u001b[0m\n\u001b[1;32m    608\u001b[0m     \u001b[0;32melif\u001b[0m \u001b[0mmeth\u001b[0m \u001b[0;34m==\u001b[0m \u001b[0;34m'l-bfgs-b'\u001b[0m\u001b[0;34m:\u001b[0m\u001b[0;34m\u001b[0m\u001b[0;34m\u001b[0m\u001b[0m\n\u001b[1;32m    609\u001b[0m         return _minimize_lbfgsb(fun, x0, args, jac, bounds,\n\u001b[0;32m--> 610\u001b[0;31m                                 callback=callback, **options)\n\u001b[0m\u001b[1;32m    611\u001b[0m     \u001b[0;32melif\u001b[0m \u001b[0mmeth\u001b[0m \u001b[0;34m==\u001b[0m \u001b[0;34m'tnc'\u001b[0m\u001b[0;34m:\u001b[0m\u001b[0;34m\u001b[0m\u001b[0;34m\u001b[0m\u001b[0m\n\u001b[1;32m    612\u001b[0m         return _minimize_tnc(fun, x0, args, jac, bounds, callback=callback,\n",
            "\u001b[0;32m/usr/local/lib/python3.7/dist-packages/scipy/optimize/lbfgsb.py\u001b[0m in \u001b[0;36m_minimize_lbfgsb\u001b[0;34m(fun, x0, args, jac, bounds, disp, maxcor, ftol, gtol, eps, maxfun, maxiter, iprint, callback, maxls, **unknown_options)\u001b[0m\n\u001b[1;32m    343\u001b[0m             \u001b[0;31m# until the completion of the current minimization iteration.\u001b[0m\u001b[0;34m\u001b[0m\u001b[0;34m\u001b[0m\u001b[0;34m\u001b[0m\u001b[0m\n\u001b[1;32m    344\u001b[0m             \u001b[0;31m# Overwrite f and g:\u001b[0m\u001b[0;34m\u001b[0m\u001b[0;34m\u001b[0m\u001b[0;34m\u001b[0m\u001b[0m\n\u001b[0;32m--> 345\u001b[0;31m             \u001b[0mf\u001b[0m\u001b[0;34m,\u001b[0m \u001b[0mg\u001b[0m \u001b[0;34m=\u001b[0m \u001b[0mfunc_and_grad\u001b[0m\u001b[0;34m(\u001b[0m\u001b[0mx\u001b[0m\u001b[0;34m)\u001b[0m\u001b[0;34m\u001b[0m\u001b[0;34m\u001b[0m\u001b[0m\n\u001b[0m\u001b[1;32m    346\u001b[0m         \u001b[0;32melif\u001b[0m \u001b[0mtask_str\u001b[0m\u001b[0;34m.\u001b[0m\u001b[0mstartswith\u001b[0m\u001b[0;34m(\u001b[0m\u001b[0;34mb'NEW_X'\u001b[0m\u001b[0;34m)\u001b[0m\u001b[0;34m:\u001b[0m\u001b[0;34m\u001b[0m\u001b[0;34m\u001b[0m\u001b[0m\n\u001b[1;32m    347\u001b[0m             \u001b[0;31m# new iteration\u001b[0m\u001b[0;34m\u001b[0m\u001b[0;34m\u001b[0m\u001b[0;34m\u001b[0m\u001b[0m\n",
            "\u001b[0;32m/usr/local/lib/python3.7/dist-packages/scipy/optimize/lbfgsb.py\u001b[0m in \u001b[0;36mfunc_and_grad\u001b[0;34m(x)\u001b[0m\n\u001b[1;32m    294\u001b[0m         \u001b[0;32mdef\u001b[0m \u001b[0mfunc_and_grad\u001b[0m\u001b[0;34m(\u001b[0m\u001b[0mx\u001b[0m\u001b[0;34m)\u001b[0m\u001b[0;34m:\u001b[0m\u001b[0;34m\u001b[0m\u001b[0;34m\u001b[0m\u001b[0m\n\u001b[1;32m    295\u001b[0m             \u001b[0mf\u001b[0m \u001b[0;34m=\u001b[0m \u001b[0mfun\u001b[0m\u001b[0;34m(\u001b[0m\u001b[0mx\u001b[0m\u001b[0;34m,\u001b[0m \u001b[0;34m*\u001b[0m\u001b[0margs\u001b[0m\u001b[0;34m)\u001b[0m\u001b[0;34m\u001b[0m\u001b[0;34m\u001b[0m\u001b[0m\n\u001b[0;32m--> 296\u001b[0;31m             \u001b[0mg\u001b[0m \u001b[0;34m=\u001b[0m \u001b[0mjac\u001b[0m\u001b[0;34m(\u001b[0m\u001b[0mx\u001b[0m\u001b[0;34m,\u001b[0m \u001b[0;34m*\u001b[0m\u001b[0margs\u001b[0m\u001b[0;34m)\u001b[0m\u001b[0;34m\u001b[0m\u001b[0;34m\u001b[0m\u001b[0m\n\u001b[0m\u001b[1;32m    297\u001b[0m             \u001b[0;32mreturn\u001b[0m \u001b[0mf\u001b[0m\u001b[0;34m,\u001b[0m \u001b[0mg\u001b[0m\u001b[0;34m\u001b[0m\u001b[0;34m\u001b[0m\u001b[0m\n\u001b[1;32m    298\u001b[0m \u001b[0;34m\u001b[0m\u001b[0m\n",
            "\u001b[0;32m/usr/local/lib/python3.7/dist-packages/py_wake/utils/gradients.py\u001b[0m in \u001b[0;36mwrap2\u001b[0;34m(*args, **kwargs)\u001b[0m\n\u001b[1;32m    185\u001b[0m                 \u001b[0margs\u001b[0m\u001b[0;34m,\u001b[0m \u001b[0mkwargs\u001b[0m \u001b[0;34m=\u001b[0m \u001b[0mkwargs2args\u001b[0m\u001b[0;34m(\u001b[0m\u001b[0mf\u001b[0m\u001b[0;34m,\u001b[0m \u001b[0;34m*\u001b[0m\u001b[0margs\u001b[0m\u001b[0;34m,\u001b[0m \u001b[0;34m**\u001b[0m\u001b[0mkwargs\u001b[0m\u001b[0;34m)\u001b[0m\u001b[0;34m\u001b[0m\u001b[0;34m\u001b[0m\u001b[0m\n\u001b[1;32m    186\u001b[0m                 return grad_func(*(args[:argnum] + (np.asarray(args[argnum], dtype=np.float),) + args[argnum + 1:]),  # @UndefinedVariable\n\u001b[0;32m--> 187\u001b[0;31m                                  **kwargs)\n\u001b[0m\u001b[1;32m    188\u001b[0m         \u001b[0;32mreturn\u001b[0m \u001b[0mwrap2\u001b[0m\u001b[0;34m\u001b[0m\u001b[0;34m\u001b[0m\u001b[0m\n\u001b[1;32m    189\u001b[0m \u001b[0;34m\u001b[0m\u001b[0m\n",
            "\u001b[0;32m/usr/local/lib/python3.7/dist-packages/autograd/wrap_util.py\u001b[0m in \u001b[0;36mnary_f\u001b[0;34m(*args, **kwargs)\u001b[0m\n\u001b[1;32m     18\u001b[0m             \u001b[0;32melse\u001b[0m\u001b[0;34m:\u001b[0m\u001b[0;34m\u001b[0m\u001b[0;34m\u001b[0m\u001b[0m\n\u001b[1;32m     19\u001b[0m                 \u001b[0mx\u001b[0m \u001b[0;34m=\u001b[0m \u001b[0mtuple\u001b[0m\u001b[0;34m(\u001b[0m\u001b[0margs\u001b[0m\u001b[0;34m[\u001b[0m\u001b[0mi\u001b[0m\u001b[0;34m]\u001b[0m \u001b[0;32mfor\u001b[0m \u001b[0mi\u001b[0m \u001b[0;32min\u001b[0m \u001b[0margnum\u001b[0m\u001b[0;34m)\u001b[0m\u001b[0;34m\u001b[0m\u001b[0;34m\u001b[0m\u001b[0m\n\u001b[0;32m---> 20\u001b[0;31m             \u001b[0;32mreturn\u001b[0m \u001b[0munary_operator\u001b[0m\u001b[0;34m(\u001b[0m\u001b[0munary_f\u001b[0m\u001b[0;34m,\u001b[0m \u001b[0mx\u001b[0m\u001b[0;34m,\u001b[0m \u001b[0;34m*\u001b[0m\u001b[0mnary_op_args\u001b[0m\u001b[0;34m,\u001b[0m \u001b[0;34m**\u001b[0m\u001b[0mnary_op_kwargs\u001b[0m\u001b[0;34m)\u001b[0m\u001b[0;34m\u001b[0m\u001b[0;34m\u001b[0m\u001b[0m\n\u001b[0m\u001b[1;32m     21\u001b[0m         \u001b[0;32mreturn\u001b[0m \u001b[0mnary_f\u001b[0m\u001b[0;34m\u001b[0m\u001b[0;34m\u001b[0m\u001b[0m\n\u001b[1;32m     22\u001b[0m     \u001b[0;32mreturn\u001b[0m \u001b[0mnary_operator\u001b[0m\u001b[0;34m\u001b[0m\u001b[0;34m\u001b[0m\u001b[0m\n",
            "\u001b[0;32m/usr/local/lib/python3.7/dist-packages/autograd/differential_operators.py\u001b[0m in \u001b[0;36mjacobian\u001b[0;34m(fun, x)\u001b[0m\n\u001b[1;32m     59\u001b[0m     \u001b[0mjacobian_shape\u001b[0m \u001b[0;34m=\u001b[0m \u001b[0mans_vspace\u001b[0m\u001b[0;34m.\u001b[0m\u001b[0mshape\u001b[0m \u001b[0;34m+\u001b[0m \u001b[0mvspace\u001b[0m\u001b[0;34m(\u001b[0m\u001b[0mx\u001b[0m\u001b[0;34m)\u001b[0m\u001b[0;34m.\u001b[0m\u001b[0mshape\u001b[0m\u001b[0;34m\u001b[0m\u001b[0;34m\u001b[0m\u001b[0m\n\u001b[1;32m     60\u001b[0m     \u001b[0mgrads\u001b[0m \u001b[0;34m=\u001b[0m \u001b[0mmap\u001b[0m\u001b[0;34m(\u001b[0m\u001b[0mvjp\u001b[0m\u001b[0;34m,\u001b[0m \u001b[0mans_vspace\u001b[0m\u001b[0;34m.\u001b[0m\u001b[0mstandard_basis\u001b[0m\u001b[0;34m(\u001b[0m\u001b[0;34m)\u001b[0m\u001b[0;34m)\u001b[0m\u001b[0;34m\u001b[0m\u001b[0;34m\u001b[0m\u001b[0m\n\u001b[0;32m---> 61\u001b[0;31m     \u001b[0;32mreturn\u001b[0m \u001b[0mnp\u001b[0m\u001b[0;34m.\u001b[0m\u001b[0mreshape\u001b[0m\u001b[0;34m(\u001b[0m\u001b[0mnp\u001b[0m\u001b[0;34m.\u001b[0m\u001b[0mstack\u001b[0m\u001b[0;34m(\u001b[0m\u001b[0mgrads\u001b[0m\u001b[0;34m)\u001b[0m\u001b[0;34m,\u001b[0m \u001b[0mjacobian_shape\u001b[0m\u001b[0;34m)\u001b[0m\u001b[0;34m\u001b[0m\u001b[0;34m\u001b[0m\u001b[0m\n\u001b[0m\u001b[1;32m     62\u001b[0m \u001b[0;34m\u001b[0m\u001b[0m\n\u001b[1;32m     63\u001b[0m \u001b[0;34m@\u001b[0m\u001b[0munary_to_nary\u001b[0m\u001b[0;34m\u001b[0m\u001b[0;34m\u001b[0m\u001b[0m\n",
            "\u001b[0;32m/usr/local/lib/python3.7/dist-packages/autograd/numpy/numpy_wrapper.py\u001b[0m in \u001b[0;36mstack\u001b[0;34m(arrays, axis)\u001b[0m\n\u001b[1;32m     86\u001b[0m     \u001b[0;31m# primitives defined in this file\u001b[0m\u001b[0;34m\u001b[0m\u001b[0;34m\u001b[0m\u001b[0;34m\u001b[0m\u001b[0m\n\u001b[1;32m     87\u001b[0m \u001b[0;34m\u001b[0m\u001b[0m\n\u001b[0;32m---> 88\u001b[0;31m     \u001b[0marrays\u001b[0m \u001b[0;34m=\u001b[0m \u001b[0;34m[\u001b[0m\u001b[0marray\u001b[0m\u001b[0;34m(\u001b[0m\u001b[0marr\u001b[0m\u001b[0;34m)\u001b[0m \u001b[0;32mfor\u001b[0m \u001b[0marr\u001b[0m \u001b[0;32min\u001b[0m \u001b[0marrays\u001b[0m\u001b[0;34m]\u001b[0m\u001b[0;34m\u001b[0m\u001b[0;34m\u001b[0m\u001b[0m\n\u001b[0m\u001b[1;32m     89\u001b[0m     \u001b[0;32mif\u001b[0m \u001b[0;32mnot\u001b[0m \u001b[0marrays\u001b[0m\u001b[0;34m:\u001b[0m\u001b[0;34m\u001b[0m\u001b[0;34m\u001b[0m\u001b[0m\n\u001b[1;32m     90\u001b[0m         \u001b[0;32mraise\u001b[0m \u001b[0mValueError\u001b[0m\u001b[0;34m(\u001b[0m\u001b[0;34m'need at least one array to stack'\u001b[0m\u001b[0;34m)\u001b[0m\u001b[0;34m\u001b[0m\u001b[0;34m\u001b[0m\u001b[0m\n",
            "\u001b[0;32m/usr/local/lib/python3.7/dist-packages/autograd/numpy/numpy_wrapper.py\u001b[0m in \u001b[0;36m<listcomp>\u001b[0;34m(.0)\u001b[0m\n\u001b[1;32m     86\u001b[0m     \u001b[0;31m# primitives defined in this file\u001b[0m\u001b[0;34m\u001b[0m\u001b[0;34m\u001b[0m\u001b[0;34m\u001b[0m\u001b[0m\n\u001b[1;32m     87\u001b[0m \u001b[0;34m\u001b[0m\u001b[0m\n\u001b[0;32m---> 88\u001b[0;31m     \u001b[0marrays\u001b[0m \u001b[0;34m=\u001b[0m \u001b[0;34m[\u001b[0m\u001b[0marray\u001b[0m\u001b[0;34m(\u001b[0m\u001b[0marr\u001b[0m\u001b[0;34m)\u001b[0m \u001b[0;32mfor\u001b[0m \u001b[0marr\u001b[0m \u001b[0;32min\u001b[0m \u001b[0marrays\u001b[0m\u001b[0;34m]\u001b[0m\u001b[0;34m\u001b[0m\u001b[0;34m\u001b[0m\u001b[0m\n\u001b[0m\u001b[1;32m     89\u001b[0m     \u001b[0;32mif\u001b[0m \u001b[0;32mnot\u001b[0m \u001b[0marrays\u001b[0m\u001b[0;34m:\u001b[0m\u001b[0;34m\u001b[0m\u001b[0;34m\u001b[0m\u001b[0m\n\u001b[1;32m     90\u001b[0m         \u001b[0;32mraise\u001b[0m \u001b[0mValueError\u001b[0m\u001b[0;34m(\u001b[0m\u001b[0;34m'need at least one array to stack'\u001b[0m\u001b[0;34m)\u001b[0m\u001b[0;34m\u001b[0m\u001b[0;34m\u001b[0m\u001b[0m\n",
            "\u001b[0;32m/usr/local/lib/python3.7/dist-packages/autograd/core.py\u001b[0m in \u001b[0;36mvjp\u001b[0;34m(g)\u001b[0m\n\u001b[1;32m     12\u001b[0m         \u001b[0;32mdef\u001b[0m \u001b[0mvjp\u001b[0m\u001b[0;34m(\u001b[0m\u001b[0mg\u001b[0m\u001b[0;34m)\u001b[0m\u001b[0;34m:\u001b[0m \u001b[0;32mreturn\u001b[0m \u001b[0mvspace\u001b[0m\u001b[0;34m(\u001b[0m\u001b[0mx\u001b[0m\u001b[0;34m)\u001b[0m\u001b[0;34m.\u001b[0m\u001b[0mzeros\u001b[0m\u001b[0;34m(\u001b[0m\u001b[0;34m)\u001b[0m\u001b[0;34m\u001b[0m\u001b[0;34m\u001b[0m\u001b[0m\n\u001b[1;32m     13\u001b[0m     \u001b[0;32melse\u001b[0m\u001b[0;34m:\u001b[0m\u001b[0;34m\u001b[0m\u001b[0;34m\u001b[0m\u001b[0m\n\u001b[0;32m---> 14\u001b[0;31m         \u001b[0;32mdef\u001b[0m \u001b[0mvjp\u001b[0m\u001b[0;34m(\u001b[0m\u001b[0mg\u001b[0m\u001b[0;34m)\u001b[0m\u001b[0;34m:\u001b[0m \u001b[0;32mreturn\u001b[0m \u001b[0mbackward_pass\u001b[0m\u001b[0;34m(\u001b[0m\u001b[0mg\u001b[0m\u001b[0;34m,\u001b[0m \u001b[0mend_node\u001b[0m\u001b[0;34m)\u001b[0m\u001b[0;34m\u001b[0m\u001b[0;34m\u001b[0m\u001b[0m\n\u001b[0m\u001b[1;32m     15\u001b[0m     \u001b[0;32mreturn\u001b[0m \u001b[0mvjp\u001b[0m\u001b[0;34m,\u001b[0m \u001b[0mend_value\u001b[0m\u001b[0;34m\u001b[0m\u001b[0;34m\u001b[0m\u001b[0m\n\u001b[1;32m     16\u001b[0m \u001b[0;34m\u001b[0m\u001b[0m\n",
            "\u001b[0;32m/usr/local/lib/python3.7/dist-packages/autograd/core.py\u001b[0m in \u001b[0;36mbackward_pass\u001b[0;34m(g, end_node)\u001b[0m\n\u001b[1;32m     19\u001b[0m     \u001b[0;32mfor\u001b[0m \u001b[0mnode\u001b[0m \u001b[0;32min\u001b[0m \u001b[0mtoposort\u001b[0m\u001b[0;34m(\u001b[0m\u001b[0mend_node\u001b[0m\u001b[0;34m)\u001b[0m\u001b[0;34m:\u001b[0m\u001b[0;34m\u001b[0m\u001b[0;34m\u001b[0m\u001b[0m\n\u001b[1;32m     20\u001b[0m         \u001b[0moutgrad\u001b[0m \u001b[0;34m=\u001b[0m \u001b[0moutgrads\u001b[0m\u001b[0;34m.\u001b[0m\u001b[0mpop\u001b[0m\u001b[0;34m(\u001b[0m\u001b[0mnode\u001b[0m\u001b[0;34m)\u001b[0m\u001b[0;34m\u001b[0m\u001b[0;34m\u001b[0m\u001b[0m\n\u001b[0;32m---> 21\u001b[0;31m         \u001b[0mingrads\u001b[0m \u001b[0;34m=\u001b[0m \u001b[0mnode\u001b[0m\u001b[0;34m.\u001b[0m\u001b[0mvjp\u001b[0m\u001b[0;34m(\u001b[0m\u001b[0moutgrad\u001b[0m\u001b[0;34m[\u001b[0m\u001b[0;36m0\u001b[0m\u001b[0;34m]\u001b[0m\u001b[0;34m)\u001b[0m\u001b[0;34m\u001b[0m\u001b[0;34m\u001b[0m\u001b[0m\n\u001b[0m\u001b[1;32m     22\u001b[0m         \u001b[0;32mfor\u001b[0m \u001b[0mparent\u001b[0m\u001b[0;34m,\u001b[0m \u001b[0mingrad\u001b[0m \u001b[0;32min\u001b[0m \u001b[0mzip\u001b[0m\u001b[0;34m(\u001b[0m\u001b[0mnode\u001b[0m\u001b[0;34m.\u001b[0m\u001b[0mparents\u001b[0m\u001b[0;34m,\u001b[0m \u001b[0mingrads\u001b[0m\u001b[0;34m)\u001b[0m\u001b[0;34m:\u001b[0m\u001b[0;34m\u001b[0m\u001b[0;34m\u001b[0m\u001b[0m\n\u001b[1;32m     23\u001b[0m             \u001b[0moutgrads\u001b[0m\u001b[0;34m[\u001b[0m\u001b[0mparent\u001b[0m\u001b[0;34m]\u001b[0m \u001b[0;34m=\u001b[0m \u001b[0madd_outgrads\u001b[0m\u001b[0;34m(\u001b[0m\u001b[0moutgrads\u001b[0m\u001b[0;34m.\u001b[0m\u001b[0mget\u001b[0m\u001b[0;34m(\u001b[0m\u001b[0mparent\u001b[0m\u001b[0;34m)\u001b[0m\u001b[0;34m,\u001b[0m \u001b[0mingrad\u001b[0m\u001b[0;34m)\u001b[0m\u001b[0;34m\u001b[0m\u001b[0;34m\u001b[0m\u001b[0m\n",
            "\u001b[0;31mKeyboardInterrupt\u001b[0m: "
          ]
        },
        {
          "output_type": "stream",
          "name": "stderr",
          "text": [
            "  File \"/usr/lib/python3.7/multiprocessing/connection.py\", line 407, in _recv_bytes\n",
            "    buf = self._recv(4)\n",
            "KeyboardInterrupt\n",
            "  File \"/usr/lib/python3.7/multiprocessing/connection.py\", line 379, in _recv\n",
            "    chunk = read(handle, remaining)\n",
            "KeyboardInterrupt\n"
          ]
        }
      ],
      "source": [
        "a_pool = multiprocessing.get_context('fork').Pool()\n",
        "bounds = np.stack([np.zeros(n_ds), np.ones(n_ds)]).T\n",
        "res = basinhopping(my_obj_func, res['x'], minimizer_kwargs={'method':'L-BFGS-B', 'jac':aep_grad, 'bounds':bounds}, niter=100)\n",
        "print(res)\n",
        "basinhopping_aep = process_results(res['x'])"
      ]
    },
    {
      "cell_type": "code",
      "execution_count": null,
      "id": "de54632a",
      "metadata": {
        "id": "de54632a"
      },
      "outputs": [],
      "source": [
        "#methods = ['dogleg', 'trust-constr', 'TNC', 'SLSQP', 'L-BFGS-B']\n",
        "methods = ['TNC', 'SLSQP', 'L-BFGS-B']\n",
        "\n",
        "\n",
        "results = a_pool.map(opti_DH, methods)\n"
      ]
    },
    {
      "cell_type": "code",
      "execution_count": null,
      "id": "bcb471f8",
      "metadata": {
        "id": "bcb471f8"
      },
      "outputs": [],
      "source": [
        "res = basinhopping(my_obj_func, x0, minimizer_kwargs={'method':'TNC', 'jac':aep_grad, 'bounds':bounds}, niter=100)\n",
        "print(res)\n",
        "basinhopping_aep = process_results(res['x'])"
      ]
    },
    {
      "cell_type": "code",
      "execution_count": null,
      "id": "f1d52596",
      "metadata": {
        "id": "f1d52596"
      },
      "outputs": [],
      "source": [
        "BFGS_aep = process_results(res['x'])"
      ]
    },
    {
      "cell_type": "code",
      "execution_count": null,
      "id": "833aad37",
      "metadata": {
        "id": "833aad37"
      },
      "outputs": [],
      "source": [
        "res"
      ]
    },
    {
      "cell_type": "code",
      "execution_count": null,
      "id": "0511890e",
      "metadata": {
        "id": "0511890e"
      },
      "outputs": [],
      "source": [
        ""
      ]
    },
    {
      "cell_type": "code",
      "execution_count": null,
      "id": "374c1442",
      "metadata": {
        "id": "374c1442"
      },
      "outputs": [],
      "source": [
        "x_end = ramp(res['x'])"
      ]
    },
    {
      "cell_type": "code",
      "execution_count": null,
      "id": "60364b8f",
      "metadata": {
        "id": "60364b8f"
      },
      "outputs": [],
      "source": [
        "eta_array = x_end.reshape([n_eta, n_wt])"
      ]
    },
    {
      "cell_type": "code",
      "execution_count": null,
      "id": "12b217ac",
      "metadata": {
        "id": "12b217ac"
      },
      "outputs": [],
      "source": [
        "eta_array.shape"
      ]
    },
    {
      "cell_type": "code",
      "execution_count": null,
      "id": "c94ce1ba",
      "metadata": {
        "id": "c94ce1ba"
      },
      "outputs": [],
      "source": [
        "eta_array[:,0]"
      ]
    },
    {
      "cell_type": "code",
      "execution_count": null,
      "id": "4649c4eb",
      "metadata": {
        "id": "4649c4eb"
      },
      "outputs": [],
      "source": [
        "constraint(eta_array)"
      ]
    },
    {
      "cell_type": "code",
      "execution_count": null,
      "id": "c2b0267a",
      "metadata": {
        "id": "c2b0267a"
      },
      "outputs": [],
      "source": [
        "eta_array.sum(0)"
      ]
    },
    {
      "cell_type": "code",
      "execution_count": null,
      "id": "a690b0ee",
      "metadata": {
        "id": "a690b0ee"
      },
      "outputs": [],
      "source": [
        "np.sum((1-eta_array.sum(0))**2.0)"
      ]
    },
    {
      "cell_type": "code",
      "execution_count": null,
      "id": "6bf109c9",
      "metadata": {
        "id": "6bf109c9"
      },
      "outputs": [],
      "source": [
        "eta_array.sum(0).shape"
      ]
    },
    {
      "cell_type": "code",
      "execution_count": null,
      "id": "9653d093",
      "metadata": {
        "id": "9653d093"
      },
      "outputs": [],
      "source": [
        "D, H = ((eta_array[:, :, na] * DH_array[:, na, :]).sum(0) / (eta_array).sum(0)[:, na]).T\n",
        "\n"
      ]
    },
    {
      "cell_type": "code",
      "execution_count": null,
      "id": "6f35a74e",
      "metadata": {
        "id": "6f35a74e"
      },
      "outputs": [],
      "source": [
        "D"
      ]
    },
    {
      "cell_type": "code",
      "execution_count": null,
      "id": "eeb40d39",
      "metadata": {
        "id": "eeb40d39"
      },
      "outputs": [],
      "source": [
        "H"
      ]
    },
    {
      "cell_type": "code",
      "execution_count": null,
      "id": "f6a7e71c",
      "metadata": {
        "id": "f6a7e71c"
      },
      "outputs": [],
      "source": [
        "compute_aep(D, H, eta_array)"
      ]
    },
    {
      "cell_type": "code",
      "execution_count": null,
      "id": "ea6ccf83",
      "metadata": {
        "id": "ea6ccf83"
      },
      "outputs": [],
      "source": [
        "DH_array"
      ]
    },
    {
      "cell_type": "code",
      "execution_count": null,
      "id": "045a808f",
      "metadata": {
        "id": "045a808f"
      },
      "outputs": [],
      "source": [
        "eta_array.shape"
      ]
    },
    {
      "cell_type": "code",
      "execution_count": null,
      "id": "9ec9a2ae",
      "metadata": {
        "id": "9ec9a2ae"
      },
      "outputs": [],
      "source": [
        ""
      ]
    },
    {
      "cell_type": "code",
      "execution_count": null,
      "id": "36ac6c53",
      "metadata": {
        "id": "36ac6c53"
      },
      "outputs": [],
      "source": [
        ""
      ]
    },
    {
      "cell_type": "code",
      "execution_count": null,
      "id": "f5b34822",
      "metadata": {
        "id": "f5b34822"
      },
      "outputs": [],
      "source": [
        ""
      ]
    },
    {
      "cell_type": "code",
      "execution_count": null,
      "id": "723b2cd9",
      "metadata": {
        "id": "723b2cd9"
      },
      "outputs": [],
      "source": [
        ""
      ]
    },
    {
      "cell_type": "code",
      "execution_count": null,
      "id": "d173f7ac",
      "metadata": {
        "id": "d173f7ac"
      },
      "outputs": [],
      "source": [
        ""
      ]
    },
    {
      "cell_type": "code",
      "execution_count": null,
      "id": "07f6b03a",
      "metadata": {
        "id": "07f6b03a"
      },
      "outputs": [],
      "source": [
        ""
      ]
    },
    {
      "cell_type": "code",
      "execution_count": null,
      "id": "f4e7b569",
      "metadata": {
        "id": "f4e7b569"
      },
      "outputs": [],
      "source": [
        ""
      ]
    },
    {
      "cell_type": "code",
      "execution_count": null,
      "id": "ca0d6031",
      "metadata": {
        "id": "ca0d6031"
      },
      "outputs": [],
      "source": [
        ""
      ]
    },
    {
      "cell_type": "code",
      "execution_count": null,
      "id": "7e60f354",
      "metadata": {
        "id": "7e60f354"
      },
      "outputs": [],
      "source": [
        ""
      ]
    },
    {
      "cell_type": "code",
      "execution_count": null,
      "id": "a765adbd",
      "metadata": {
        "id": "a765adbd"
      },
      "outputs": [],
      "source": [
        ""
      ]
    },
    {
      "cell_type": "code",
      "execution_count": null,
      "id": "0564e74c",
      "metadata": {
        "id": "0564e74c"
      },
      "outputs": [],
      "source": [
        ""
      ]
    },
    {
      "cell_type": "code",
      "execution_count": null,
      "id": "c6fa8ea2",
      "metadata": {
        "id": "c6fa8ea2"
      },
      "outputs": [],
      "source": [
        ""
      ]
    },
    {
      "cell_type": "code",
      "execution_count": null,
      "id": "0b394b26",
      "metadata": {
        "id": "0b394b26"
      },
      "outputs": [],
      "source": [
        ""
      ]
    },
    {
      "cell_type": "code",
      "execution_count": null,
      "id": "905a2093",
      "metadata": {
        "id": "905a2093"
      },
      "outputs": [],
      "source": [
        ""
      ]
    },
    {
      "cell_type": "markdown",
      "id": "838c9f2b",
      "metadata": {
        "id": "838c9f2b"
      },
      "source": [
        "### Alternative method"
      ]
    },
    {
      "cell_type": "code",
      "execution_count": null,
      "id": "b6f26c12",
      "metadata": {
        "id": "b6f26c12"
      },
      "outputs": [],
      "source": [
        "PCT_func = lambda ws: np.array([[gradients.interp(ws, wt.powerCtFunction.ws_tab, wt.powerCtFunction.power_ct_tab[0,:]),\n",
        "                                 gradients.interp(ws, wt.powerCtFunction.ws_tab, wt.powerCtFunction.power_ct_tab[1,:])]\n",
        "                                   for wt in wind_turbines])"
      ]
    },
    {
      "cell_type": "code",
      "execution_count": null,
      "id": "a813aca6",
      "metadata": {
        "id": "a813aca6"
      },
      "outputs": [],
      "source": [
        "def eta_power_ct(u, run_only, **kwargs):\n",
        "    \"\"\"\n",
        "    etas: vector of eta for one turbine\n",
        "    \"\"\"\n",
        "    etas_e = np.array([kwargs[f'eta_{i}'] for i in range(n_eta)])\n",
        "    PCT = PCT_func(u)\n",
        "    etas_sum = etas_e.sum() + 1.E-12\n",
        "    if len(PCT.shape)==5:\n",
        "        Pct = (etas_e[:, na, :, na, na] * PCT).sum(0)/etas_sum\n",
        "    elif len(PCT.shape)==4:\n",
        "        Pct = (etas_e[:, na, :, na] * PCT).sum(0)/etas_sum\n",
        "    elif len(PCT.shape)==3:\n",
        "        Pct = (etas_e[:, :, na] * PCT).sum(0)/etas_sum        \n",
        "    elif len(PCT.shape)==2:\n",
        "        Pct = (etas_e[:, na] * PCT).sum(0)/etas_sum        \n",
        "    return Pct[run_only]\n",
        "\n",
        "\n",
        "powerCtFunction = PowerCtFunction(\n",
        "    input_keys=['ws']+[f'eta_{i}' for i in range(n_eta)],\n",
        "    power_ct_func=eta_power_ct,\n",
        "    power_unit='w',\n",
        ")"
      ]
    }
  ],
  "metadata": {
    "kernelspec": {
      "display_name": "Python [conda env:om3]",
      "language": "python",
      "name": "conda-env-om3-py"
    },
    "language_info": {
      "codemirror_mode": {
        "name": "ipython",
        "version": 3
      },
      "file_extension": ".py",
      "mimetype": "text/x-python",
      "name": "python",
      "nbconvert_exporter": "python",
      "pygments_lexer": "ipython3",
      "version": "3.9.5"
    },
    "colab": {
      "name": "Turbine_selection_HD.ipynb",
      "provenance": [],
      "include_colab_link": true
    }
  },
  "nbformat": 4,
  "nbformat_minor": 5
}