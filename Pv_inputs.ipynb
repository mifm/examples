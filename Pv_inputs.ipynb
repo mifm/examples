{
  "cells": [
    {
      "cell_type": "markdown",
      "metadata": {
        "id": "view-in-github",
        "colab_type": "text"
      },
      "source": [
        "<a href=\"https://colab.research.google.com/github/mifm/examples/blob/master/Pv_inputs.ipynb\" target=\"_parent\"><img src=\"https://colab.research.google.com/assets/colab-badge.svg\" alt=\"Open In Colab\"/></a>"
      ]
    },
    {
      "cell_type": "code",
      "execution_count": null,
      "metadata": {
        "colab": {
          "base_uri": "https://localhost:8080/"
        },
        "id": "7W-C3mwC6fH6",
        "outputId": "f8889b30-7ce9-4a20-d98f-451ba064b08c"
      },
      "outputs": [
        {
          "output_type": "stream",
          "name": "stdout",
          "text": [
            "Collecting git+https://gitlab.windenergy.dtu.dk/TOPFARM/hydesign.git\n",
            "  Cloning https://gitlab.windenergy.dtu.dk/TOPFARM/hydesign.git to /tmp/pip-req-build-u0nn6m1o\n",
            "  Running command git clone --filter=blob:none --quiet https://gitlab.windenergy.dtu.dk/TOPFARM/hydesign.git /tmp/pip-req-build-u0nn6m1o\n",
            "  Resolved https://gitlab.windenergy.dtu.dk/TOPFARM/hydesign.git to commit d8dd13dd9fbc6d70855afd7012badcc3301c1c70\n",
            "  Installing build dependencies ... \u001b[?25l\u001b[?25hdone\n",
            "  Getting requirements to build wheel ... \u001b[?25l\u001b[?25hdone\n",
            "  Preparing metadata (pyproject.toml) ... \u001b[?25l\u001b[?25hdone\n",
            "Requirement already satisfied: dask in /usr/local/lib/python3.11/dist-packages (from hydesign==1.5.0) (2024.12.1)\n",
            "Requirement already satisfied: numpy>=2 in /usr/local/lib/python3.11/dist-packages (from hydesign==1.5.0) (2.0.2)\n",
            "Requirement already satisfied: pandas in /usr/local/lib/python3.11/dist-packages (from hydesign==1.5.0) (2.2.2)\n",
            "Requirement already satisfied: scikit-learn in /usr/local/lib/python3.11/dist-packages (from hydesign==1.5.0) (1.6.1)\n",
            "Requirement already satisfied: scipy in /usr/local/lib/python3.11/dist-packages (from hydesign==1.5.0) (1.14.1)\n",
            "Requirement already satisfied: h5netcdf in /usr/local/lib/python3.11/dist-packages (from hydesign==1.5.0) (1.6.1)\n",
            "Collecting netcdf4 (from hydesign==1.5.0)\n",
            "  Downloading netCDF4-1.7.2-cp311-cp311-manylinux_2_17_x86_64.manylinux2014_x86_64.whl.metadata (1.8 kB)\n",
            "Requirement already satisfied: xarray in /usr/local/lib/python3.11/dist-packages (from hydesign==1.5.0) (2025.1.2)\n",
            "Collecting openmdao (from hydesign==1.5.0)\n",
            "  Downloading openmdao-3.38.0.tar.gz (12.6 MB)\n",
            "\u001b[2K     \u001b[90m━━━━━━━━━━━━━━━━━━━━━━━━━━━━━━━━━━━━━━━━\u001b[0m \u001b[32m12.6/12.6 MB\u001b[0m \u001b[31m13.8 MB/s\u001b[0m eta \u001b[36m0:00:00\u001b[0m\n",
            "\u001b[?25h  Installing build dependencies ... \u001b[?25l\u001b[?25hdone\n",
            "  Getting requirements to build wheel ... \u001b[?25l\u001b[?25hdone\n",
            "  Preparing metadata (pyproject.toml) ... \u001b[?25l\u001b[?25hdone\n",
            "Collecting smt==2.9.2 (from hydesign==1.5.0)\n",
            "  Downloading smt-2.9.2-cp311-cp311-manylinux_2_17_x86_64.manylinux2014_x86_64.whl.metadata (2.3 kB)\n",
            "Collecting cplex (from hydesign==1.5.0)\n",
            "  Downloading cplex-22.1.2.0-cp311-cp311-manylinux2014_x86_64.whl.metadata (56 kB)\n",
            "\u001b[2K     \u001b[90m━━━━━━━━━━━━━━━━━━━━━━━━━━━━━━━━━━━━━━━━\u001b[0m \u001b[32m57.0/57.0 kB\u001b[0m \u001b[31m5.1 MB/s\u001b[0m eta \u001b[36m0:00:00\u001b[0m\n",
            "\u001b[?25hCollecting docplex (from hydesign==1.5.0)\n",
            "  Downloading docplex-2.29.241.tar.gz (645 kB)\n",
            "\u001b[2K     \u001b[90m━━━━━━━━━━━━━━━━━━━━━━━━━━━━━━━━━━━━━━━━\u001b[0m \u001b[32m645.5/645.5 kB\u001b[0m \u001b[31m39.7 MB/s\u001b[0m eta \u001b[36m0:00:00\u001b[0m\n",
            "\u001b[?25h  Installing build dependencies ... \u001b[?25l\u001b[?25hdone\n",
            "  Getting requirements to build wheel ... \u001b[?25l\u001b[?25hdone\n",
            "  Installing backend dependencies ... \u001b[?25l\u001b[?25hdone\n",
            "  Preparing metadata (pyproject.toml) ... \u001b[?25l\u001b[?25hdone\n",
            "Collecting numpy-financial (from hydesign==1.5.0)\n",
            "  Downloading numpy_financial-1.0.0-py3-none-any.whl.metadata (2.2 kB)\n",
            "Collecting pvlib (from hydesign==1.5.0)\n",
            "  Downloading pvlib-0.12.0-py3-none-any.whl.metadata (2.9 kB)\n",
            "Requirement already satisfied: statsmodels in /usr/local/lib/python3.11/dist-packages (from hydesign==1.5.0) (0.14.4)\n",
            "Collecting rainflow (from hydesign==1.5.0)\n",
            "  Downloading rainflow-3.2.0-py3-none-any.whl.metadata (3.6 kB)\n",
            "Requirement already satisfied: pyyaml in /usr/local/lib/python3.11/dist-packages (from hydesign==1.5.0) (6.0.2)\n",
            "Requirement already satisfied: matplotlib in /usr/local/lib/python3.11/dist-packages (from hydesign==1.5.0) (3.10.0)\n",
            "Collecting zarr (from hydesign==1.5.0)\n",
            "  Downloading zarr-3.0.6-py3-none-any.whl.metadata (9.7 kB)\n",
            "Collecting ortools (from hydesign==1.5.0)\n",
            "  Downloading ortools-9.12.4544-cp311-cp311-manylinux_2_27_x86_64.manylinux_2_28_x86_64.whl.metadata (3.3 kB)\n",
            "Collecting NREL-PySAM (from hydesign==1.5.0)\n",
            "  Downloading NREL_PySAM-6.0.1-cp311-cp311-manylinux2014_x86_64.whl.metadata (8.6 kB)\n",
            "Collecting chaospy (from hydesign==1.5.0)\n",
            "  Downloading chaospy-4.3.18-py3-none-any.whl.metadata (5.4 kB)\n",
            "Requirement already satisfied: tqdm in /usr/local/lib/python3.11/dist-packages (from hydesign==1.5.0) (4.67.1)\n",
            "Requirement already satisfied: openpyxl in /usr/local/lib/python3.11/dist-packages (from hydesign==1.5.0) (3.1.5)\n",
            "Requirement already satisfied: h5py>=3.13 in /usr/local/lib/python3.11/dist-packages (from hydesign==1.5.0) (3.13.0)\n",
            "Requirement already satisfied: packaging in /usr/local/lib/python3.11/dist-packages (from smt==2.9.2->hydesign==1.5.0) (24.2)\n",
            "Collecting pyDOE3 (from smt==2.9.2->hydesign==1.5.0)\n",
            "  Downloading pydoe3-1.0.4-py2.py3-none-any.whl.metadata (4.2 kB)\n",
            "Collecting jenn (from smt==2.9.2->hydesign==1.5.0)\n",
            "  Downloading jenn-1.0.8-py3-none-any.whl.metadata (7.8 kB)\n",
            "Collecting numpoly>=1.2.12 (from chaospy->hydesign==1.5.0)\n",
            "  Downloading numpoly-1.3.6.tar.gz (369 kB)\n",
            "\u001b[2K     \u001b[90m━━━━━━━━━━━━━━━━━━━━━━━━━━━━━━━━━━━━━━━━\u001b[0m \u001b[32m369.7/369.7 kB\u001b[0m \u001b[31m31.4 MB/s\u001b[0m eta \u001b[36m0:00:00\u001b[0m\n",
            "\u001b[?25h  Installing build dependencies ... \u001b[?25l\u001b[?25hdone\n",
            "  Getting requirements to build wheel ... \u001b[?25l\u001b[?25hdone\n",
            "  Preparing metadata (pyproject.toml) ... \u001b[?25l\u001b[?25hdone\n",
            "Requirement already satisfied: setuptools>=40.9.0 in /usr/local/lib/python3.11/dist-packages (from chaospy->hydesign==1.5.0) (75.2.0)\n",
            "Requirement already satisfied: click>=8.1 in /usr/local/lib/python3.11/dist-packages (from dask->hydesign==1.5.0) (8.1.8)\n",
            "Requirement already satisfied: cloudpickle>=3.0.0 in /usr/local/lib/python3.11/dist-packages (from dask->hydesign==1.5.0) (3.1.1)\n",
            "Requirement already satisfied: fsspec>=2021.09.0 in /usr/local/lib/python3.11/dist-packages (from dask->hydesign==1.5.0) (2025.3.2)\n",
            "Requirement already satisfied: partd>=1.4.0 in /usr/local/lib/python3.11/dist-packages (from dask->hydesign==1.5.0) (1.4.2)\n",
            "Requirement already satisfied: toolz>=0.10.0 in /usr/local/lib/python3.11/dist-packages (from dask->hydesign==1.5.0) (0.12.1)\n",
            "Requirement already satisfied: importlib_metadata>=4.13.0 in /usr/local/lib/python3.11/dist-packages (from dask->hydesign==1.5.0) (8.6.1)\n",
            "Requirement already satisfied: six in /usr/local/lib/python3.11/dist-packages (from docplex->hydesign==1.5.0) (1.17.0)\n",
            "Requirement already satisfied: contourpy>=1.0.1 in /usr/local/lib/python3.11/dist-packages (from matplotlib->hydesign==1.5.0) (1.3.1)\n",
            "Requirement already satisfied: cycler>=0.10 in /usr/local/lib/python3.11/dist-packages (from matplotlib->hydesign==1.5.0) (0.12.1)\n",
            "Requirement already satisfied: fonttools>=4.22.0 in /usr/local/lib/python3.11/dist-packages (from matplotlib->hydesign==1.5.0) (4.57.0)\n",
            "Requirement already satisfied: kiwisolver>=1.3.1 in /usr/local/lib/python3.11/dist-packages (from matplotlib->hydesign==1.5.0) (1.4.8)\n",
            "Requirement already satisfied: pillow>=8 in /usr/local/lib/python3.11/dist-packages (from matplotlib->hydesign==1.5.0) (11.1.0)\n",
            "Requirement already satisfied: pyparsing>=2.3.1 in /usr/local/lib/python3.11/dist-packages (from matplotlib->hydesign==1.5.0) (3.2.3)\n",
            "Requirement already satisfied: python-dateutil>=2.7 in /usr/local/lib/python3.11/dist-packages (from matplotlib->hydesign==1.5.0) (2.8.2)\n",
            "Collecting cftime (from netcdf4->hydesign==1.5.0)\n",
            "  Downloading cftime-1.6.4.post1-cp311-cp311-manylinux_2_17_x86_64.manylinux2014_x86_64.whl.metadata (8.7 kB)\n",
            "Requirement already satisfied: certifi in /usr/local/lib/python3.11/dist-packages (from netcdf4->hydesign==1.5.0) (2025.1.31)\n",
            "Requirement already satisfied: networkx>=2.0 in /usr/local/lib/python3.11/dist-packages (from openmdao->hydesign==1.5.0) (3.4.2)\n",
            "Requirement already satisfied: requests in /usr/local/lib/python3.11/dist-packages (from openmdao->hydesign==1.5.0) (2.32.3)\n",
            "Requirement already satisfied: et-xmlfile in /usr/local/lib/python3.11/dist-packages (from openpyxl->hydesign==1.5.0) (2.0.0)\n",
            "Collecting absl-py>=2.0.0 (from ortools->hydesign==1.5.0)\n",
            "  Downloading absl_py-2.2.2-py3-none-any.whl.metadata (2.6 kB)\n",
            "Requirement already satisfied: protobuf<5.30,>=5.29.3 in /usr/local/lib/python3.11/dist-packages (from ortools->hydesign==1.5.0) (5.29.4)\n",
            "Requirement already satisfied: immutabledict>=3.0.0 in /usr/local/lib/python3.11/dist-packages (from ortools->hydesign==1.5.0) (4.2.1)\n",
            "Requirement already satisfied: pytz>=2020.1 in /usr/local/lib/python3.11/dist-packages (from pandas->hydesign==1.5.0) (2025.2)\n",
            "Requirement already satisfied: tzdata>=2022.7 in /usr/local/lib/python3.11/dist-packages (from pandas->hydesign==1.5.0) (2025.2)\n",
            "Requirement already satisfied: joblib>=1.2.0 in /usr/local/lib/python3.11/dist-packages (from scikit-learn->hydesign==1.5.0) (1.4.2)\n",
            "Requirement already satisfied: threadpoolctl>=3.1.0 in /usr/local/lib/python3.11/dist-packages (from scikit-learn->hydesign==1.5.0) (3.6.0)\n",
            "Requirement already satisfied: patsy>=0.5.6 in /usr/local/lib/python3.11/dist-packages (from statsmodels->hydesign==1.5.0) (1.0.1)\n",
            "Collecting donfig>=0.8 (from zarr->hydesign==1.5.0)\n",
            "  Downloading donfig-0.8.1.post1-py3-none-any.whl.metadata (5.0 kB)\n",
            "Collecting numcodecs>=0.14 (from numcodecs[crc32c]>=0.14->zarr->hydesign==1.5.0)\n",
            "  Downloading numcodecs-0.16.0-cp311-cp311-manylinux_2_17_x86_64.manylinux2014_x86_64.whl.metadata (3.0 kB)\n",
            "Requirement already satisfied: typing-extensions>=4.9 in /usr/local/lib/python3.11/dist-packages (from zarr->hydesign==1.5.0) (4.13.1)\n",
            "Requirement already satisfied: zipp>=3.20 in /usr/local/lib/python3.11/dist-packages (from importlib_metadata>=4.13.0->dask->hydesign==1.5.0) (3.21.0)\n",
            "Collecting crc32c>=2.7 (from numcodecs[crc32c]>=0.14->zarr->hydesign==1.5.0)\n",
            "  Downloading crc32c-2.7.1-cp311-cp311-manylinux_2_5_x86_64.manylinux1_x86_64.manylinux_2_17_x86_64.manylinux2014_x86_64.whl.metadata (7.3 kB)\n",
            "Requirement already satisfied: locket in /usr/local/lib/python3.11/dist-packages (from partd>=1.4.0->dask->hydesign==1.5.0) (1.0.0)\n",
            "Requirement already satisfied: jsonpointer>=2.4 in /usr/local/lib/python3.11/dist-packages (from jenn->smt==2.9.2->hydesign==1.5.0) (3.0.0)\n",
            "Requirement already satisfied: jsonschema>=4.22 in /usr/local/lib/python3.11/dist-packages (from jenn->smt==2.9.2->hydesign==1.5.0) (4.23.0)\n",
            "Requirement already satisfied: orjson>=3.9 in /usr/local/lib/python3.11/dist-packages (from jenn->smt==2.9.2->hydesign==1.5.0) (3.10.16)\n",
            "Requirement already satisfied: charset-normalizer<4,>=2 in /usr/local/lib/python3.11/dist-packages (from requests->openmdao->hydesign==1.5.0) (3.4.1)\n",
            "Requirement already satisfied: idna<4,>=2.5 in /usr/local/lib/python3.11/dist-packages (from requests->openmdao->hydesign==1.5.0) (3.10)\n",
            "Requirement already satisfied: urllib3<3,>=1.21.1 in /usr/local/lib/python3.11/dist-packages (from requests->openmdao->hydesign==1.5.0) (2.3.0)\n",
            "Requirement already satisfied: attrs>=22.2.0 in /usr/local/lib/python3.11/dist-packages (from jsonschema>=4.22->jenn->smt==2.9.2->hydesign==1.5.0) (25.3.0)\n",
            "Requirement already satisfied: jsonschema-specifications>=2023.03.6 in /usr/local/lib/python3.11/dist-packages (from jsonschema>=4.22->jenn->smt==2.9.2->hydesign==1.5.0) (2024.10.1)\n",
            "Requirement already satisfied: referencing>=0.28.4 in /usr/local/lib/python3.11/dist-packages (from jsonschema>=4.22->jenn->smt==2.9.2->hydesign==1.5.0) (0.36.2)\n",
            "Requirement already satisfied: rpds-py>=0.7.1 in /usr/local/lib/python3.11/dist-packages (from jsonschema>=4.22->jenn->smt==2.9.2->hydesign==1.5.0) (0.24.0)\n",
            "Downloading smt-2.9.2-cp311-cp311-manylinux_2_17_x86_64.manylinux2014_x86_64.whl (957 kB)\n",
            "\u001b[2K   \u001b[90m━━━━━━━━━━━━━━━━━━━━━━━━━━━━━━━━━━━━━━━━\u001b[0m \u001b[32m958.0/958.0 kB\u001b[0m \u001b[31m54.8 MB/s\u001b[0m eta \u001b[36m0:00:00\u001b[0m\n",
            "\u001b[?25hDownloading chaospy-4.3.18-py3-none-any.whl (254 kB)\n",
            "\u001b[2K   \u001b[90m━━━━━━━━━━━━━━━━━━━━━━━━━━━━━━━━━━━━━━━━\u001b[0m \u001b[32m254.4/254.4 kB\u001b[0m \u001b[31m22.3 MB/s\u001b[0m eta \u001b[36m0:00:00\u001b[0m\n",
            "\u001b[?25hDownloading cplex-22.1.2.0-cp311-cp311-manylinux2014_x86_64.whl (44.3 MB)\n",
            "\u001b[2K   \u001b[90m━━━━━━━━━━━━━━━━━━━━━━━━━━━━━━━━━━━━━━━━\u001b[0m \u001b[32m44.3/44.3 MB\u001b[0m \u001b[31m23.6 MB/s\u001b[0m eta \u001b[36m0:00:00\u001b[0m\n",
            "\u001b[?25hDownloading netCDF4-1.7.2-cp311-cp311-manylinux_2_17_x86_64.manylinux2014_x86_64.whl (9.3 MB)\n",
            "\u001b[2K   \u001b[90m━━━━━━━━━━━━━━━━━━━━━━━━━━━━━━━━━━━━━━━━\u001b[0m \u001b[32m9.3/9.3 MB\u001b[0m \u001b[31m99.6 MB/s\u001b[0m eta \u001b[36m0:00:00\u001b[0m\n",
            "\u001b[?25hDownloading NREL_PySAM-6.0.1-cp311-cp311-manylinux2014_x86_64.whl (50.3 MB)\n",
            "\u001b[2K   \u001b[90m━━━━━━━━━━━━━━━━━━━━━━━━━━━━━━━━━━━━━━━━\u001b[0m \u001b[32m50.3/50.3 MB\u001b[0m \u001b[31m8.2 MB/s\u001b[0m eta \u001b[36m0:00:00\u001b[0m\n",
            "\u001b[?25hDownloading numpy_financial-1.0.0-py3-none-any.whl (14 kB)\n",
            "Downloading ortools-9.12.4544-cp311-cp311-manylinux_2_27_x86_64.manylinux_2_28_x86_64.whl (24.9 MB)\n",
            "\u001b[2K   \u001b[90m━━━━━━━━━━━━━━━━━━━━━━━━━━━━━━━━━━━━━━━━\u001b[0m \u001b[32m24.9/24.9 MB\u001b[0m \u001b[31m52.4 MB/s\u001b[0m eta \u001b[36m0:00:00\u001b[0m\n",
            "\u001b[?25hDownloading pvlib-0.12.0-py3-none-any.whl (19.3 MB)\n",
            "\u001b[2K   \u001b[90m━━━━━━━━━━━━━━━━━━━━━━━━━━━━━━━━━━━━━━━━\u001b[0m \u001b[32m19.3/19.3 MB\u001b[0m \u001b[31m54.7 MB/s\u001b[0m eta \u001b[36m0:00:00\u001b[0m\n",
            "\u001b[?25hDownloading rainflow-3.2.0-py3-none-any.whl (4.9 kB)\n",
            "Downloading zarr-3.0.6-py3-none-any.whl (196 kB)\n",
            "\u001b[2K   \u001b[90m━━━━━━━━━━━━━━━━━━━━━━━━━━━━━━━━━━━━━━━━\u001b[0m \u001b[32m196.4/196.4 kB\u001b[0m \u001b[31m16.0 MB/s\u001b[0m eta \u001b[36m0:00:00\u001b[0m\n",
            "\u001b[?25hDownloading absl_py-2.2.2-py3-none-any.whl (135 kB)\n",
            "\u001b[2K   \u001b[90m━━━━━━━━━━━━━━━━━━━━━━━━━━━━━━━━━━━━━━━━\u001b[0m \u001b[32m135.6/135.6 kB\u001b[0m \u001b[31m12.0 MB/s\u001b[0m eta \u001b[36m0:00:00\u001b[0m\n",
            "\u001b[?25hDownloading donfig-0.8.1.post1-py3-none-any.whl (21 kB)\n",
            "Downloading numcodecs-0.16.0-cp311-cp311-manylinux_2_17_x86_64.manylinux2014_x86_64.whl (8.8 MB)\n",
            "\u001b[2K   \u001b[90m━━━━━━━━━━━━━━━━━━━━━━━━━━━━━━━━━━━━━━━━\u001b[0m \u001b[32m8.8/8.8 MB\u001b[0m \u001b[31m102.6 MB/s\u001b[0m eta \u001b[36m0:00:00\u001b[0m\n",
            "\u001b[?25hDownloading cftime-1.6.4.post1-cp311-cp311-manylinux_2_17_x86_64.manylinux2014_x86_64.whl (1.4 MB)\n",
            "\u001b[2K   \u001b[90m━━━━━━━━━━━━━━━━━━━━━━━━━━━━━━━━━━━━━━━━\u001b[0m \u001b[32m1.4/1.4 MB\u001b[0m \u001b[31m53.6 MB/s\u001b[0m eta \u001b[36m0:00:00\u001b[0m\n",
            "\u001b[?25hDownloading jenn-1.0.8-py3-none-any.whl (35 kB)\n",
            "Downloading pydoe3-1.0.4-py2.py3-none-any.whl (25 kB)\n",
            "Downloading crc32c-2.7.1-cp311-cp311-manylinux_2_5_x86_64.manylinux1_x86_64.manylinux_2_17_x86_64.manylinux2014_x86_64.whl (53 kB)\n",
            "\u001b[2K   \u001b[90m━━━━━━━━━━━━━━━━━━━━━━━━━━━━━━━━━━━━━━━━\u001b[0m \u001b[32m53.7/53.7 kB\u001b[0m \u001b[31m5.0 MB/s\u001b[0m eta \u001b[36m0:00:00\u001b[0m\n",
            "\u001b[?25hBuilding wheels for collected packages: hydesign, docplex, openmdao, numpoly\n",
            "  Building wheel for hydesign (pyproject.toml) ... \u001b[?25l\u001b[?25hdone\n",
            "  Created wheel for hydesign: filename=hydesign-1.5.0-py3-none-any.whl size=77579051 sha256=6cc8a57047794e0d4a09d9b6796b239f225c9aafede7911600cadf108c5e152f\n",
            "  Stored in directory: /tmp/pip-ephem-wheel-cache-g152a5vu/wheels/d0/eb/75/3d37b060d9f22e64fb4435af59aa2a8950fc1960cf8ffce53c\n",
            "  Building wheel for docplex (pyproject.toml) ... \u001b[?25l\u001b[?25hdone\n",
            "  Created wheel for docplex: filename=docplex-2.29.241-py3-none-any.whl size=685423 sha256=9da8f3b20a92b004aa13509102560e51304f2a0d60d71f80c6b2f6dc4e7314f6\n",
            "  Stored in directory: /root/.cache/pip/wheels/00/4f/37/fbc42df1f9b6786024d4b39c81f0b373c84e6fab9e18513fc2\n",
            "  Building wheel for openmdao (pyproject.toml) ... \u001b[?25l\u001b[?25hdone\n",
            "  Created wheel for openmdao: filename=openmdao-3.38.0-py3-none-any.whl size=13265406 sha256=d32a82affa394cba13ff0d10c8b9fe6d5571678060baca1180604ef37ff9ae5b\n",
            "  Stored in directory: /root/.cache/pip/wheels/f0/e8/57/5e30138f57c1ae0571d953f2217db9cfd18e2da560e5ef13e6\n",
            "  Building wheel for numpoly (pyproject.toml) ... \u001b[?25l\u001b[?25hdone\n",
            "  Created wheel for numpoly: filename=numpoly-1.3.6-cp311-cp311-linux_x86_64.whl size=1067756 sha256=2b8037bb12d3c56455ebe1f40c7d18ef9524e1c312fd9f738b86d59d17ac76ea\n",
            "  Stored in directory: /root/.cache/pip/wheels/4f/f2/9a/4a5e38490fba7e23bdd2d56ec2e62e44c400179ad513427956\n",
            "Successfully built hydesign docplex openmdao numpoly\n",
            "Installing collected packages: NREL-PySAM, rainflow, numpy-financial, numcodecs, donfig, docplex, crc32c, cplex, cftime, absl-py, pyDOE3, openmdao, numpoly, netcdf4, zarr, pvlib, ortools, chaospy, jenn, smt, hydesign\n",
            "  Attempting uninstall: absl-py\n",
            "    Found existing installation: absl-py 1.4.0\n",
            "    Uninstalling absl-py-1.4.0:\n",
            "      Successfully uninstalled absl-py-1.4.0\n",
            "Successfully installed NREL-PySAM-6.0.1 absl-py-2.2.2 cftime-1.6.4.post1 chaospy-4.3.18 cplex-22.1.2.0 crc32c-2.7.1 docplex-2.29.241 donfig-0.8.1.post1 hydesign-1.5.0 jenn-1.0.8 netcdf4-1.7.2 numcodecs-0.16.0 numpoly-1.3.6 numpy-financial-1.0.0 openmdao-3.38.0 ortools-9.12.4544 pvlib-0.12.0 pyDOE3-1.0.4 rainflow-3.2.0 smt-2.9.2 zarr-3.0.6\n"
          ]
        }
      ],
      "source": [
        "# Install hydesign if needed\n",
        "import importlib\n",
        "if not importlib.util.find_spec(\"hydesign\"):\n",
        "    !pip install git+https://gitlab.windenergy.dtu.dk/TOPFARM/hydesign.git"
      ]
    },
    {
      "cell_type": "code",
      "execution_count": null,
      "metadata": {
        "id": "6XID75vh6fH9"
      },
      "outputs": [],
      "source": [
        "import os\n",
        "import time\n",
        "import yaml\n",
        "import numpy as np\n",
        "import pandas as pd\n",
        "import matplotlib.pyplot as plt\n",
        "\n",
        "from hydesign.assembly.hpp_assembly import hpp_model\n",
        "from hydesign.examples import examples_filepath"
      ]
    },
    {
      "cell_type": "code",
      "execution_count": null,
      "metadata": {
        "id": "3jJ3znQX6fH-"
      },
      "outputs": [],
      "source": [
        "examples_sites = pd.read_csv(f'{examples_filepath}examples_sites.csv', index_col=0, sep=';')"
      ]
    },
    {
      "cell_type": "code",
      "execution_count": null,
      "metadata": {
        "id": "A3EEnH5q6fIB"
      },
      "outputs": [],
      "source": [
        "name = 'France_good_wind'\n",
        "ex_site = examples_sites.loc[examples_sites.name == name]\n",
        "\n",
        "longitude = ex_site['longitude'].values[0]\n",
        "latitude = ex_site['latitude'].values[0]\n",
        "altitude = ex_site['altitude'].values[0]"
      ]
    },
    {
      "cell_type": "code",
      "execution_count": null,
      "metadata": {
        "id": "S68IXoBj6fID"
      },
      "outputs": [],
      "source": [
        "input_ts_fn = examples_filepath+ex_site['input_ts_fn'].values[0]\n",
        "\n",
        "input_ts = pd.read_csv(input_ts_fn, index_col=0, parse_dates=True)\n",
        "\n",
        "required_cols = [col for col in input_ts.columns if 'WD' not in col]\n",
        "input_ts = input_ts.loc[:,required_cols]"
      ]
    },
    {
      "cell_type": "code",
      "execution_count": null,
      "metadata": {
        "colab": {
          "base_uri": "https://localhost:8080/"
        },
        "id": "4mBlWYh36fIE",
        "outputId": "2d065261-e9a3-4cd9-ed82-309eca0addfb"
      },
      "outputs": [
        {
          "output_type": "stream",
          "name": "stdout",
          "text": [
            "/usr/local/lib/python3.11/dist-packages/hydesign/examples/Europe/hpp_pars.yml\n"
          ]
        },
        {
          "output_type": "execute_result",
          "data": {
            "text/plain": [
              "{'G_MW': 300,\n",
              " 'year': '2012',\n",
              " 'N_life': 25,\n",
              " 'wind_turbine_cost': 640000,\n",
              " 'wind_civil_works_cost': 260000,\n",
              " 'wind_fixed_onm_cost': 12600,\n",
              " 'wind_variable_onm_cost': 1.35,\n",
              " 'd_ref': 145,\n",
              " 'hh_ref': 100,\n",
              " 'p_rated_ref': 5.0,\n",
              " 'wpp_efficiency': 1,\n",
              " 'wind_deg_yr': [0, 25],\n",
              " 'wind_deg': [0, 0.25],\n",
              " 'share_WT_deg_types': 0.5,\n",
              " 'solar_PV_cost': 110000,\n",
              " 'solar_hardware_installation_cost': 100000,\n",
              " 'solar_inverter_cost': 20000,\n",
              " 'solar_fixed_onm_cost': 4500,\n",
              " 'land_use_per_solar_MW': 0.01226,\n",
              " 'tracking': 'No',\n",
              " 'pv_deg_yr': [0, 1, 25],\n",
              " 'pv_deg': [0.03, 0.03, 0.28],\n",
              " 'latitude': None,\n",
              " 'longitude': None,\n",
              " 'altitude': None,\n",
              " 'battery_energy_cost': 62000,\n",
              " 'battery_power_cost': 16000,\n",
              " 'battery_BOP_installation_commissioning_cost': 80000,\n",
              " 'battery_control_system_cost': 2250,\n",
              " 'battery_energy_onm_cost': 0,\n",
              " 'battery_depth_of_discharge': 0.9,\n",
              " 'battery_charge_efficiency': 0.985,\n",
              " 'battery_price_reduction_per_year': 0.05,\n",
              " 'min_LoH': 0.7,\n",
              " 'n_full_power_hours_expected_per_day_at_peak_price': 0,\n",
              " 'peak_hr_quantile': 0.9,\n",
              " 'price_H2': 5,\n",
              " 'storage_eff': 0.9,\n",
              " 'ptg_deg': 0.99,\n",
              " 'hhv': 39.3,\n",
              " 'water_consumption': 9.4,\n",
              " 'electrolyzer_capex_cost': 800000,\n",
              " 'electrolyzer_opex_cost': 16000,\n",
              " 'electrolyzer_power_electronics_cost': 0,\n",
              " 'water_cost': 4,\n",
              " 'water_treatment_cost': 2,\n",
              " 'H2_storage_capex_cost': 300,\n",
              " 'H2_storage_opex_cost': 3,\n",
              " 'H2_transportation_cost': 5,\n",
              " 'H2_transportation_distance': 0,\n",
              " 'penalty_factor_H2': 0,\n",
              " 'electrolyzer_eff_curve_name': 'PEM electrolyzer H2 production',\n",
              " 'electrolyzer_eff_curve_type': 'production',\n",
              " 'min_power_standby': 0.0,\n",
              " 'hpp_BOS_soft_cost': 119940,\n",
              " 'hpp_grid_connection_cost': 50000,\n",
              " 'land_cost': 300000,\n",
              " 'wind_WACC': 0.06,\n",
              " 'solar_WACC': 0.06,\n",
              " 'battery_WACC': 0.06,\n",
              " 'tax_rate': 0.22,\n",
              " 'ptg_WACC': 0.08,\n",
              " 'phasing_yr': [-1, 0],\n",
              " 'phasing_CAPEX': [1, 1],\n",
              " 'inflation_yr': [-3, 0, 1, 25],\n",
              " 'inflation': [0.1, 0.1, 0.06, 0.06],\n",
              " 'ref_yr_inflation': 0,\n",
              " 'depreciation_yr': [0, 25],\n",
              " 'depreciation': [0, 1],\n",
              " 'bi_directional_status': 0,\n",
              " 'penalty_BM': 2000,\n",
              " 'era5_zarr': '/groups/reanalyses/era5/app/era5.zarr',\n",
              " 'ratio_gwa_era5': '/groups/INP/era5/ratio_gwa2_era5.nc',\n",
              " 'era5_ghi_zarr': '/groups/INP/era5/ghi.zarr',\n",
              " 'elevation_fn': '/groups/INP/era5/SRTMv3_plus_ViewFinder_coarsen.nc'}"
            ]
          },
          "metadata": {},
          "execution_count": 7
        }
      ],
      "source": [
        "sim_pars_fn = examples_filepath+ex_site['sim_pars_fn'].values[0]\n",
        "\n",
        "with open(sim_pars_fn) as file:\n",
        "    sim_pars = yaml.load(file, Loader=yaml.FullLoader)\n",
        "\n",
        "print(sim_pars_fn)\n",
        "sim_pars"
      ]
    },
    {
      "cell_type": "code",
      "execution_count": null,
      "metadata": {
        "id": "px0fTdjZ6fIF"
      },
      "outputs": [],
      "source": [
        "rotor_diameter_m = 220\n",
        "hub_height_m = 130\n",
        "wt_rated_power_MW = 10\n",
        "surface_tilt_deg = 35\n",
        "surface_azimuth_deg = 180\n",
        "DC_AC_ratio = 1.5"
      ]
    },
    {
      "cell_type": "code",
      "execution_count": null,
      "metadata": {
        "colab": {
          "base_uri": "https://localhost:8080/"
        },
        "id": "aPsTvbZ16fIF",
        "outputId": "5576ba8f-92ff-4cd8-be65-fb9333ce1547"
      },
      "outputs": [
        {
          "output_type": "stream",
          "name": "stdout",
          "text": [
            "\n",
            "Fixed parameters on the site\n",
            "-------------------------------\n",
            "longitude = -0.864258\n",
            "latitude = 48.744116\n",
            "altitude = 302.0\n"
          ]
        }
      ],
      "source": [
        "hpp = hpp_model(\n",
        "        latitude=latitude,\n",
        "        longitude=longitude,\n",
        "        altitude=altitude,\n",
        "        rotor_diameter_m = rotor_diameter_m,\n",
        "        hub_height_m = hub_height_m,\n",
        "        wt_rated_power_MW = wt_rated_power_MW,\n",
        "        surface_tilt_deg = surface_tilt_deg,\n",
        "        surface_azimuth_deg = surface_azimuth_deg,\n",
        "        DC_AC_ratio = DC_AC_ratio,\n",
        "        num_batteries = 5,\n",
        "        work_dir = './',\n",
        "        sim_pars_fn = sim_pars_fn,\n",
        "        input_ts_fn = input_ts_fn,\n",
        "solar_PV_cost=50000,\n",
        ")"
      ]
    },
    {
      "cell_type": "code",
      "execution_count": null,
      "metadata": {
        "colab": {
          "base_uri": "https://localhost:8080/"
        },
        "id": "undl53Yx6fIH",
        "outputId": "d98099d5-3ec3-40ea-d922-48c61fb9b3c3"
      },
      "outputs": [
        {
          "output_type": "stream",
          "name": "stdout",
          "text": [
            "\n",
            "Design:\n",
            "---------------\n",
            "clearance [m]: 20.000\n",
            "sp [W/m2]: 263.066\n",
            "p_rated [MW]: 10.000\n",
            "Nwt: 20.000\n",
            "wind_MW_per_km2 [MW/km2]: 7.000\n",
            "solar_MW [MW]: 150.000\n",
            "surface_tilt [deg]: 35.000\n",
            "surface_azimuth [deg]: 180.000\n",
            "DC_AC_ratio: 1.500\n",
            "b_P [MW]: 20.000\n",
            "b_E_h [h]: 3.000\n",
            "cost_of_battery_P_fluct_in_peak_price_ratio: 5.000\n",
            "\n",
            "\n",
            "NPV_over_CAPEX: 0.780\n",
            "NPV [MEuro]: 253.816\n",
            "IRR: 0.119\n",
            "LCOE [Euro/MWh]: 34.450\n",
            "Revenues [MEuro]: 33.212\n",
            "CAPEX [MEuro]: 325.579\n",
            "OPEX [MEuro]: 5.647\n",
            "Wind CAPEX [MEuro]: 222.901\n",
            "Wind OPEX [MEuro]: 4.635\n",
            "PV CAPEX [MEuro]: 36.750\n",
            "PV OPEX [MEuro]: 1.012\n",
            "Batt CAPEX [MEuro]: 6.374\n",
            "Batt OPEX [MEuro]: 0.000\n",
            "Shared CAPEX [MEuro]: 59.553\n",
            "Shared OPEX [MEuro]: 0.000\n",
            "penalty lifetime [MEuro]: 0.000\n",
            "AEP [GWh]: 873.668\n",
            "GUF: 0.332\n",
            "grid [MW]: 300.000\n",
            "wind [MW]: 200.000\n",
            "solar [MW]: 150.000\n",
            "Battery Energy [MWh]: 60.000\n",
            "Battery Power [MW]: 20.000\n",
            "Total curtailment [GWh]: 27.858\n",
            "Total curtailment with deg [GWh]: 5.059\n",
            "Awpp [km2]: 28.571\n",
            "Apvp [km2]: 1.839\n",
            "Plant area [km2]: 28.571\n",
            "Rotor diam [m]: 220.000\n",
            "Hub height [m]: 130.000\n",
            "Number of batteries used in lifetime: 2.000\n",
            "Break-even PPA price [Euro/MWh]: 23.116\n",
            "Capacity factor wind [-]: 0.391\n",
            "\n",
            "exec. time [min]: 0.2735009789466858\n"
          ]
        }
      ],
      "source": [
        "start = time.time()\n",
        "\n",
        "Nwt = 20\n",
        "wind_MW_per_km2 = 7\n",
        "solar_MW = 150\n",
        "b_P = 20\n",
        "b_E_h  = 3\n",
        "cost_of_batt_degr = 5\n",
        "clearance = hub_height_m - rotor_diameter_m / 2\n",
        "sp = 4 * wt_rated_power_MW * 10 ** 6 / np.pi / rotor_diameter_m ** 2\n",
        "\n",
        "x = [# Wind plant design\n",
        "    clearance, sp, wt_rated_power_MW, Nwt, wind_MW_per_km2,\n",
        "    # PV plant design\n",
        "    solar_MW,  surface_tilt_deg, surface_azimuth_deg, DC_AC_ratio,\n",
        "    # Energy storage & EMS price constrains\n",
        "    b_P, b_E_h, cost_of_batt_degr]\n",
        "\n",
        "outs = hpp.evaluate(*x)\n",
        "\n",
        "hpp.print_design(x, outs)\n",
        "\n",
        "end = time.time()\n",
        "print(f'exec. time [min]:', (end - start)/60 )"
      ]
    },
    {
      "cell_type": "code",
      "source": [
        "hpp = hpp_model(\n",
        "        latitude=latitude,\n",
        "        longitude=longitude,\n",
        "        altitude=altitude,\n",
        "        rotor_diameter_m = rotor_diameter_m,\n",
        "        hub_height_m = hub_height_m,\n",
        "        wt_rated_power_MW = wt_rated_power_MW,\n",
        "        surface_tilt_deg = surface_tilt_deg,\n",
        "        surface_azimuth_deg = surface_azimuth_deg,\n",
        "        DC_AC_ratio = DC_AC_ratio,\n",
        "        num_batteries = 5,\n",
        "        work_dir = './',\n",
        "        sim_pars_fn = sim_pars_fn,\n",
        "        input_ts_fn = input_ts_fn,\n",
        "solar_PV_cost=200000,\n",
        ")"
      ],
      "metadata": {
        "colab": {
          "base_uri": "https://localhost:8080/"
        },
        "id": "3otr1kUV8Egf",
        "outputId": "4ac64a19-4bd7-40b2-990b-68c974011207"
      },
      "execution_count": null,
      "outputs": [
        {
          "output_type": "stream",
          "name": "stdout",
          "text": [
            "\n",
            "Fixed parameters on the site\n",
            "-------------------------------\n",
            "longitude = -0.864258\n",
            "latitude = 48.744116\n",
            "altitude = 302.0\n"
          ]
        }
      ]
    },
    {
      "cell_type": "code",
      "source": [
        "start = time.time()\n",
        "\n",
        "Nwt = 20\n",
        "wind_MW_per_km2 = 7\n",
        "solar_MW = 150\n",
        "b_P = 20\n",
        "b_E_h  = 3\n",
        "cost_of_batt_degr = 5\n",
        "clearance = hub_height_m - rotor_diameter_m / 2\n",
        "sp = 4 * wt_rated_power_MW * 10 ** 6 / np.pi / rotor_diameter_m ** 2\n",
        "\n",
        "x = [# Wind plant design\n",
        "    clearance, sp, wt_rated_power_MW, Nwt, wind_MW_per_km2,\n",
        "    # PV plant design\n",
        "    solar_MW,  surface_tilt_deg, surface_azimuth_deg, DC_AC_ratio,\n",
        "    # Energy storage & EMS price constrains\n",
        "    b_P, b_E_h, cost_of_batt_degr]\n",
        "\n",
        "outs = hpp.evaluate(*x)\n",
        "\n",
        "hpp.print_design(x, outs)\n",
        "\n",
        "end = time.time()\n",
        "print(f'exec. time [min]:', (end - start)/60 )"
      ],
      "metadata": {
        "colab": {
          "base_uri": "https://localhost:8080/"
        },
        "id": "g76omzNX8JCB",
        "outputId": "dbcac207-2db9-496e-eadb-60d13c7a72ea"
      },
      "execution_count": null,
      "outputs": [
        {
          "output_type": "stream",
          "name": "stdout",
          "text": [
            "\n",
            "Design:\n",
            "---------------\n",
            "clearance [m]: 20.000\n",
            "sp [W/m2]: 263.066\n",
            "p_rated [MW]: 10.000\n",
            "Nwt: 20.000\n",
            "wind_MW_per_km2 [MW/km2]: 7.000\n",
            "solar_MW [MW]: 150.000\n",
            "surface_tilt [deg]: 35.000\n",
            "surface_azimuth [deg]: 180.000\n",
            "DC_AC_ratio: 1.500\n",
            "b_P [MW]: 20.000\n",
            "b_E_h [h]: 3.000\n",
            "cost_of_battery_P_fluct_in_peak_price_ratio: 5.000\n",
            "\n",
            "\n",
            "NPV_over_CAPEX: 0.625\n",
            "NPV [MEuro]: 224.408\n",
            "IRR: 0.109\n",
            "LCOE [Euro/MWh]: 37.373\n",
            "Revenues [MEuro]: 33.212\n",
            "CAPEX [MEuro]: 359.329\n",
            "OPEX [MEuro]: 5.647\n",
            "Wind CAPEX [MEuro]: 222.901\n",
            "Wind OPEX [MEuro]: 4.635\n",
            "PV CAPEX [MEuro]: 70.500\n",
            "PV OPEX [MEuro]: 1.012\n",
            "Batt CAPEX [MEuro]: 6.374\n",
            "Batt OPEX [MEuro]: 0.000\n",
            "Shared CAPEX [MEuro]: 59.553\n",
            "Shared OPEX [MEuro]: 0.000\n",
            "penalty lifetime [MEuro]: 0.000\n",
            "AEP [GWh]: 873.668\n",
            "GUF: 0.332\n",
            "grid [MW]: 300.000\n",
            "wind [MW]: 200.000\n",
            "solar [MW]: 150.000\n",
            "Battery Energy [MWh]: 60.000\n",
            "Battery Power [MW]: 20.000\n",
            "Total curtailment [GWh]: 27.858\n",
            "Total curtailment with deg [GWh]: 5.059\n",
            "Awpp [km2]: 28.571\n",
            "Apvp [km2]: 1.839\n",
            "Plant area [km2]: 28.571\n",
            "Rotor diam [m]: 220.000\n",
            "Hub height [m]: 130.000\n",
            "Number of batteries used in lifetime: 2.000\n",
            "Break-even PPA price [Euro/MWh]: 24.843\n",
            "Capacity factor wind [-]: 0.391\n",
            "\n",
            "exec. time [min]: 0.26964974800745645\n"
          ]
        }
      ]
    }
  ],
  "metadata": {
    "kernelspec": {
      "display_name": "Python 3 (ipykernel)",
      "language": "python",
      "name": "python3"
    },
    "language_info": {
      "codemirror_mode": {
        "name": "ipython",
        "version": 3
      },
      "file_extension": ".py",
      "mimetype": "text/x-python",
      "name": "python",
      "nbconvert_exporter": "python",
      "pygments_lexer": "ipython3",
      "version": "3.11.11"
    },
    "vscode": {
      "interpreter": {
        "hash": "8eb42cbc0966288d8775f994320d4f9db9b56b99081abe9d1ec0463f59924871"
      }
    },
    "colab": {
      "provenance": [],
      "name": "Pv_inputs.ipynb",
      "include_colab_link": true
    }
  },
  "nbformat": 4,
  "nbformat_minor": 0
}