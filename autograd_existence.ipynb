{
  "nbformat": 4,
  "nbformat_minor": 0,
  "metadata": {
    "colab": {
      "provenance": [],
      "authorship_tag": "ABX9TyOxNTdbE5X5cKZXOKRyc+jC",
      "include_colab_link": true
    },
    "kernelspec": {
      "name": "python3",
      "display_name": "Python 3"
    },
    "language_info": {
      "name": "python"
    }
  },
  "cells": [
    {
      "cell_type": "markdown",
      "metadata": {
        "id": "view-in-github",
        "colab_type": "text"
      },
      "source": [
        "<a href=\"https://colab.research.google.com/github/mifm/examples/blob/master/autograd_existence.ipynb\" target=\"_parent\"><img src=\"https://colab.research.google.com/assets/colab-badge.svg\" alt=\"Open In Colab\"/></a>"
      ]
    },
    {
      "cell_type": "code",
      "execution_count": 1,
      "metadata": {
        "colab": {
          "base_uri": "https://localhost:8080/"
        },
        "id": "3bI0qdIzpdW6",
        "outputId": "63652a4a-9ce8-4ee8-f716-ee3f29b09ede"
      },
      "outputs": [
        {
          "output_type": "stream",
          "name": "stdout",
          "text": [
            "Collecting py_wake\n",
            "  Downloading py_wake-2.6.11-py3-none-any.whl.metadata (3.5 kB)\n",
            "Collecting git-lfs (from py_wake)\n",
            "  Downloading git_lfs-1.6-py2.py3-none-any.whl.metadata (1.2 kB)\n",
            "Requirement already satisfied: matplotlib in /usr/local/lib/python3.11/dist-packages (from py_wake) (3.10.0)\n",
            "Requirement already satisfied: numpy in /usr/local/lib/python3.11/dist-packages (from py_wake) (2.0.2)\n",
            "Requirement already satisfied: xarray>=2024.6.1 in /usr/local/lib/python3.11/dist-packages (from py_wake) (2025.1.2)\n",
            "Collecting netcdf4 (from py_wake)\n",
            "  Downloading netCDF4-1.7.2-cp311-cp311-manylinux_2_17_x86_64.manylinux2014_x86_64.whl.metadata (1.8 kB)\n",
            "Requirement already satisfied: h5netcdf in /usr/local/lib/python3.11/dist-packages (from py_wake) (1.6.1)\n",
            "Requirement already satisfied: autograd in /usr/local/lib/python3.11/dist-packages (from py_wake) (1.7.0)\n",
            "Requirement already satisfied: pyyaml in /usr/local/lib/python3.11/dist-packages (from py_wake) (6.0.2)\n",
            "Requirement already satisfied: scipy in /usr/local/lib/python3.11/dist-packages (from py_wake) (1.14.1)\n",
            "Requirement already satisfied: tqdm in /usr/local/lib/python3.11/dist-packages (from py_wake) (4.67.1)\n",
            "Requirement already satisfied: joblib>=1.3 in /usr/local/lib/python3.11/dist-packages (from py_wake) (1.4.2)\n",
            "Requirement already satisfied: packaging>=23.2 in /usr/local/lib/python3.11/dist-packages (from xarray>=2024.6.1->py_wake) (24.2)\n",
            "Requirement already satisfied: pandas>=2.1 in /usr/local/lib/python3.11/dist-packages (from xarray>=2024.6.1->py_wake) (2.2.2)\n",
            "Requirement already satisfied: h5py in /usr/local/lib/python3.11/dist-packages (from h5netcdf->py_wake) (3.13.0)\n",
            "Requirement already satisfied: contourpy>=1.0.1 in /usr/local/lib/python3.11/dist-packages (from matplotlib->py_wake) (1.3.1)\n",
            "Requirement already satisfied: cycler>=0.10 in /usr/local/lib/python3.11/dist-packages (from matplotlib->py_wake) (0.12.1)\n",
            "Requirement already satisfied: fonttools>=4.22.0 in /usr/local/lib/python3.11/dist-packages (from matplotlib->py_wake) (4.56.0)\n",
            "Requirement already satisfied: kiwisolver>=1.3.1 in /usr/local/lib/python3.11/dist-packages (from matplotlib->py_wake) (1.4.8)\n",
            "Requirement already satisfied: pillow>=8 in /usr/local/lib/python3.11/dist-packages (from matplotlib->py_wake) (11.1.0)\n",
            "Requirement already satisfied: pyparsing>=2.3.1 in /usr/local/lib/python3.11/dist-packages (from matplotlib->py_wake) (3.2.3)\n",
            "Requirement already satisfied: python-dateutil>=2.7 in /usr/local/lib/python3.11/dist-packages (from matplotlib->py_wake) (2.8.2)\n",
            "Collecting cftime (from netcdf4->py_wake)\n",
            "  Downloading cftime-1.6.4.post1-cp311-cp311-manylinux_2_17_x86_64.manylinux2014_x86_64.whl.metadata (8.7 kB)\n",
            "Requirement already satisfied: certifi in /usr/local/lib/python3.11/dist-packages (from netcdf4->py_wake) (2025.1.31)\n",
            "Requirement already satisfied: pytz>=2020.1 in /usr/local/lib/python3.11/dist-packages (from pandas>=2.1->xarray>=2024.6.1->py_wake) (2025.2)\n",
            "Requirement already satisfied: tzdata>=2022.7 in /usr/local/lib/python3.11/dist-packages (from pandas>=2.1->xarray>=2024.6.1->py_wake) (2025.2)\n",
            "Requirement already satisfied: six>=1.5 in /usr/local/lib/python3.11/dist-packages (from python-dateutil>=2.7->matplotlib->py_wake) (1.17.0)\n",
            "Downloading py_wake-2.6.11-py3-none-any.whl (19.9 MB)\n",
            "\u001b[2K   \u001b[90m━━━━━━━━━━━━━━━━━━━━━━━━━━━━━━━━━━━━━━━━\u001b[0m \u001b[32m19.9/19.9 MB\u001b[0m \u001b[31m18.7 MB/s\u001b[0m eta \u001b[36m0:00:00\u001b[0m\n",
            "\u001b[?25hDownloading git_lfs-1.6-py2.py3-none-any.whl (5.6 kB)\n",
            "Downloading netCDF4-1.7.2-cp311-cp311-manylinux_2_17_x86_64.manylinux2014_x86_64.whl (9.3 MB)\n",
            "\u001b[2K   \u001b[90m━━━━━━━━━━━━━━━━━━━━━━━━━━━━━━━━━━━━━━━━\u001b[0m \u001b[32m9.3/9.3 MB\u001b[0m \u001b[31m18.5 MB/s\u001b[0m eta \u001b[36m0:00:00\u001b[0m\n",
            "\u001b[?25hDownloading cftime-1.6.4.post1-cp311-cp311-manylinux_2_17_x86_64.manylinux2014_x86_64.whl (1.4 MB)\n",
            "\u001b[2K   \u001b[90m━━━━━━━━━━━━━━━━━━━━━━━━━━━━━━━━━━━━━━━━\u001b[0m \u001b[32m1.4/1.4 MB\u001b[0m \u001b[31m11.7 MB/s\u001b[0m eta \u001b[36m0:00:00\u001b[0m\n",
            "\u001b[?25hInstalling collected packages: git-lfs, cftime, netcdf4, py_wake\n",
            "Successfully installed cftime-1.6.4.post1 git-lfs-1.6 netcdf4-1.7.2 py_wake-2.6.11\n"
          ]
        }
      ],
      "source": [
        "!pip install py_wake"
      ]
    },
    {
      "cell_type": "code",
      "source": [
        "from py_wake.examples.data.iea37 import IEA37_WindTurbines\n",
        "from py_wake.wind_turbines.power_ct_functions import PowerCtNDTabular\n",
        "from py_wake.wind_turbines import WindTurbine\n",
        "from py_wake.utils.gradients import autograd\n",
        "import numpy as np\n",
        "from py_wake.examples.data.hornsrev1 import Hornsrev1Site\n",
        "from py_wake.literature.gaussian_models import Zong_PorteAgel_2020\n",
        "from py_wake.deflection_models.jimenez import JimenezWakeDeflection\n",
        "from py_wake.superposition_models import LinearSum\n",
        "from py_wake.utils.layouts import rectangle\n",
        "\n",
        "\n",
        "class ExistenceWindTurbine(WindTurbine):\n",
        "    def __init__(self, name=\"Existence Turbine\"):\n",
        "        self.existence_values = np.array([0.0, 1.0])\n",
        "        self.wsp_lst = np.linspace(0, 25, 50)\n",
        "\n",
        "        # Extract data from the IEA37 wind turbine\n",
        "        base_turbine = IEA37_WindTurbines()\n",
        "        diameter = base_turbine.diameter()\n",
        "        hub_height = base_turbine.hub_height()\n",
        "        power = base_turbine.power(self.wsp_lst)\n",
        "        ct = base_turbine.ct(self.wsp_lst)\n",
        "\n",
        "        # Prepare 3D power and ct arrays\n",
        "        power_3d = np.array([power * ex for ex in self.existence_values]).T\n",
        "        ct_3d = np.array([ct * ex for ex in self.existence_values]).T\n",
        "\n",
        "        # Define powerCtFunction with existence as a dimension\n",
        "        powerCtFunction = PowerCtNDTabular(\n",
        "            input_keys=['ws', 'existence'],\n",
        "            value_lst=[self.wsp_lst, self.existence_values],\n",
        "            power_arr=power_3d,\n",
        "            power_unit='W',\n",
        "            ct_arr=ct_3d,\n",
        "            default_value_dict={'existence': 1.0}\n",
        "        )\n",
        "\n",
        "        # Initialize the wind turbine with the new powerCtFunction\n",
        "        super().__init__(name, diameter, hub_height, powerCtFunction)\n",
        "\n",
        "\n",
        "site = Hornsrev1Site()\n",
        "wt = ExistenceWindTurbine()\n",
        "wfm = Zong_PorteAgel_2020(site, wt, deflectionModel=JimenezWakeDeflection(), superpositionModel= LinearSum())\n",
        "x,y = rectangle(3,3, wt.diameter()*5)\n",
        "\n",
        "def get_aep(existence):\n",
        "    return wfm.aep(x=x, y=y,yaw=[20,-10,1],tilt=0, existence=existence).sum()\n",
        "\n",
        "existence = 0.5\n",
        "aep = get_aep(existence)\n",
        "print(\"AEP: \", aep)\n",
        "print(\"Gradients: \", autograd(get_aep)(existence))\n"
      ],
      "metadata": {
        "colab": {
          "base_uri": "https://localhost:8080/"
        },
        "id": "9vYcRg9Wpe0T",
        "outputId": "9df8126b-2459-4468-ee01-6387f7f89c1e"
      },
      "execution_count": 2,
      "outputs": [
        {
          "output_type": "stream",
          "name": "stdout",
          "text": [
            "AEP:  23.852822735102162\n",
            "Gradients:  46.97447594918426\n"
          ]
        }
      ]
    },
    {
      "cell_type": "code",
      "source": [
        "existence = 0.2\n",
        "aep = get_aep(existence)\n",
        "print(\"AEP: \", aep)\n",
        "print(\"Gradients: \", autograd(get_aep)(existence))\n"
      ],
      "metadata": {
        "colab": {
          "base_uri": "https://localhost:8080/"
        },
        "id": "oFpPI3k2pfkD",
        "outputId": "a6dec11e-2023-4881-b777-00f42f20bab1"
      },
      "execution_count": 3,
      "outputs": [
        {
          "output_type": "stream",
          "name": "stdout",
          "text": [
            "AEP:  9.623047411982478\n",
            "Gradients:  47.85111779696202\n"
          ]
        }
      ]
    },
    {
      "cell_type": "code",
      "source": [],
      "metadata": {
        "id": "mzAO6q_ppqpy"
      },
      "execution_count": null,
      "outputs": []
    }
  ]
}