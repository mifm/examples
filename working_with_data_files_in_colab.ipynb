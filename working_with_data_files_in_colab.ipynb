{
  "nbformat": 4,
  "nbformat_minor": 0,
  "metadata": {
    "colab": {
      "name": "working_with_data_files_in_colab.ipynb",
      "provenance": [],
      "authorship_tag": "ABX9TyNg3rVjXee/1zQyqPO1iXVp",
      "include_colab_link": true
    },
    "kernelspec": {
      "name": "python3",
      "display_name": "Python 3"
    },
    "language_info": {
      "name": "python"
    }
  },
  "cells": [
    {
      "cell_type": "markdown",
      "metadata": {
        "id": "view-in-github",
        "colab_type": "text"
      },
      "source": [
        "<a href=\"https://colab.research.google.com/github/mifm/examples/blob/master/working_with_data_files_in_colab.ipynb\" target=\"_parent\"><img src=\"https://colab.research.google.com/assets/colab-badge.svg\" alt=\"Open In Colab\"/></a>"
      ]
    },
    {
      "cell_type": "code",
      "execution_count": 1,
      "metadata": {
        "colab": {
          "base_uri": "https://localhost:8080/"
        },
        "id": "AVO0SOUi8hoR",
        "outputId": "24c45f09-f9c2-4fd9-91e7-2d4264eb9719"
      },
      "outputs": [
        {
          "output_type": "stream",
          "name": "stdout",
          "text": [
            "Mounted at /content/gdrive\n"
          ]
        }
      ],
      "source": [
        "from google.colab import drive\n",
        "drive.mount('/content/gdrive')"
      ]
    },
    {
      "cell_type": "code",
      "source": [
        "%cd gdrive/MyDrive\n",
        "!git clone https://gitlab.windenergy.dtu.dk/TOPFARM/PyWake.git\n",
        "%cd PyWake\n",
        "!pip install -e ."
      ],
      "metadata": {
        "id": "WUPX4WWq8jd3"
      },
      "execution_count": null,
      "outputs": []
    },
    {
      "cell_type": "code",
      "source": [
        "import py_wake"
      ],
      "metadata": {
        "id": "z9JyAQs6-Y84"
      },
      "execution_count": 3,
      "outputs": []
    }
  ]
}