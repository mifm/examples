{
  "nbformat": 4,
  "nbformat_minor": 0,
  "metadata": {
    "colab": {
      "provenance": [],
      "authorship_tag": "ABX9TyNzFnGjBKTzarIcyw/knUl6",
      "include_colab_link": true
    },
    "kernelspec": {
      "name": "python3",
      "display_name": "Python 3"
    },
    "language_info": {
      "name": "python"
    }
  },
  "cells": [
    {
      "cell_type": "markdown",
      "metadata": {
        "id": "view-in-github",
        "colab_type": "text"
      },
      "source": [
        "<a href=\"https://colab.research.google.com/github/mifm/examples/blob/master/pywake_timeseries_ex.ipynb\" target=\"_parent\"><img src=\"https://colab.research.google.com/assets/colab-badge.svg\" alt=\"Open In Colab\"/></a>"
      ]
    },
    {
      "cell_type": "code",
      "execution_count": 1,
      "metadata": {
        "colab": {
          "base_uri": "https://localhost:8080/"
        },
        "collapsed": true,
        "id": "spetSN3OAQGD",
        "outputId": "5c842f2c-c867-4351-8b8b-0173b3dce039"
      },
      "outputs": [
        {
          "output_type": "stream",
          "name": "stdout",
          "text": [
            "Requirement already satisfied: py_wake in /usr/local/lib/python3.10/dist-packages (2.6.3)\n",
            "Requirement already satisfied: matplotlib in /usr/local/lib/python3.10/dist-packages (from py_wake) (3.7.1)\n",
            "Requirement already satisfied: numpy in /usr/local/lib/python3.10/dist-packages (from py_wake) (1.26.4)\n",
            "Requirement already satisfied: xarray in /usr/local/lib/python3.10/dist-packages (from py_wake) (2024.6.0)\n",
            "Requirement already satisfied: netcdf4 in /usr/local/lib/python3.10/dist-packages (from py_wake) (1.7.1.post2)\n",
            "Requirement already satisfied: h5netcdf in /usr/local/lib/python3.10/dist-packages (from py_wake) (1.3.0)\n",
            "Requirement already satisfied: autograd in /usr/local/lib/python3.10/dist-packages (from py_wake) (1.7.0)\n",
            "Requirement already satisfied: pyyaml in /usr/local/lib/python3.10/dist-packages (from py_wake) (6.0.2)\n",
            "Requirement already satisfied: scipy in /usr/local/lib/python3.10/dist-packages (from py_wake) (1.13.1)\n",
            "Requirement already satisfied: tqdm in /usr/local/lib/python3.10/dist-packages (from py_wake) (4.66.5)\n",
            "Requirement already satisfied: joblib>=1.3 in /usr/local/lib/python3.10/dist-packages (from py_wake) (1.4.2)\n",
            "Requirement already satisfied: h5py in /usr/local/lib/python3.10/dist-packages (from h5netcdf->py_wake) (3.11.0)\n",
            "Requirement already satisfied: packaging in /usr/local/lib/python3.10/dist-packages (from h5netcdf->py_wake) (24.1)\n",
            "Requirement already satisfied: contourpy>=1.0.1 in /usr/local/lib/python3.10/dist-packages (from matplotlib->py_wake) (1.3.0)\n",
            "Requirement already satisfied: cycler>=0.10 in /usr/local/lib/python3.10/dist-packages (from matplotlib->py_wake) (0.12.1)\n",
            "Requirement already satisfied: fonttools>=4.22.0 in /usr/local/lib/python3.10/dist-packages (from matplotlib->py_wake) (4.53.1)\n",
            "Requirement already satisfied: kiwisolver>=1.0.1 in /usr/local/lib/python3.10/dist-packages (from matplotlib->py_wake) (1.4.5)\n",
            "Requirement already satisfied: pillow>=6.2.0 in /usr/local/lib/python3.10/dist-packages (from matplotlib->py_wake) (9.4.0)\n",
            "Requirement already satisfied: pyparsing>=2.3.1 in /usr/local/lib/python3.10/dist-packages (from matplotlib->py_wake) (3.1.4)\n",
            "Requirement already satisfied: python-dateutil>=2.7 in /usr/local/lib/python3.10/dist-packages (from matplotlib->py_wake) (2.8.2)\n",
            "Requirement already satisfied: cftime in /usr/local/lib/python3.10/dist-packages (from netcdf4->py_wake) (1.6.4)\n",
            "Requirement already satisfied: certifi in /usr/local/lib/python3.10/dist-packages (from netcdf4->py_wake) (2024.7.4)\n",
            "Requirement already satisfied: pandas>=2.0 in /usr/local/lib/python3.10/dist-packages (from xarray->py_wake) (2.1.4)\n",
            "Requirement already satisfied: pytz>=2020.1 in /usr/local/lib/python3.10/dist-packages (from pandas>=2.0->xarray->py_wake) (2024.1)\n",
            "Requirement already satisfied: tzdata>=2022.1 in /usr/local/lib/python3.10/dist-packages (from pandas>=2.0->xarray->py_wake) (2024.1)\n",
            "Requirement already satisfied: six>=1.5 in /usr/local/lib/python3.10/dist-packages (from python-dateutil>=2.7->matplotlib->py_wake) (1.16.0)\n"
          ]
        }
      ],
      "source": [
        "!pip install py_wake"
      ]
    },
    {
      "cell_type": "code",
      "source": [
        "import numpy as np\n",
        "from py_wake.examples.data.hornsrev1 import Hornsrev1Site, V80\n",
        "from py_wake.examples.data.dtu10mw._dtu10mw import DTU10MW\n",
        "from py_wake.literature.gaussian_models import Niayifar_PorteAgel_2016\n",
        "from py_wake.examples.data import example_data_path\n",
        "from py_wake.wind_turbines import WindTurbines\n",
        "from py_wake.site.xrsite import XRSite\n",
        "import xarray as xr\n",
        "import pandas as pd"
      ],
      "metadata": {
        "id": "ERBQSxahASUo"
      },
      "execution_count": 43,
      "outputs": []
    },
    {
      "cell_type": "code",
      "source": [
        "n_days=30\n",
        "time_stamp = pd.date_range('2030-01-01 00:00', '2030-02-01 00:00', freq='1h')\n",
        "n_time = len(time_stamp)\n",
        "np.random.seed(0)\n",
        "ws = np.random.random(n_time) * 10 + 5\n",
        "np.random.seed(0)\n",
        "wd = np.random.random(n_time) * 360\n",
        "np.random.seed(0)\n",
        "ti = np.random.random(n_time) * 0.5\n",
        "\n",
        "turb1 = V80()\n",
        "turb2 = DTU10MW()\n",
        "\n",
        "site = XRSite(\n",
        "    ds=xr.Dataset(data_vars={'WS': (['h', 'time'], np.array([ws, ws*1.1])),\n",
        "                             'WD': (['h', 'time'], np.array([wd, wd*1.1])),\n",
        "                             'TI': (['h', 'time'], 10*np.array([ti, ti*1.1])),\n",
        "                             'P': 1,\n",
        "                             },\n",
        "                  coords={'h': [10, 200],\n",
        "                          'time': time_stamp}),)\n",
        "\n",
        "turbines = WindTurbines.from_WindTurbine_lst([turb1, turb2])\n",
        "\n",
        "wfm = Niayifar_PorteAgel_2016(site, turbines)\n",
        "\n",
        "x = [0, 0, 0, 0, 0]\n",
        "y = [0, 1e3, 2e3, 3e3, 4e3]\n",
        "\n"
      ],
      "metadata": {
        "id": "kLwgDSddAWNk"
      },
      "execution_count": 44,
      "outputs": []
    },
    {
      "cell_type": "code",
      "source": [
        "res = wfm(x, y, type=[0,0,1,1,0], time=time_stamp,ws=100 * np.ones_like(wd), wd=np.zeros_like(wd), TI=10*np.ones_like(wd))\n",
        "res.aep().values.sum()"
      ],
      "metadata": {
        "colab": {
          "base_uri": "https://localhost:8080/"
        },
        "id": "1XB_vYNTBZzC",
        "outputId": "accddee8-7831-4600-dfc1-ac2fdcd1b620"
      },
      "execution_count": 47,
      "outputs": [
        {
          "output_type": "execute_result",
          "data": {
            "text/plain": [
              "150.4710467076198"
            ]
          },
          "metadata": {},
          "execution_count": 47
        }
      ]
    },
    {
      "cell_type": "code",
      "source": [
        "res = wfm(x, y, type=[0,0,1,1,0], time=time_stamp,ws=100 * np.ones_like(wd), wd=np.zeros_like(wd), TI=0*np.ones_like(wd))\n",
        "res.aep().values.sum()"
      ],
      "metadata": {
        "colab": {
          "base_uri": "https://localhost:8080/"
        },
        "id": "Ni7acIgcI-v4",
        "outputId": "3fc0c130-9425-4f98-e642-bf23622031d1"
      },
      "execution_count": 48,
      "outputs": [
        {
          "output_type": "execute_result",
          "data": {
            "text/plain": [
              "81.57380453452053"
            ]
          },
          "metadata": {},
          "execution_count": 48
        }
      ]
    },
    {
      "cell_type": "code",
      "source": [
        "res = wfm(x, y, type=[0,0,1,1,0], time=time_stamp,ws=0 * np.ones_like(wd), wd=np.zeros_like(wd), TI=0*np.ones_like(wd))\n",
        "res.aep().values.sum()"
      ],
      "metadata": {
        "colab": {
          "base_uri": "https://localhost:8080/"
        },
        "id": "ZguGRkW3Z502",
        "outputId": "9ea62d3d-fe29-4439-c463-ec4269fe342a"
      },
      "execution_count": 49,
      "outputs": [
        {
          "output_type": "execute_result",
          "data": {
            "text/plain": [
              "81.57380453452053"
            ]
          },
          "metadata": {},
          "execution_count": 49
        }
      ]
    },
    {
      "cell_type": "code",
      "source": [
        "res = wfm(x, y, type=[0,0,1,1,0], time=time_stamp)\n",
        "res.aep().values.sum()"
      ],
      "metadata": {
        "colab": {
          "base_uri": "https://localhost:8080/",
          "height": 304
        },
        "id": "rRxNGoOiZ8Ch",
        "outputId": "de68bf3e-01d2-448a-961d-47c0f8723d13"
      },
      "execution_count": 50,
      "outputs": [
        {
          "output_type": "error",
          "ename": "AssertionError",
          "evalue": "",
          "traceback": [
            "\u001b[0;31m---------------------------------------------------------------------------\u001b[0m",
            "\u001b[0;31mAssertionError\u001b[0m                            Traceback (most recent call last)",
            "\u001b[0;32m<ipython-input-50-85bcd9796591>\u001b[0m in \u001b[0;36m<cell line: 1>\u001b[0;34m()\u001b[0m\n\u001b[0;32m----> 1\u001b[0;31m \u001b[0mres\u001b[0m \u001b[0;34m=\u001b[0m \u001b[0mwfm\u001b[0m\u001b[0;34m(\u001b[0m\u001b[0mx\u001b[0m\u001b[0;34m,\u001b[0m \u001b[0my\u001b[0m\u001b[0;34m,\u001b[0m \u001b[0mtype\u001b[0m\u001b[0;34m=\u001b[0m\u001b[0;34m[\u001b[0m\u001b[0;36m0\u001b[0m\u001b[0;34m,\u001b[0m\u001b[0;36m0\u001b[0m\u001b[0;34m,\u001b[0m\u001b[0;36m1\u001b[0m\u001b[0;34m,\u001b[0m\u001b[0;36m1\u001b[0m\u001b[0;34m,\u001b[0m\u001b[0;36m0\u001b[0m\u001b[0;34m]\u001b[0m\u001b[0;34m,\u001b[0m \u001b[0mtime\u001b[0m\u001b[0;34m=\u001b[0m\u001b[0mtime_stamp\u001b[0m\u001b[0;34m)\u001b[0m\u001b[0;34m\u001b[0m\u001b[0;34m\u001b[0m\u001b[0m\n\u001b[0m\u001b[1;32m      2\u001b[0m \u001b[0mres\u001b[0m\u001b[0;34m.\u001b[0m\u001b[0maep\u001b[0m\u001b[0;34m(\u001b[0m\u001b[0;34m)\u001b[0m\u001b[0;34m.\u001b[0m\u001b[0mvalues\u001b[0m\u001b[0;34m.\u001b[0m\u001b[0msum\u001b[0m\u001b[0;34m(\u001b[0m\u001b[0;34m)\u001b[0m\u001b[0;34m\u001b[0m\u001b[0;34m\u001b[0m\u001b[0m\n",
            "\u001b[0;32m/usr/local/lib/python3.10/dist-packages/py_wake/wind_farm_models/wind_farm_model.py\u001b[0m in \u001b[0;36m__call__\u001b[0;34m(self, x, y, h, type, wd, ws, time, verbose, n_cpu, wd_chunks, ws_chunks, return_simulationResult, **kwargs)\u001b[0m\n\u001b[1;32m    130\u001b[0m         \"\"\"\n\u001b[1;32m    131\u001b[0m \u001b[0;34m\u001b[0m\u001b[0m\n\u001b[0;32m--> 132\u001b[0;31m         res = self._run(x, y, h=h, type=type, wd=wd, ws=ws, time=time, verbose=verbose,\n\u001b[0m\u001b[1;32m    133\u001b[0m                         n_cpu=n_cpu, wd_chunks=wd_chunks, ws_chunks=ws_chunks, **kwargs)\n\u001b[1;32m    134\u001b[0m         \u001b[0;32mif\u001b[0m \u001b[0mreturn_simulationResult\u001b[0m\u001b[0;34m:\u001b[0m\u001b[0;34m\u001b[0m\u001b[0;34m\u001b[0m\u001b[0m\n",
            "\u001b[0;32m/usr/local/lib/python3.10/dist-packages/py_wake/wind_farm_models/wind_farm_model.py\u001b[0m in \u001b[0;36m_run\u001b[0;34m(self, x, y, h, type, wd, ws, time, verbose, n_cpu, wd_chunks, ws_chunks, **kwargs)\u001b[0m\n\u001b[1;32m     68\u001b[0m         \u001b[0mkwargs_ilk\u001b[0m \u001b[0;34m=\u001b[0m \u001b[0;34m{\u001b[0m\u001b[0mk\u001b[0m \u001b[0;34m+\u001b[0m \u001b[0;34m'_ilk'\u001b[0m\u001b[0;34m:\u001b[0m \u001b[0marg2ilk\u001b[0m\u001b[0;34m(\u001b[0m\u001b[0mk\u001b[0m\u001b[0;34m,\u001b[0m \u001b[0mv\u001b[0m\u001b[0;34m,\u001b[0m \u001b[0mI\u001b[0m\u001b[0;34m,\u001b[0m \u001b[0mL\u001b[0m\u001b[0;34m,\u001b[0m \u001b[0mK\u001b[0m\u001b[0;34m)\u001b[0m \u001b[0;32mfor\u001b[0m \u001b[0mk\u001b[0m\u001b[0;34m,\u001b[0m \u001b[0mv\u001b[0m \u001b[0;32min\u001b[0m \u001b[0mkwargs\u001b[0m\u001b[0;34m.\u001b[0m\u001b[0mitems\u001b[0m\u001b[0;34m(\u001b[0m\u001b[0;34m)\u001b[0m\u001b[0;34m}\u001b[0m\u001b[0;34m\u001b[0m\u001b[0;34m\u001b[0m\u001b[0m\n\u001b[1;32m     69\u001b[0m \u001b[0;34m\u001b[0m\u001b[0m\n\u001b[0;32m---> 70\u001b[0;31m         return self.calc_wt_interaction(h_i=h, type_i=type,\n\u001b[0m\u001b[1;32m     71\u001b[0m                                         \u001b[0mwd\u001b[0m\u001b[0;34m=\u001b[0m\u001b[0mwd\u001b[0m\u001b[0;34m,\u001b[0m \u001b[0mws\u001b[0m\u001b[0;34m=\u001b[0m\u001b[0mws\u001b[0m\u001b[0;34m,\u001b[0m \u001b[0mtime\u001b[0m\u001b[0;34m=\u001b[0m\u001b[0mtime\u001b[0m\u001b[0;34m,\u001b[0m\u001b[0;34m\u001b[0m\u001b[0;34m\u001b[0m\u001b[0m\n\u001b[1;32m     72\u001b[0m                                         \u001b[0mn_cpu\u001b[0m\u001b[0;34m=\u001b[0m\u001b[0mn_cpu\u001b[0m\u001b[0;34m,\u001b[0m \u001b[0mwd_chunks\u001b[0m\u001b[0;34m=\u001b[0m\u001b[0mwd_chunks\u001b[0m\u001b[0;34m,\u001b[0m \u001b[0mws_chunks\u001b[0m\u001b[0;34m=\u001b[0m\u001b[0mws_chunks\u001b[0m\u001b[0;34m,\u001b[0m\u001b[0;34m\u001b[0m\u001b[0;34m\u001b[0m\u001b[0m\n",
            "\u001b[0;32m/usr/local/lib/python3.10/dist-packages/py_wake/wind_farm_models/engineering_models.py\u001b[0m in \u001b[0;36mcalc_wt_interaction\u001b[0;34m(self, x_ilk, y_ilk, h_i, type_i, wd, ws, time, WS_eff_ilk, n_cpu, wd_chunks, ws_chunks, **kwargs)\u001b[0m\n\u001b[1;32m    197\u001b[0m \u001b[0;34m\u001b[0m\u001b[0m\n\u001b[1;32m    198\u001b[0m         \u001b[0;31m# Find local wind speed, wind direction, turbulence intensity and probability\u001b[0m\u001b[0;34m\u001b[0m\u001b[0;34m\u001b[0m\u001b[0m\n\u001b[0;32m--> 199\u001b[0;31m         lw = self.site.local_wind(x=np.mean(x_ilk, (1, 2)), y=np.mean(y_ilk, (1, 2)), h=h_i,\n\u001b[0m\u001b[1;32m    200\u001b[0m                                   wd=kwargs['wd'], ws=kwargs['ws'], time=kwargs['time'])\n\u001b[1;32m    201\u001b[0m         \u001b[0;32mfor\u001b[0m \u001b[0mk\u001b[0m \u001b[0;32min\u001b[0m \u001b[0;34m[\u001b[0m\u001b[0;34m'WS_ilk'\u001b[0m\u001b[0;34m,\u001b[0m \u001b[0;34m'WD_ilk'\u001b[0m\u001b[0;34m,\u001b[0m \u001b[0;34m'TI_ilk'\u001b[0m\u001b[0;34m]\u001b[0m\u001b[0;34m:\u001b[0m\u001b[0;34m\u001b[0m\u001b[0;34m\u001b[0m\u001b[0m\n",
            "\u001b[0;32m/usr/local/lib/python3.10/dist-packages/py_wake/site/_site.py\u001b[0m in \u001b[0;36mlocal_wind\u001b[0;34m(self, x, y, h, wd, ws, time, wd_bin_size, ws_bins, **_)\u001b[0m\n\u001b[1;32m    179\u001b[0m         \u001b[0mwd\u001b[0m\u001b[0;34m,\u001b[0m \u001b[0mws\u001b[0m \u001b[0;34m=\u001b[0m \u001b[0mself\u001b[0m\u001b[0;34m.\u001b[0m\u001b[0mget_defaults\u001b[0m\u001b[0;34m(\u001b[0m\u001b[0mwd\u001b[0m\u001b[0;34m,\u001b[0m \u001b[0mws\u001b[0m\u001b[0;34m)\u001b[0m\u001b[0;34m\u001b[0m\u001b[0;34m\u001b[0m\u001b[0m\n\u001b[1;32m    180\u001b[0m         \u001b[0mwd_bin_size\u001b[0m \u001b[0;34m=\u001b[0m \u001b[0mself\u001b[0m\u001b[0;34m.\u001b[0m\u001b[0mwd_bin_size\u001b[0m\u001b[0;34m(\u001b[0m\u001b[0mwd\u001b[0m\u001b[0;34m,\u001b[0m \u001b[0mwd_bin_size\u001b[0m\u001b[0;34m)\u001b[0m\u001b[0;34m\u001b[0m\u001b[0;34m\u001b[0m\u001b[0m\n\u001b[0;32m--> 181\u001b[0;31m         \u001b[0mlw\u001b[0m \u001b[0;34m=\u001b[0m \u001b[0mLocalWind\u001b[0m\u001b[0;34m(\u001b[0m\u001b[0mx\u001b[0m\u001b[0;34m,\u001b[0m \u001b[0my\u001b[0m\u001b[0;34m,\u001b[0m \u001b[0mh\u001b[0m\u001b[0;34m,\u001b[0m \u001b[0mwd\u001b[0m\u001b[0;34m,\u001b[0m \u001b[0mws\u001b[0m\u001b[0;34m,\u001b[0m \u001b[0mtime\u001b[0m\u001b[0;34m,\u001b[0m \u001b[0mwd_bin_size\u001b[0m\u001b[0;34m)\u001b[0m\u001b[0;34m\u001b[0m\u001b[0;34m\u001b[0m\u001b[0m\n\u001b[0m\u001b[1;32m    182\u001b[0m         \u001b[0;32mreturn\u001b[0m \u001b[0mself\u001b[0m\u001b[0;34m.\u001b[0m\u001b[0m_local_wind\u001b[0m\u001b[0;34m(\u001b[0m\u001b[0mlw\u001b[0m\u001b[0;34m,\u001b[0m \u001b[0mws_bins\u001b[0m\u001b[0;34m)\u001b[0m\u001b[0;34m\u001b[0m\u001b[0;34m\u001b[0m\u001b[0m\n\u001b[1;32m    183\u001b[0m \u001b[0;34m\u001b[0m\u001b[0m\n",
            "\u001b[0;32m/usr/local/lib/python3.10/dist-packages/py_wake/site/_site.py\u001b[0m in \u001b[0;36m__init__\u001b[0;34m(self, x_i, y_i, h_i, wd, ws, time, wd_bin_size, WD, WS, TI, P)\u001b[0m\n\u001b[1;32m     36\u001b[0m         \u001b[0mws\u001b[0m \u001b[0;34m=\u001b[0m \u001b[0mnp\u001b[0m\u001b[0;34m.\u001b[0m\u001b[0matleast_1d\u001b[0m\u001b[0;34m(\u001b[0m\u001b[0mws\u001b[0m\u001b[0;34m)\u001b[0m\u001b[0;34m\u001b[0m\u001b[0;34m\u001b[0m\u001b[0m\n\u001b[1;32m     37\u001b[0m         \u001b[0;32mif\u001b[0m \u001b[0mtime\u001b[0m \u001b[0;32mis\u001b[0m \u001b[0;32mnot\u001b[0m \u001b[0;32mFalse\u001b[0m\u001b[0;34m:\u001b[0m\u001b[0;34m\u001b[0m\u001b[0;34m\u001b[0m\u001b[0m\n\u001b[0;32m---> 38\u001b[0;31m             \u001b[0;32massert\u001b[0m \u001b[0mlen\u001b[0m\u001b[0;34m(\u001b[0m\u001b[0mwd\u001b[0m\u001b[0;34m)\u001b[0m \u001b[0;34m==\u001b[0m \u001b[0mlen\u001b[0m\u001b[0;34m(\u001b[0m\u001b[0mws\u001b[0m\u001b[0;34m)\u001b[0m\u001b[0;34m\u001b[0m\u001b[0;34m\u001b[0m\u001b[0m\n\u001b[0m\u001b[1;32m     39\u001b[0m             \u001b[0;32mif\u001b[0m \u001b[0mtime\u001b[0m \u001b[0;32mis\u001b[0m \u001b[0;32mTrue\u001b[0m\u001b[0;34m:\u001b[0m\u001b[0;34m\u001b[0m\u001b[0;34m\u001b[0m\u001b[0m\n\u001b[1;32m     40\u001b[0m                 \u001b[0mtime\u001b[0m \u001b[0;34m=\u001b[0m \u001b[0mnp\u001b[0m\u001b[0;34m.\u001b[0m\u001b[0marange\u001b[0m\u001b[0;34m(\u001b[0m\u001b[0mlen\u001b[0m\u001b[0;34m(\u001b[0m\u001b[0mwd\u001b[0m\u001b[0;34m)\u001b[0m\u001b[0;34m)\u001b[0m\u001b[0;34m\u001b[0m\u001b[0;34m\u001b[0m\u001b[0m\n",
            "\u001b[0;31mAssertionError\u001b[0m: "
          ]
        }
      ]
    },
    {
      "cell_type": "code",
      "source": [],
      "metadata": {
        "id": "NMhusIZiaCxr"
      },
      "execution_count": null,
      "outputs": []
    }
  ]
}