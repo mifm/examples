{
  "nbformat": 4,
  "nbformat_minor": 0,
  "metadata": {
    "colab": {
      "name": "WETB_fatigue.ipynb",
      "version": "0.3.2",
      "provenance": [],
      "include_colab_link": true
    },
    "kernelspec": {
      "name": "python3",
      "display_name": "Python 3"
    }
  },
  "cells": [
    {
      "cell_type": "markdown",
      "metadata": {
        "id": "view-in-github",
        "colab_type": "text"
      },
      "source": [
        "<a href=\"https://colab.research.google.com/github/mifm/examples/blob/master/WETB_fatigue.ipynb\" target=\"_parent\"><img src=\"https://colab.research.google.com/assets/colab-badge.svg\" alt=\"Open In Colab\"/></a>"
      ]
    },
    {
      "metadata": {
        "id": "rJrNLDedRXEI",
        "colab_type": "text"
      },
      "cell_type": "markdown",
      "source": [
        "#1 Install dependencies"
      ]
    },
    {
      "metadata": {
        "id": "iCGeQ_GzHPIg",
        "colab_type": "code",
        "colab": {}
      },
      "cell_type": "code",
      "source": [
        "%%capture\n",
        "!pip install setuptools_scm future h5py pytest pytest-cov nose sphinx blosc pbr paramiko # pytables"
      ],
      "execution_count": 0,
      "outputs": []
    },
    {
      "metadata": {
        "id": "uHNq04tkHac9",
        "colab_type": "code",
        "colab": {}
      },
      "cell_type": "code",
      "source": [
        "%%capture\n",
        "!pip install scipy pandas matplotlib cython xlrd coverage xlwt openpyxl psutil"
      ],
      "execution_count": 0,
      "outputs": []
    },
    {
      "metadata": {
        "id": "CPb0ZtnwRoqc",
        "colab_type": "text"
      },
      "cell_type": "markdown",
      "source": [
        "#2 Install Wind Energy Toolbox"
      ]
    },
    {
      "metadata": {
        "id": "_Qa3Zc8WOCLt",
        "colab_type": "code",
        "colab": {
          "base_uri": "https://localhost:8080/",
          "height": 34
        },
        "outputId": "ceeab60f-4706-4e9e-f944-5dba2fe0ab56"
      },
      "cell_type": "code",
      "source": [
        "!pip install wetb"
      ],
      "execution_count": 33,
      "outputs": [
        {
          "output_type": "stream",
          "text": [
            "Requirement already satisfied: wetb in /usr/local/lib/python3.6/dist-packages (0.0.12)\n"
          ],
          "name": "stdout"
        }
      ]
    },
    {
      "metadata": {
        "id": "j3ReDNlERtoX",
        "colab_type": "text"
      },
      "cell_type": "markdown",
      "source": [
        "#3 Import the fatigue module"
      ]
    },
    {
      "metadata": {
        "id": "m5cuezSjOLfx",
        "colab_type": "code",
        "colab": {}
      },
      "cell_type": "code",
      "source": [
        "import numpy as np\n",
        "import matplotlib.pyplot as plt\n",
        "from wetb.fatigue_tools.fatigue import eq_load, cycle_matrix\n",
        "from wetb.fatigue_tools.rainflowcounting import rainflowcount\n",
        "rainflow_windap = rainflowcount.rainflow_windap\n",
        "rainflow_astm = rainflowcount.rainflow_astm"
      ],
      "execution_count": 0,
      "outputs": []
    },
    {
      "metadata": {
        "id": "SWzx_I1MR0Jd",
        "colab_type": "text"
      },
      "cell_type": "markdown",
      "source": [
        "#4 Inspect the Damage Equivalent Load routine, eq_load"
      ]
    },
    {
      "metadata": {
        "id": "EK3Nqfh-R_wm",
        "colab_type": "code",
        "colab": {}
      },
      "cell_type": "code",
      "source": [
        "?eq_load"
      ],
      "execution_count": 0,
      "outputs": []
    },
    {
      "metadata": {
        "id": "_B1G1j6QSDFL",
        "colab_type": "text"
      },
      "cell_type": "markdown",
      "source": [
        "#5 Run an example with your signal"
      ]
    },
    {
      "metadata": {
        "id": "poZWMedeOkh9",
        "colab_type": "code",
        "colab": {
          "base_uri": "https://localhost:8080/",
          "height": 292
        },
        "outputId": "e2371c35-7352-4ea5-fd1e-a1571e7bcd46"
      },
      "cell_type": "code",
      "source": [
        "signal1 = np.array([-2.0, 0.0, 1.0, 0.0, -3.0, 0.0, 5.0, 0.0, -1.0, 0.0, 3.0, 0.0, -4.0, 0.0, 4.0, 0.0, -2.0])\n",
        "signal2 = signal1 * 1.1\n",
        "\n",
        "# equivalent load for default wohler slopes\n",
        "print (eq_load(signal1, no_bins=50, neq=17, rainflow_func=rainflow_windap))\n",
        "print (eq_load(signal1, no_bins=50, neq=17, rainflow_func=rainflow_astm))\n",
        "\n",
        "# Cycle matrix with 4 amplitude bins and 4 mean value bins\n",
        "print (cycle_matrix(signal1, 4, 4, rainflow_func=rainflow_windap))\n",
        "print (cycle_matrix(signal1, 4, 4, rainflow_func=rainflow_astm))\n",
        "\n",
        "# Cycle matrix where signal1 and signal2 contributes with 50% each\n",
        "print (cycle_matrix([(.5, signal1), (.5, signal2)], 4, 8, rainflow_func=rainflow_astm))\n"
      ],
      "execution_count": 36,
      "outputs": [
        {
          "output_type": "stream",
          "text": [
            "[[4.024613313976801, 4.745357541147315, 5.68897815218057, 6.276100306634951, 6.675634924670693, 6.96605474581875]]\n",
            "[[4.007339465999502, 4.721598967469384, 5.657945376160993, 6.243278863166493, 6.643912250400255, 6.936829789229306]]\n",
            "(array([[0. , 0. , 0. , 0. ],\n",
            "       [0.5, 0.5, 0. , 1. ],\n",
            "       [0. , 0. , 0. , 0.5],\n",
            "       [0. , 0.5, 0.5, 0.5]]), array([ nan, 3.66, 5.94, 8.4 ]), array([0.  , 2.25, 4.5 , 6.75, 9.  ]), array([  nan, -0.1 ,  1.04,  0.5 ]), array([-0.94 , -0.445,  0.05 ,  0.545,  1.04 ]))\n",
            "(array([[0. , 0. , 0. , 0. ],\n",
            "       [0.5, 0.5, 0. , 1. ],\n",
            "       [0. , 0. , 0. , 0.5],\n",
            "       [0. , 0. , 0.5, 1. ]]), array([       nan, 3.66666667, 6.        , 8.25      ]), array([0.  , 2.25, 4.5 , 6.75, 9.  ]), array([        nan, -0.16666667,  1.        ,  0.375     ]), array([-1. , -0.5,  0. ,  0.5,  1. ]))\n",
            "(array([[0. , 0. , 0. , 0. , 0. , 0. , 0. , 0. ],\n",
            "       [0.5, 0. , 0.5, 0. , 0. , 0. , 0. , 1. ],\n",
            "       [0. , 0. , 0. , 0. , 0. , 0. , 0. , 0.5],\n",
            "       [0. , 0. , 0. , 0. , 0.5, 0.5, 0. , 0.5]]), array([ nan, 3.85, 6.3 , 8.75]), array([0.   , 2.475, 4.95 , 7.425, 9.9  ]), array([   nan, -0.175,  1.05 ,  0.525]), array([-1.1  , -0.825, -0.55 , -0.275,  0.   ,  0.275,  0.55 ,  0.825,\n",
            "        1.1  ]))\n"
          ],
          "name": "stdout"
        }
      ]
    }
  ]
}