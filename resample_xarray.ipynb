{
  "nbformat": 4,
  "nbformat_minor": 0,
  "metadata": {
    "colab": {
      "provenance": [],
      "authorship_tag": "ABX9TyN5fYgPoH67sfOvvTZJ/QaF",
      "include_colab_link": true
    },
    "kernelspec": {
      "name": "python3",
      "display_name": "Python 3"
    },
    "language_info": {
      "name": "python"
    }
  },
  "cells": [
    {
      "cell_type": "markdown",
      "metadata": {
        "id": "view-in-github",
        "colab_type": "text"
      },
      "source": [
        "<a href=\"https://colab.research.google.com/github/mifm/examples/blob/master/resample_xarray.ipynb\" target=\"_parent\"><img src=\"https://colab.research.google.com/assets/colab-badge.svg\" alt=\"Open In Colab\"/></a>"
      ]
    },
    {
      "cell_type": "code",
      "source": [
        "# Install PyWake if needed\n",
        "try:\n",
        "    import py_wake\n",
        "except ModuleNotFoundError:\n",
        "    !pip install git+https://gitlab.windenergy.dtu.dk/TOPFARM/PyWake.git"
      ],
      "metadata": {
        "colab": {
          "base_uri": "https://localhost:8080/"
        },
        "id": "fco4rHTM1Bti",
        "outputId": "4ba6dccf-5ad9-43c8-b23a-2e7036fd0e08"
      },
      "execution_count": 1,
      "outputs": [
        {
          "output_type": "stream",
          "name": "stdout",
          "text": [
            "Looking in indexes: https://pypi.org/simple, https://us-python.pkg.dev/colab-wheels/public/simple/\n",
            "Collecting git+https://gitlab.windenergy.dtu.dk/TOPFARM/PyWake.git\n",
            "  Cloning https://gitlab.windenergy.dtu.dk/TOPFARM/PyWake.git to /tmp/pip-req-build-bph7_544\n",
            "  Running command git clone -q https://gitlab.windenergy.dtu.dk/TOPFARM/PyWake.git /tmp/pip-req-build-bph7_544\n",
            "Requirement already satisfied: matplotlib in /usr/local/lib/python3.7/dist-packages (from py-wake==2.4.0) (3.2.2)\n",
            "Requirement already satisfied: numpy in /usr/local/lib/python3.7/dist-packages (from py-wake==2.4.0) (1.21.6)\n",
            "Requirement already satisfied: xarray in /usr/local/lib/python3.7/dist-packages (from py-wake==2.4.0) (0.20.2)\n",
            "Requirement already satisfied: netcdf4 in /usr/local/lib/python3.7/dist-packages (from py-wake==2.4.0) (1.6.1)\n",
            "Collecting h5netcdf\n",
            "  Downloading h5netcdf-1.0.2-py2.py3-none-any.whl (24 kB)\n",
            "Requirement already satisfied: autograd in /usr/local/lib/python3.7/dist-packages (from py-wake==2.4.0) (1.5)\n",
            "Requirement already satisfied: pyyaml in /usr/local/lib/python3.7/dist-packages (from py-wake==2.4.0) (6.0)\n",
            "Requirement already satisfied: scipy in /usr/local/lib/python3.7/dist-packages (from py-wake==2.4.0) (1.7.3)\n",
            "Requirement already satisfied: tqdm in /usr/local/lib/python3.7/dist-packages (from py-wake==2.4.0) (4.64.1)\n",
            "Requirement already satisfied: future>=0.15.2 in /usr/local/lib/python3.7/dist-packages (from autograd->py-wake==2.4.0) (0.16.0)\n",
            "Requirement already satisfied: h5py in /usr/local/lib/python3.7/dist-packages (from h5netcdf->py-wake==2.4.0) (3.1.0)\n",
            "Requirement already satisfied: packaging in /usr/local/lib/python3.7/dist-packages (from h5netcdf->py-wake==2.4.0) (21.3)\n",
            "Requirement already satisfied: cached-property in /usr/local/lib/python3.7/dist-packages (from h5py->h5netcdf->py-wake==2.4.0) (1.5.2)\n",
            "Requirement already satisfied: kiwisolver>=1.0.1 in /usr/local/lib/python3.7/dist-packages (from matplotlib->py-wake==2.4.0) (1.4.4)\n",
            "Requirement already satisfied: python-dateutil>=2.1 in /usr/local/lib/python3.7/dist-packages (from matplotlib->py-wake==2.4.0) (2.8.2)\n",
            "Requirement already satisfied: cycler>=0.10 in /usr/local/lib/python3.7/dist-packages (from matplotlib->py-wake==2.4.0) (0.11.0)\n",
            "Requirement already satisfied: pyparsing!=2.0.4,!=2.1.2,!=2.1.6,>=2.0.1 in /usr/local/lib/python3.7/dist-packages (from matplotlib->py-wake==2.4.0) (3.0.9)\n",
            "Requirement already satisfied: typing-extensions in /usr/local/lib/python3.7/dist-packages (from kiwisolver>=1.0.1->matplotlib->py-wake==2.4.0) (4.1.1)\n",
            "Requirement already satisfied: six>=1.5 in /usr/local/lib/python3.7/dist-packages (from python-dateutil>=2.1->matplotlib->py-wake==2.4.0) (1.15.0)\n",
            "Requirement already satisfied: cftime in /usr/local/lib/python3.7/dist-packages (from netcdf4->py-wake==2.4.0) (1.6.2)\n",
            "Requirement already satisfied: importlib-metadata in /usr/local/lib/python3.7/dist-packages (from xarray->py-wake==2.4.0) (4.13.0)\n",
            "Requirement already satisfied: pandas>=1.1 in /usr/local/lib/python3.7/dist-packages (from xarray->py-wake==2.4.0) (1.3.5)\n",
            "Requirement already satisfied: pytz>=2017.3 in /usr/local/lib/python3.7/dist-packages (from pandas>=1.1->xarray->py-wake==2.4.0) (2022.5)\n",
            "Requirement already satisfied: zipp>=0.5 in /usr/local/lib/python3.7/dist-packages (from importlib-metadata->xarray->py-wake==2.4.0) (3.10.0)\n",
            "Building wheels for collected packages: py-wake\n",
            "  Building wheel for py-wake (setup.py) ... \u001b[?25l\u001b[?25hdone\n",
            "  Created wheel for py-wake: filename=py_wake-2.4.0-py3-none-any.whl size=24811214 sha256=54c05fce5cc8a61ee95175272e8cadbedb04f8b0f7ae264753c73f73870de52c\n",
            "  Stored in directory: /tmp/pip-ephem-wheel-cache-d9w92ia0/wheels/fb/b1/5a/9b9114aac7776bf9de40facb8a0f958449e0a2082c955ca29e\n",
            "Successfully built py-wake\n",
            "Installing collected packages: h5netcdf, py-wake\n",
            "Successfully installed h5netcdf-1.0.2 py-wake-2.4.0\n"
          ]
        }
      ]
    },
    {
      "cell_type": "code",
      "execution_count": 3,
      "metadata": {
        "colab": {
          "base_uri": "https://localhost:8080/",
          "height": 283
        },
        "id": "QgEQa7So0-IU",
        "outputId": "cc8d426b-da06-4c01-fead-d5da33519da9"
      },
      "outputs": [
        {
          "output_type": "execute_result",
          "data": {
            "text/plain": [
              "[<matplotlib.lines.Line2D at 0x7f62146eaf90>]"
            ]
          },
          "metadata": {},
          "execution_count": 3
        },
        {
          "output_type": "display_data",
          "data": {
            "text/plain": [
              "<Figure size 432x288 with 1 Axes>"
            ],
            "image/png": "[encoded data removed]"
          },
          "metadata": {
            "needs_background": "light"
          }
        }
      ],
      "source": [
        "from py_wake.examples.data.ParqueFicticio._parque_ficticio import ParqueFicticioSite\n",
        "import numpy as np\n",
        "site = ParqueFicticioSite()\n",
        "site_16_ds = site.ds\n",
        "site_360_ds = site_16_ds.interp(wd=np.arange(360), method='cubic')\n",
        "\n",
        "import matplotlib.pyplot as plt\n",
        "plt.figure()\n",
        "plt.plot(site_16_ds.wd, site_16_ds.Turning[0,0,0,:], marker='x', label='16')\n",
        "plt.plot(site_360_ds.wd, site_360_ds.Turning[0,0,0,:], marker='+', label='360')"
      ]
    },
    {
      "cell_type": "code",
      "source": [],
      "metadata": {
        "id": "5OORNvdf1VhT"
      },
      "execution_count": null,
      "outputs": []
    }
  ]
}