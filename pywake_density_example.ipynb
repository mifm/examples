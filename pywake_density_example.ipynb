{
  "nbformat": 4,
  "nbformat_minor": 0,
  "metadata": {
    "colab": {
      "name": "pywake_density_example.ipynb",
      "provenance": [],
      "authorship_tag": "ABX9TyO7XTKPZ02xNCzl+MRM/yNY",
      "include_colab_link": true
    },
    "kernelspec": {
      "name": "python3",
      "display_name": "Python 3"
    },
    "language_info": {
      "name": "python"
    }
  },
  "cells": [
    {
      "cell_type": "markdown",
      "metadata": {
        "id": "view-in-github",
        "colab_type": "text"
      },
      "source": [
        "<a href=\"https://colab.research.google.com/github/mifm/examples/blob/master/pywake_density_example.ipynb\" target=\"_parent\"><img src=\"https://colab.research.google.com/assets/colab-badge.svg\" alt=\"Open In Colab\"/></a>"
      ]
    },
    {
      "cell_type": "code",
      "metadata": {
        "id": "a0lLTpyEjpsA"
      },
      "source": [
        "%%capture\n",
        "!pip install py_wake"
      ],
      "execution_count": null,
      "outputs": []
    },
    {
      "cell_type": "code",
      "metadata": {
        "colab": {
          "base_uri": "https://localhost:8080/",
          "height": 276
        },
        "id": "o7NLbxLRjtzB",
        "outputId": "de0f09de-1219-48a0-ff8f-6d291a11e295"
      },
      "source": [
        "from py_wake.wind_turbines._wind_turbines import WindTurbine\n",
        "import matplotlib.pyplot as plt\n",
        "from py_wake.wind_turbines.power_ct_functions import SimpleYawModel, CubePowerSimpleCt, DensityScale\n",
        "import numpy as np\n",
        "\n",
        "wts = WindTurbine(name='tb1',\n",
        "                   diameter=80,\n",
        "                   hub_height=70,\n",
        "                   powerCtFunction=\n",
        "                       CubePowerSimpleCt(ws_cutin=3, ws_cutout=25, ws_rated=12,\n",
        "                                         power_rated=2000, power_unit='kW',\n",
        "                                         ct=8 / 9, additional_models = [SimpleYawModel(), DensityScale(1.225)]))\n",
        "\n",
        "\n",
        "ws = np.arange(25)\n",
        "plt.figure()\n",
        "plt.plot(ws, wts.power(ws, Air_density=0.9), label='dens 0.9')\n",
        "plt.plot(ws, wts.power(ws, Air_density=1.4), label='dens 1.4')\n",
        "plt.legend()\n",
        "plt.show()\n"
      ],
      "execution_count": 2,
      "outputs": [
        {
          "output_type": "display_data",
          "data": {
            "image/png": "[encoded data removed]",
            "text/plain": [
              "<Figure size 432x288 with 1 Axes>"
            ]
          },
          "metadata": {
            "tags": [],
            "needs_background": "light"
          }
        }
      ]
    },
    {
      "cell_type": "code",
      "metadata": {
        "id": "dHL31FZPjvPp"
      },
      "source": [
        ""
      ],
      "execution_count": null,
      "outputs": []
    }
  ]
}