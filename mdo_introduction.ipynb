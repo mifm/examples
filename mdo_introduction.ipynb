{
  "nbformat": 4,
  "nbformat_minor": 0,
  "metadata": {
    "colab": {
      "provenance": [],
      "authorship_tag": "ABX9TyOb1GVSUd/WcayoLPqNu74/",
      "include_colab_link": true
    },
    "kernelspec": {
      "name": "python3",
      "display_name": "Python 3"
    },
    "language_info": {
      "name": "python"
    }
  },
  "cells": [
    {
      "cell_type": "markdown",
      "metadata": {
        "id": "view-in-github",
        "colab_type": "text"
      },
      "source": [
        "<a href=\"https://colab.research.google.com/github/mifm/examples/blob/master/mdo_introduction.ipynb\" target=\"_parent\"><img src=\"https://colab.research.google.com/assets/colab-badge.svg\" alt=\"Open In Colab\"/></a>"
      ]
    },
    {
      "cell_type": "markdown",
      "source": [
        "#Module 6 18-Mar-25 outline"
      ],
      "metadata": {
        "id": "XfXTNB0rJf1V"
      }
    },
    {
      "cell_type": "markdown",
      "source": [],
      "metadata": {
        "id": "JTqX6LUERkeS"
      }
    },
    {
      "cell_type": "markdown",
      "source": [
        "## Multi Disciplinary Analysis and Optimization (MDO / MDAO)"
      ],
      "metadata": {
        "id": "M5zdvcJ9sm4c"
      }
    },
    {
      "cell_type": "markdown",
      "source": [
        "\n",
        "\n",
        "*   Decomposition of models\n",
        "*   Coupling of models\n",
        "*   Solving and optimizing\n",
        "*   Working with gradients\n",
        "\n"
      ],
      "metadata": {
        "id": "SM7izFAzs6sh"
      }
    },
    {
      "cell_type": "markdown",
      "source": [
        "### OpenMDAO\n",
        "The following examples can be found here: https://openmdao.org/newdocs/versions/latest/basic_user_guide/basic_user_guide.html"
      ],
      "metadata": {
        "id": "458RMxXxuX0S"
      }
    },
    {
      "cell_type": "markdown",
      "source": [
        "1. [First Analysis](https://colab.research.google.com/github/OpenMDAO/OpenMDAO/blob/ecfeaa85f3b0be3375fa6e917d09ae220491c101/openmdao/docs/openmdao_book/basic_user_guide/single_disciplinary_optimization/first_analysis.ipynb#scrollTo=9PQv7ON991My)\n",
        "\n",
        "2. [First Optimization](https://colab.research.google.com/github/OpenMDAO/OpenMDAO/blob/ecfeaa85f3b0be3375fa6e917d09ae220491c101/openmdao/docs/openmdao_book/basic_user_guide/single_disciplinary_optimization/first_optimization.ipynb)\n",
        "\n",
        "3. [Sellar](https://colab.research.google.com/github/OpenMDAO/OpenMDAO/blob/ecfeaa85f3b0be3375fa6e917d09ae220491c101/openmdao/docs/openmdao_book/basic_user_guide/multidisciplinary_optimization/sellar.ipynb)\n",
        "\n",
        "4. [Linking](https://colab.research.google.com/github/mifm/examples/blob/master/linking_vars.ipynb)\n",
        "\n",
        "5. [Sellar Optimization](https://colab.research.google.com/github/mifm/examples/blob/master/sellar_opt.ipynb)\n",
        "\n",
        "6. [Visualization](https://colab.research.google.com/github/mifm/examples/blob/master/make_n2.ipynb)"
      ],
      "metadata": {
        "id": "79ZeHOnatmoh"
      }
    },
    {
      "cell_type": "markdown",
      "source": [
        "## Topfarm\n",
        "\n",
        "Build on top of OpenMDAO and tailored for Wind Energy Optimization:\n",
        "\n",
        "7. [Basic Examples](https://topfarm.pages.windenergy.dtu.dk/TopFarm2/basic_examples.html)\n",
        "\n",
        "8. [Advanced Examples](https://topfarm.pages.windenergy.dtu.dk/TopFarm2/advanced_examples.html)"
      ],
      "metadata": {
        "id": "xWW-7_otCsfv"
      }
    },
    {
      "cell_type": "markdown",
      "source": [
        "## Assignment for next week:\n",
        "Modify this example: https://topfarm.pages.windenergy.dtu.dk/TopFarm2/notebooks/cables.html by done one or more of the following:\n",
        "- Add an additional model\n",
        "- Update the bathymetry and boundaries by downloading the seabed and wind farm boundaries for your wind farm of choice e.g. from https://sea-impact.com/offshore-wind-map/, https://map.4coffshore.com/offshorewind/, https://emodnet.ec.europa.eu/geoviewer/, https://map.neweuropeanwindatlas.eu/\n",
        "- Update the site, turbines and wakemodeling to be representative of an actual wind farm of choice.\n",
        "- Benchmark different drivers on the problem\n",
        "- Your own idea of a study\n"
      ],
      "metadata": {
        "id": "RcZLKbMYJp6d"
      }
    },
    {
      "cell_type": "markdown",
      "source": [
        "## Groups:\n",
        "1. Deniz and Mariel, Real wind farm\n",
        "2. Alain, Anton, Real wind farm\n",
        "3. Jorge, Inaki, Sofia, Xavi, Updated turbine, site and wake modelling\n",
        "4. Niall, Teodor, Frederik, Benchmarking optimziers"
      ],
      "metadata": {
        "id": "oLrTAmV10hFG"
      }
    },
    {
      "cell_type": "code",
      "source": [],
      "metadata": {
        "id": "MIw_yZGhK9AE"
      },
      "execution_count": null,
      "outputs": []
    }
  ]
}