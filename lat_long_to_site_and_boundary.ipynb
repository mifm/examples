{
  "nbformat": 4,
  "nbformat_minor": 0,
  "metadata": {
    "colab": {
      "name": "lat_long_to_site_and_boundary.ipynb",
      "provenance": [],
      "authorship_tag": "ABX9TyMDysdBJQ8DBWqvJSawc1ym",
      "include_colab_link": true
    },
    "kernelspec": {
      "name": "python3",
      "display_name": "Python 3"
    },
    "language_info": {
      "name": "python"
    }
  },
  "cells": [
    {
      "cell_type": "markdown",
      "metadata": {
        "id": "view-in-github",
        "colab_type": "text"
      },
      "source": [
        "<a href=\"https://colab.research.google.com/github/mifm/examples/blob/master/lat_long_to_site_and_boundary.ipynb\" target=\"_parent\"><img src=\"https://colab.research.google.com/assets/colab-badge.svg\" alt=\"Open In Colab\"/></a>"
      ]
    },
    {
      "cell_type": "code",
      "metadata": {
        "id": "Ega5fhjMACGb"
      },
      "source": [
        "%%capture\n",
        "!pip install git+https://gitlab.windenergy.dtu.dk/TOPFARM/PyWake.git\n",
        "!pip install utm"
      ],
      "execution_count": 36,
      "outputs": []
    },
    {
      "cell_type": "code",
      "metadata": {
        "id": "Ap4fvDjZEdzj"
      },
      "source": [
        "from py_wake.site.xrsite import GlobalWindAtlasSite\n",
        "from py_wake.examples.data.hornsrev1 import wt_x, wt_y\n",
        "import utm\n",
        "import numpy as np\n",
        "from scipy.spatial import ConvexHull\n",
        "import yaml\n",
        "from pathlib import Path"
      ],
      "execution_count": 54,
      "outputs": []
    },
    {
      "cell_type": "code",
      "metadata": {
        "id": "5v07L6c-GYMC"
      },
      "source": [
        "easting = np.asarray(wt_x)\n",
        "northing = np.asarray(wt_y)\n",
        "lat, long = utm.to_latlon(easting, northing, 32, zone_letter='U')"
      ],
      "execution_count": 48,
      "outputs": []
    },
    {
      "cell_type": "code",
      "metadata": {
        "id": "tBzKUrSzAKpw"
      },
      "source": [
        "latm, longm = lat.mean(), long.mean()\n",
        "site = GlobalWindAtlasSite(latm, longm, height=70, roughness=0.001, ti=0.075)"
      ],
      "execution_count": 49,
      "outputs": []
    },
    {
      "cell_type": "code",
      "metadata": {
        "id": "TC71fS-kEqPh"
      },
      "source": [
        "x, y, _, _ = utm.from_latlon(lat, long)\n",
        "init_pos = np.asarray([x, y]).T\n",
        "site.initial_position = init_pos\n",
        "hull = ConvexHull(list(init_pos))"
      ],
      "execution_count": 50,
      "outputs": []
    },
    {
      "cell_type": "markdown",
      "metadata": {
        "id": "hWG4HqeTfvqA"
      },
      "source": [
        "Save in ontology format"
      ]
    },
    {
      "cell_type": "code",
      "metadata": {
        "id": "z_WxBAmdfx5P"
      },
      "source": [
        "name = 'Horns Rev Boundary'\n",
        "yml = yaml.dump({'name': name, 'polygons': [{'x': init_pos.T[0][hull.vertices].tolist(),\n",
        "                                              'y': init_pos.T[1][hull.vertices].tolist(),\n",
        "                                              }]}, default_flow_style=False,)\n",
        "filename='Horns Rev Boundary.yaml'\n",
        "# Path(filename).write_text(yml)"
      ],
      "execution_count": 55,
      "outputs": []
    }
  ]
}