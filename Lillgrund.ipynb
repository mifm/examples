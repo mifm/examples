{
  "nbformat": 4,
  "nbformat_minor": 0,
  "metadata": {
    "colab": {
      "name": "Lillgrund.ipynb",
      "provenance": [],
      "authorship_tag": "ABX9TyMbCSWNnWSdsChLJLa8JXPk",
      "include_colab_link": true
    },
    "kernelspec": {
      "name": "python3",
      "display_name": "Python 3"
    },
    "language_info": {
      "name": "python"
    }
  },
  "cells": [
    {
      "cell_type": "markdown",
      "metadata": {
        "id": "view-in-github",
        "colab_type": "text"
      },
      "source": [
        "<a href=\"https://colab.research.google.com/github/mifm/examples/blob/master/Lillgrund.ipynb\" target=\"_parent\"><img src=\"https://colab.research.google.com/assets/colab-badge.svg\" alt=\"Open In Colab\"/></a>"
      ]
    },
    {
      "cell_type": "code",
      "execution_count": 1,
      "metadata": {
        "id": "6gP3S33Qe5xv"
      },
      "outputs": [],
      "source": [
        "%%capture\n",
        "!pip install git+https://gitlab.windenergy.dtu.dk/TOPFARM/PyWake.git"
      ]
    },
    {
      "cell_type": "code",
      "source": [
        "from py_wake.deficit_models.gaussian import BastankhahGaussian\n",
        "from py_wake.examples.data.lillgrund import wt_x, wt_y, LillgrundSite, LillgrundSWT23"
      ],
      "metadata": {
        "id": "JA33BVIee-h8"
      },
      "execution_count": 6,
      "outputs": []
    },
    {
      "cell_type": "code",
      "source": [
        "site = LillgrundSite()\n",
        "wind_turbines = LillgrundSWT23() \n",
        "wf_model = BastankhahGaussian(site, wind_turbines)\n",
        "sim_res = wf_model(wt_x, wt_y)\n",
        "print(f'Nominal AEP: {float(sim_res.aep().sum()):.1f} GWh')"
      ],
      "metadata": {
        "colab": {
          "base_uri": "https://localhost:8080/"
        },
        "id": "PGcKLElefOHn",
        "outputId": "9e449732-a230-4d6f-a0a4-99446f909cbb"
      },
      "execution_count": 7,
      "outputs": [
        {
          "output_type": "stream",
          "name": "stdout",
          "text": [
            "Nominal AEP: 317.3 GWh\n"
          ]
        }
      ]
    },
    {
      "cell_type": "code",
      "source": [
        ""
      ],
      "metadata": {
        "id": "6PRGfD4dfUc0"
      },
      "execution_count": null,
      "outputs": []
    }
  ]
}