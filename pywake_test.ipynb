{
  "nbformat": 4,
  "nbformat_minor": 0,
  "metadata": {
    "colab": {
      "provenance": [],
      "authorship_tag": "ABX9TyOpG3xulTfd/R8JZg5aqUWo",
      "include_colab_link": true
    },
    "kernelspec": {
      "name": "python3",
      "display_name": "Python 3"
    },
    "language_info": {
      "name": "python"
    }
  },
  "cells": [
    {
      "cell_type": "markdown",
      "metadata": {
        "id": "view-in-github",
        "colab_type": "text"
      },
      "source": [
        "<a href=\"https://colab.research.google.com/github/mifm/examples/blob/master/pywake_test.ipynb\" target=\"_parent\"><img src=\"https://colab.research.google.com/assets/colab-badge.svg\" alt=\"Open In Colab\"/></a>"
      ]
    },
    {
      "cell_type": "code",
      "execution_count": 3,
      "metadata": {
        "id": "hVHB4qJhvPid"
      },
      "outputs": [],
      "source": [
        "%%capture\n",
        "# Install PyWake if needed\n",
        "try:\n",
        "    import py_wake\n",
        "except ModuleNotFoundError:\n",
        "    !pip install py_wake\n",
        "  "
      ]
    },
    {
      "cell_type": "code",
      "source": [
        "from py_wake.wind_turbines.power_ct_functions import PowerCtTabular\n",
        "from py_wake.wind_turbines._wind_turbines import WindTurbine\n",
        "from py_wake.site.xrsite import GlobalWindAtlasSite"
      ],
      "metadata": {
        "id": "dcFiYQQXvR0V"
      },
      "execution_count": 11,
      "outputs": []
    },
    {
      "cell_type": "code",
      "source": [],
      "metadata": {
        "id": "sbMjzThbvgQt"
      },
      "execution_count": null,
      "outputs": []
    },
    {
      "cell_type": "code",
      "source": [],
      "metadata": {
        "id": "CmBO1t9AvYcE"
      },
      "execution_count": null,
      "outputs": []
    }
  ]
}