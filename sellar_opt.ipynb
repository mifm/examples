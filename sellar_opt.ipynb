{
  "cells": [
    {
      "cell_type": "markdown",
      "metadata": {
        "id": "view-in-github",
        "colab_type": "text"
      },
      "source": [
        "<a href=\"https://colab.research.google.com/github/mifm/examples/blob/master/sellar_opt.ipynb\" target=\"_parent\"><img src=\"https://colab.research.google.com/assets/colab-badge.svg\" alt=\"Open In Colab\"/></a>"
      ]
    },
    {
      "cell_type": "code",
      "execution_count": null,
      "metadata": {
        "tags": [
          "remove-input",
          "active-ipynb",
          "remove-output"
        ],
        "colab": {
          "base_uri": "https://localhost:8080/"
        },
        "id": "V8dLBjJB0exX",
        "outputId": "1c9af602-6b0b-48ef-b9f9-49194b1ef001"
      },
      "outputs": [
        {
          "output_type": "stream",
          "name": "stdout",
          "text": [
            "Collecting openmdao[notebooks]\n",
            "  Downloading openmdao-3.38.0.tar.gz (12.6 MB)\n",
            "\u001b[2K     \u001b[90m━━━━━━━━━━━━━━━━━━━━━━━━━━━━━━━━━━━━━━━━\u001b[0m \u001b[32m12.6/12.6 MB\u001b[0m \u001b[31m26.6 MB/s\u001b[0m eta \u001b[36m0:00:00\u001b[0m\n",
            "\u001b[?25h  Installing build dependencies ... \u001b[?25l\u001b[?25hdone\n",
            "  Getting requirements to build wheel ... \u001b[?25l\u001b[?25hdone\n",
            "  Preparing metadata (pyproject.toml) ... \u001b[?25l\u001b[?25hdone\n",
            "Requirement already satisfied: networkx>=2.0 in /usr/local/lib/python3.11/dist-packages (from openmdao[notebooks]) (3.4.2)\n",
            "Requirement already satisfied: numpy in /usr/local/lib/python3.11/dist-packages (from openmdao[notebooks]) (1.26.4)\n",
            "Requirement already satisfied: packaging in /usr/local/lib/python3.11/dist-packages (from openmdao[notebooks]) (24.2)\n",
            "Requirement already satisfied: requests in /usr/local/lib/python3.11/dist-packages (from openmdao[notebooks]) (2.32.3)\n",
            "Requirement already satisfied: scipy in /usr/local/lib/python3.11/dist-packages (from openmdao[notebooks]) (1.14.1)\n",
            "Requirement already satisfied: idna>=3.7 in /usr/local/lib/python3.11/dist-packages (from openmdao[notebooks]) (3.10)\n",
            "Collecting ipympl (from openmdao[notebooks])\n",
            "  Downloading ipympl-0.9.7-py3-none-any.whl.metadata (8.7 kB)\n",
            "Requirement already satisfied: notebook in /usr/local/lib/python3.11/dist-packages (from openmdao[notebooks]) (6.5.5)\n",
            "Requirement already satisfied: ipython<10 in /usr/local/lib/python3.11/dist-packages (from ipympl->openmdao[notebooks]) (7.34.0)\n",
            "Requirement already satisfied: ipywidgets<9,>=7.6.0 in /usr/local/lib/python3.11/dist-packages (from ipympl->openmdao[notebooks]) (7.7.1)\n",
            "Requirement already satisfied: matplotlib<4,>=3.5.0 in /usr/local/lib/python3.11/dist-packages (from ipympl->openmdao[notebooks]) (3.10.0)\n",
            "Requirement already satisfied: pillow in /usr/local/lib/python3.11/dist-packages (from ipympl->openmdao[notebooks]) (11.1.0)\n",
            "Requirement already satisfied: traitlets<6 in /usr/local/lib/python3.11/dist-packages (from ipympl->openmdao[notebooks]) (5.7.1)\n",
            "Requirement already satisfied: jinja2 in /usr/local/lib/python3.11/dist-packages (from notebook->openmdao[notebooks]) (3.1.6)\n",
            "Requirement already satisfied: tornado>=6.1 in /usr/local/lib/python3.11/dist-packages (from notebook->openmdao[notebooks]) (6.4.2)\n",
            "Requirement already satisfied: pyzmq<25,>=17 in /usr/local/lib/python3.11/dist-packages (from notebook->openmdao[notebooks]) (24.0.1)\n",
            "Requirement already satisfied: argon2-cffi in /usr/local/lib/python3.11/dist-packages (from notebook->openmdao[notebooks]) (23.1.0)\n",
            "Requirement already satisfied: jupyter-core>=4.6.1 in /usr/local/lib/python3.11/dist-packages (from notebook->openmdao[notebooks]) (5.7.2)\n",
            "Requirement already satisfied: jupyter-client<8,>=5.3.4 in /usr/local/lib/python3.11/dist-packages (from notebook->openmdao[notebooks]) (6.1.12)\n",
            "Requirement already satisfied: ipython-genutils in /usr/local/lib/python3.11/dist-packages (from notebook->openmdao[notebooks]) (0.2.0)\n",
            "Requirement already satisfied: nbformat in /usr/local/lib/python3.11/dist-packages (from notebook->openmdao[notebooks]) (5.10.4)\n",
            "Requirement already satisfied: nbconvert>=5 in /usr/local/lib/python3.11/dist-packages (from notebook->openmdao[notebooks]) (7.16.6)\n",
            "Requirement already satisfied: nest-asyncio>=1.5 in /usr/local/lib/python3.11/dist-packages (from notebook->openmdao[notebooks]) (1.6.0)\n",
            "Requirement already satisfied: ipykernel in /usr/local/lib/python3.11/dist-packages (from notebook->openmdao[notebooks]) (6.17.1)\n",
            "Requirement already satisfied: Send2Trash>=1.8.0 in /usr/local/lib/python3.11/dist-packages (from notebook->openmdao[notebooks]) (1.8.3)\n",
            "Requirement already satisfied: terminado>=0.8.3 in /usr/local/lib/python3.11/dist-packages (from notebook->openmdao[notebooks]) (0.18.1)\n",
            "Requirement already satisfied: prometheus-client in /usr/local/lib/python3.11/dist-packages (from notebook->openmdao[notebooks]) (0.21.1)\n",
            "Requirement already satisfied: nbclassic>=0.4.7 in /usr/local/lib/python3.11/dist-packages (from notebook->openmdao[notebooks]) (1.2.0)\n",
            "Requirement already satisfied: charset-normalizer<4,>=2 in /usr/local/lib/python3.11/dist-packages (from requests->openmdao[notebooks]) (3.4.1)\n",
            "Requirement already satisfied: urllib3<3,>=1.21.1 in /usr/local/lib/python3.11/dist-packages (from requests->openmdao[notebooks]) (2.3.0)\n",
            "Requirement already satisfied: certifi>=2017.4.17 in /usr/local/lib/python3.11/dist-packages (from requests->openmdao[notebooks]) (2025.1.31)\n",
            "Requirement already satisfied: setuptools>=18.5 in /usr/local/lib/python3.11/dist-packages (from ipython<10->ipympl->openmdao[notebooks]) (75.1.0)\n",
            "Collecting jedi>=0.16 (from ipython<10->ipympl->openmdao[notebooks])\n",
            "  Downloading jedi-0.19.2-py2.py3-none-any.whl.metadata (22 kB)\n",
            "Requirement already satisfied: decorator in /usr/local/lib/python3.11/dist-packages (from ipython<10->ipympl->openmdao[notebooks]) (4.4.2)\n",
            "Requirement already satisfied: pickleshare in /usr/local/lib/python3.11/dist-packages (from ipython<10->ipympl->openmdao[notebooks]) (0.7.5)\n",
            "Requirement already satisfied: prompt-toolkit!=3.0.0,!=3.0.1,<3.1.0,>=2.0.0 in /usr/local/lib/python3.11/dist-packages (from ipython<10->ipympl->openmdao[notebooks]) (3.0.50)\n",
            "Requirement already satisfied: pygments in /usr/local/lib/python3.11/dist-packages (from ipython<10->ipympl->openmdao[notebooks]) (2.18.0)\n",
            "Requirement already satisfied: backcall in /usr/local/lib/python3.11/dist-packages (from ipython<10->ipympl->openmdao[notebooks]) (0.2.0)\n",
            "Requirement already satisfied: matplotlib-inline in /usr/local/lib/python3.11/dist-packages (from ipython<10->ipympl->openmdao[notebooks]) (0.1.7)\n",
            "Requirement already satisfied: pexpect>4.3 in /usr/local/lib/python3.11/dist-packages (from ipython<10->ipympl->openmdao[notebooks]) (4.9.0)\n",
            "Requirement already satisfied: widgetsnbextension~=3.6.0 in /usr/local/lib/python3.11/dist-packages (from ipywidgets<9,>=7.6.0->ipympl->openmdao[notebooks]) (3.6.10)\n",
            "Requirement already satisfied: jupyterlab-widgets>=1.0.0 in /usr/local/lib/python3.11/dist-packages (from ipywidgets<9,>=7.6.0->ipympl->openmdao[notebooks]) (3.0.13)\n",
            "Requirement already satisfied: debugpy>=1.0 in /usr/local/lib/python3.11/dist-packages (from ipykernel->notebook->openmdao[notebooks]) (1.8.0)\n",
            "Requirement already satisfied: psutil in /usr/local/lib/python3.11/dist-packages (from ipykernel->notebook->openmdao[notebooks]) (5.9.5)\n",
            "Requirement already satisfied: python-dateutil>=2.1 in /usr/local/lib/python3.11/dist-packages (from jupyter-client<8,>=5.3.4->notebook->openmdao[notebooks]) (2.8.2)\n",
            "Requirement already satisfied: platformdirs>=2.5 in /usr/local/lib/python3.11/dist-packages (from jupyter-core>=4.6.1->notebook->openmdao[notebooks]) (4.3.6)\n",
            "Requirement already satisfied: contourpy>=1.0.1 in /usr/local/lib/python3.11/dist-packages (from matplotlib<4,>=3.5.0->ipympl->openmdao[notebooks]) (1.3.1)\n",
            "Requirement already satisfied: cycler>=0.10 in /usr/local/lib/python3.11/dist-packages (from matplotlib<4,>=3.5.0->ipympl->openmdao[notebooks]) (0.12.1)\n",
            "Requirement already satisfied: fonttools>=4.22.0 in /usr/local/lib/python3.11/dist-packages (from matplotlib<4,>=3.5.0->ipympl->openmdao[notebooks]) (4.56.0)\n",
            "Requirement already satisfied: kiwisolver>=1.3.1 in /usr/local/lib/python3.11/dist-packages (from matplotlib<4,>=3.5.0->ipympl->openmdao[notebooks]) (1.4.8)\n",
            "Requirement already satisfied: pyparsing>=2.3.1 in /usr/local/lib/python3.11/dist-packages (from matplotlib<4,>=3.5.0->ipympl->openmdao[notebooks]) (3.2.1)\n",
            "Requirement already satisfied: notebook-shim>=0.2.3 in /usr/local/lib/python3.11/dist-packages (from nbclassic>=0.4.7->notebook->openmdao[notebooks]) (0.2.4)\n",
            "Requirement already satisfied: beautifulsoup4 in /usr/local/lib/python3.11/dist-packages (from nbconvert>=5->notebook->openmdao[notebooks]) (4.13.3)\n",
            "Requirement already satisfied: bleach!=5.0.0 in /usr/local/lib/python3.11/dist-packages (from bleach[css]!=5.0.0->nbconvert>=5->notebook->openmdao[notebooks]) (6.2.0)\n",
            "Requirement already satisfied: defusedxml in /usr/local/lib/python3.11/dist-packages (from nbconvert>=5->notebook->openmdao[notebooks]) (0.7.1)\n",
            "Requirement already satisfied: jupyterlab-pygments in /usr/local/lib/python3.11/dist-packages (from nbconvert>=5->notebook->openmdao[notebooks]) (0.3.0)\n",
            "Requirement already satisfied: markupsafe>=2.0 in /usr/local/lib/python3.11/dist-packages (from nbconvert>=5->notebook->openmdao[notebooks]) (3.0.2)\n",
            "Requirement already satisfied: mistune<4,>=2.0.3 in /usr/local/lib/python3.11/dist-packages (from nbconvert>=5->notebook->openmdao[notebooks]) (3.1.2)\n",
            "Requirement already satisfied: nbclient>=0.5.0 in /usr/local/lib/python3.11/dist-packages (from nbconvert>=5->notebook->openmdao[notebooks]) (0.10.2)\n",
            "Requirement already satisfied: pandocfilters>=1.4.1 in /usr/local/lib/python3.11/dist-packages (from nbconvert>=5->notebook->openmdao[notebooks]) (1.5.1)\n",
            "Requirement already satisfied: fastjsonschema>=2.15 in /usr/local/lib/python3.11/dist-packages (from nbformat->notebook->openmdao[notebooks]) (2.21.1)\n",
            "Requirement already satisfied: jsonschema>=2.6 in /usr/local/lib/python3.11/dist-packages (from nbformat->notebook->openmdao[notebooks]) (4.23.0)\n",
            "Requirement already satisfied: ptyprocess in /usr/local/lib/python3.11/dist-packages (from terminado>=0.8.3->notebook->openmdao[notebooks]) (0.7.0)\n",
            "Requirement already satisfied: argon2-cffi-bindings in /usr/local/lib/python3.11/dist-packages (from argon2-cffi->notebook->openmdao[notebooks]) (21.2.0)\n",
            "Requirement already satisfied: webencodings in /usr/local/lib/python3.11/dist-packages (from bleach!=5.0.0->bleach[css]!=5.0.0->nbconvert>=5->notebook->openmdao[notebooks]) (0.5.1)\n",
            "Requirement already satisfied: tinycss2<1.5,>=1.1.0 in /usr/local/lib/python3.11/dist-packages (from bleach[css]!=5.0.0->nbconvert>=5->notebook->openmdao[notebooks]) (1.4.0)\n",
            "Requirement already satisfied: parso<0.9.0,>=0.8.4 in /usr/local/lib/python3.11/dist-packages (from jedi>=0.16->ipython<10->ipympl->openmdao[notebooks]) (0.8.4)\n",
            "Requirement already satisfied: attrs>=22.2.0 in /usr/local/lib/python3.11/dist-packages (from jsonschema>=2.6->nbformat->notebook->openmdao[notebooks]) (25.2.0)\n",
            "Requirement already satisfied: jsonschema-specifications>=2023.03.6 in /usr/local/lib/python3.11/dist-packages (from jsonschema>=2.6->nbformat->notebook->openmdao[notebooks]) (2024.10.1)\n",
            "Requirement already satisfied: referencing>=0.28.4 in /usr/local/lib/python3.11/dist-packages (from jsonschema>=2.6->nbformat->notebook->openmdao[notebooks]) (0.36.2)\n",
            "Requirement already satisfied: rpds-py>=0.7.1 in /usr/local/lib/python3.11/dist-packages (from jsonschema>=2.6->nbformat->notebook->openmdao[notebooks]) (0.23.1)\n",
            "Requirement already satisfied: jupyter-server<3,>=1.8 in /usr/local/lib/python3.11/dist-packages (from notebook-shim>=0.2.3->nbclassic>=0.4.7->notebook->openmdao[notebooks]) (1.24.0)\n",
            "Requirement already satisfied: wcwidth in /usr/local/lib/python3.11/dist-packages (from prompt-toolkit!=3.0.0,!=3.0.1,<3.1.0,>=2.0.0->ipython<10->ipympl->openmdao[notebooks]) (0.2.13)\n",
            "Requirement already satisfied: six>=1.5 in /usr/local/lib/python3.11/dist-packages (from python-dateutil>=2.1->jupyter-client<8,>=5.3.4->notebook->openmdao[notebooks]) (1.17.0)\n",
            "Requirement already satisfied: cffi>=1.0.1 in /usr/local/lib/python3.11/dist-packages (from argon2-cffi-bindings->argon2-cffi->notebook->openmdao[notebooks]) (1.17.1)\n",
            "Requirement already satisfied: soupsieve>1.2 in /usr/local/lib/python3.11/dist-packages (from beautifulsoup4->nbconvert>=5->notebook->openmdao[notebooks]) (2.6)\n",
            "Requirement already satisfied: typing-extensions>=4.0.0 in /usr/local/lib/python3.11/dist-packages (from beautifulsoup4->nbconvert>=5->notebook->openmdao[notebooks]) (4.12.2)\n",
            "Requirement already satisfied: pycparser in /usr/local/lib/python3.11/dist-packages (from cffi>=1.0.1->argon2-cffi-bindings->argon2-cffi->notebook->openmdao[notebooks]) (2.22)\n",
            "Requirement already satisfied: anyio<4,>=3.1.0 in /usr/local/lib/python3.11/dist-packages (from jupyter-server<3,>=1.8->notebook-shim>=0.2.3->nbclassic>=0.4.7->notebook->openmdao[notebooks]) (3.7.1)\n",
            "Requirement already satisfied: websocket-client in /usr/local/lib/python3.11/dist-packages (from jupyter-server<3,>=1.8->notebook-shim>=0.2.3->nbclassic>=0.4.7->notebook->openmdao[notebooks]) (1.8.0)\n",
            "Requirement already satisfied: sniffio>=1.1 in /usr/local/lib/python3.11/dist-packages (from anyio<4,>=3.1.0->jupyter-server<3,>=1.8->notebook-shim>=0.2.3->nbclassic>=0.4.7->notebook->openmdao[notebooks]) (1.3.1)\n",
            "Downloading ipympl-0.9.7-py3-none-any.whl (515 kB)\n",
            "\u001b[2K   \u001b[90m━━━━━━━━━━━━━━━━━━━━━━━━━━━━━━━━━━━━━━━━\u001b[0m \u001b[32m515.7/515.7 kB\u001b[0m \u001b[31m13.9 MB/s\u001b[0m eta \u001b[36m0:00:00\u001b[0m\n",
            "\u001b[?25hDownloading jedi-0.19.2-py2.py3-none-any.whl (1.6 MB)\n",
            "\u001b[2K   \u001b[90m━━━━━━━━━━━━━━━━━━━━━━━━━━━━━━━━━━━━━━━━\u001b[0m \u001b[32m1.6/1.6 MB\u001b[0m \u001b[31m46.3 MB/s\u001b[0m eta \u001b[36m0:00:00\u001b[0m\n",
            "\u001b[?25hBuilding wheels for collected packages: openmdao\n",
            "  Building wheel for openmdao (pyproject.toml) ... \u001b[?25l\u001b[?25hdone\n",
            "  Created wheel for openmdao: filename=openmdao-3.38.0-py3-none-any.whl size=13265406 sha256=d32a82affa394cba13ff0d10c8b9fe6d5571678060baca1180604ef37ff9ae5b\n",
            "  Stored in directory: /root/.cache/pip/wheels/f0/e8/57/5e30138f57c1ae0571d953f2217db9cfd18e2da560e5ef13e6\n",
            "Successfully built openmdao\n",
            "Installing collected packages: jedi, openmdao, ipympl\n",
            "Successfully installed ipympl-0.9.7 jedi-0.19.2 openmdao-3.38.0\n"
          ]
        }
      ],
      "source": [
        "try:\n",
        "    from openmdao.utils.notebook_utils import notebook_mode  # noqa: F401\n",
        "except ImportError:\n",
        "    !python -m pip install openmdao[notebooks]"
      ]
    },
    {
      "cell_type": "markdown",
      "metadata": {
        "id": "r5X1JnHq0exY"
      },
      "source": [
        "# Optimizing the Sellar Problem\n",
        "In the previous tutorials we showed you how to define the Sellar model and run it directly. Now let’s see how we can optimize the Sellar problem to minimize the objective function. Here is the mathematical problem formulation for the Sellar optimization problem:\n",
        "\n",
        "\\begin{align}\n",
        "\\text{min}: & \\ \\ \\ & x_1^2 + z_2 + y_1 + e^{-y_2} \\\\\n",
        "\\text{w.r.t.}: & \\ \\ \\ &  x_1, z_1, z_2 \\\\\n",
        "\\text{subject to}: & \\ \\ \\ & \\\\\n",
        "& \\ \\ \\ & 3.16 - y_1 <=0 \\\\\n",
        "& \\ \\ \\ & y_2 - 24.0 <=0\n",
        "\\end{align}\n",
        "\n",
        "Remember that we built our Sellar model as follows:"
      ]
    },
    {
      "cell_type": "code",
      "execution_count": null,
      "metadata": {
        "id": "DUYnElub0exZ"
      },
      "outputs": [],
      "source": [
        "import numpy as np\n",
        "import openmdao.api as om\n",
        "\n",
        "from openmdao.test_suite.components.sellar import SellarDis1, SellarDis2\n",
        "\n",
        "\n",
        "class SellarMDA(om.Group):\n",
        "    \"\"\"\n",
        "    Group containing the Sellar MDA.\n",
        "    \"\"\"\n",
        "\n",
        "    def setup(self):\n",
        "        cycle = self.add_subsystem('cycle', om.Group(), promotes=['*'])\n",
        "        cycle.add_subsystem('d1', SellarDis1(), promotes_inputs=['x', 'z', 'y2'],\n",
        "                            promotes_outputs=['y1'])\n",
        "        cycle.add_subsystem('d2', SellarDis2(), promotes_inputs=['z', 'y1'],\n",
        "                            promotes_outputs=['y2'])\n",
        "\n",
        "        cycle.set_input_defaults('x', 1.0)\n",
        "        cycle.set_input_defaults('z', np.array([5.0, 2.0]))\n",
        "\n",
        "        # Nonlinear Block Gauss Seidel is a gradient free solver\n",
        "        cycle.nonlinear_solver = om.NonlinearBlockGS()\n",
        "\n",
        "        self.add_subsystem('obj_cmp', om.ExecComp('obj = x**2 + z[1] + y1 + exp(-y2)',\n",
        "                                                  z=np.array([0.0, 0.0]), x=0.0),\n",
        "                           promotes=['x', 'z', 'y1', 'y2', 'obj'])\n",
        "\n",
        "        self.add_subsystem('con_cmp1', om.ExecComp('con1 = 3.16 - y1'), promotes=['con1', 'y1'])\n",
        "        self.add_subsystem('con_cmp2', om.ExecComp('con2 = y2 - 24.0'), promotes=['con2', 'y2'])"
      ]
    },
    {
      "cell_type": "markdown",
      "metadata": {
        "id": "8U7oFuht0exZ"
      },
      "source": [
        "All the variables we need to set up the optimization are there. So now we just need the run script to execute the optimization."
      ]
    },
    {
      "cell_type": "markdown",
      "metadata": {
        "id": "-9foAzeO0exa"
      },
      "source": [
        ":::{Admonition} `SellarMDA` class definition\n",
        ":class: dropdown\n",
        "\n",
        "{glue:}`code_src7`\n",
        ":::"
      ]
    },
    {
      "cell_type": "code",
      "execution_count": null,
      "metadata": {
        "colab": {
          "base_uri": "https://localhost:8080/"
        },
        "id": "FOlRHcvS0exa",
        "outputId": "50257083-dab5-4849-ceac-5404c8a4aa93"
      },
      "outputs": [
        {
          "output_type": "stream",
          "name": "stdout",
          "text": [
            "Optimization terminated successfully    (Exit mode 0)\n",
            "            Current function value: 3.183393951729169\n",
            "            Iterations: 6\n",
            "            Function evaluations: 6\n",
            "            Gradient evaluations: 6\n",
            "Optimization Complete\n",
            "-----------------------------------\n",
            "minimum found at\n",
            "0.0\n",
            "[1.97763888e+00 8.83056605e-15]\n",
            "minumum objective\n",
            "3.183393951729169\n"
          ]
        }
      ],
      "source": [
        "import openmdao.api as om\n",
        "from openmdao.test_suite.components.sellar_feature import SellarMDA\n",
        "\n",
        "prob = om.Problem()\n",
        "prob.model = SellarMDA()\n",
        "\n",
        "prob.driver = om.ScipyOptimizeDriver()\n",
        "prob.driver.options['optimizer'] = 'SLSQP'\n",
        "# prob.driver.options['maxiter'] = 100\n",
        "prob.driver.options['tol'] = 1e-8\n",
        "\n",
        "prob.model.add_design_var('x', lower=0, upper=10)\n",
        "prob.model.add_design_var('z', lower=0, upper=10)\n",
        "prob.model.add_objective('obj')\n",
        "prob.model.add_constraint('con1', upper=0)\n",
        "prob.model.add_constraint('con2', upper=0)\n",
        "\n",
        "# Ask OpenMDAO to finite-difference across the model to compute the gradients for the optimizer\n",
        "prob.model.approx_totals()\n",
        "\n",
        "prob.setup()\n",
        "prob.set_solver_print(level=0)\n",
        "\n",
        "prob.run_driver()\n",
        "\n",
        "print('minimum found at')\n",
        "print(prob.get_val('x')[0])\n",
        "print(prob.get_val('z'))\n",
        "\n",
        "print('minumum objective')\n",
        "print(prob.get_val('obj')[0])"
      ]
    },
    {
      "cell_type": "code",
      "execution_count": null,
      "metadata": {
        "tags": [
          "remove-input",
          "remove-output"
        ],
        "colab": {
          "base_uri": "https://localhost:8080/"
        },
        "id": "_SVPGWkg0exa",
        "outputId": "3aea26c2-efe6-456b-972c-264b396f5579"
      },
      "outputs": [
        {
          "output_type": "execute_result",
          "data": {
            "text/plain": [
              "8.874846910364041e-10"
            ]
          },
          "metadata": {},
          "execution_count": 4
        }
      ],
      "source": [
        "from openmdao.utils.assert_utils import assert_near_equal\n",
        "\n",
        "assert_near_equal(prob.get_val('x')[0], 0., 1e-5)\n",
        "assert_near_equal(prob.get_val('z'), [1.977639, 0.], 1e-5)\n",
        "assert_near_equal(prob.get_val('obj')[0], 3.18339395045, 1e-5)"
      ]
    },
    {
      "cell_type": "markdown",
      "metadata": {
        "id": "dH_fY-gG0exb"
      },
      "source": [
        "## Controlling the Solver Print Output\n",
        "Notice the call to `prob.set_solver_print()`,\n",
        "which sets the solver output to level 0.\n",
        "This is the semi-quiet setting where you will only be notified if the solver failed to converge.\n",
        "There are lots of ways to [configure the solver print](../../features/core_features/controlling_solver_behavior/solver_options) output in your model to suit your needs.\n",
        "\n",
        "\n",
        "## Approximate the total derivatives with finite difference\n",
        "\n",
        "In this case we're using the `SLSQP` algorithm, which is a gradient-based optimization approach.\n",
        "Up to this point, none of our components have provided any analytic derivatives,\n",
        "so we'll just finite difference across the whole model to approximate the derivatives.\n",
        "This is accomplished by this line of code:\n",
        "```\n",
        "prob.model.approx_totals()\n",
        "```\n",
        "\n",
        "```{Note}\n",
        "We're using finite difference here for simplicity, but for larger models, finite differencing results in a high computational cost, and can have limited accuracy.\n",
        "It's much better to use analytic derivatives with your models. You can learn more about that in the [Advanced User Guide](../../advanced_user_guide/advanced_user_guide).\n",
        "```"
      ]
    }
  ],
  "metadata": {
    "celltoolbar": "Tags",
    "kernelspec": {
      "display_name": "Python 3",
      "language": "python",
      "name": "python3"
    },
    "language_info": {
      "codemirror_mode": {
        "name": "ipython",
        "version": 3
      },
      "file_extension": ".py",
      "mimetype": "text/x-python",
      "name": "python",
      "nbconvert_exporter": "python",
      "pygments_lexer": "ipython3",
      "version": "3.7.3"
    },
    "colab": {
      "provenance": [],
      "include_colab_link": true
    }
  },
  "nbformat": 4,
  "nbformat_minor": 0
}