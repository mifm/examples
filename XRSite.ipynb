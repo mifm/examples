{
  "nbformat": 4,
  "nbformat_minor": 0,
  "metadata": {
    "colab": {
      "name": "XRSite.ipynb",
      "provenance": [],
      "authorship_tag": "ABX9TyNczLQLj2ND9l/TT39unnvF",
      "include_colab_link": true
    },
    "kernelspec": {
      "name": "python3",
      "display_name": "Python 3"
    },
    "language_info": {
      "name": "python"
    }
  },
  "cells": [
    {
      "cell_type": "markdown",
      "metadata": {
        "id": "view-in-github",
        "colab_type": "text"
      },
      "source": [
        "<a href=\"https://colab.research.google.com/github/mifm/examples/blob/master/XRSite.ipynb\" target=\"_parent\"><img src=\"https://colab.research.google.com/assets/colab-badge.svg\" alt=\"Open In Colab\"/></a>"
      ]
    },
    {
      "cell_type": "code",
      "metadata": {
        "id": "nbWPNsnikrPz"
      },
      "source": [
        "%%capture\n",
        "!pip install py_wake"
      ],
      "execution_count": 1,
      "outputs": []
    },
    {
      "cell_type": "code",
      "metadata": {
        "id": "xJaYP6JCkv1A"
      },
      "source": [
        "import xarray as xr\n",
        "from py_wake.site import XRSite\n",
        "from py_wake.examples.data.hornsrev1 import Hornsrev1Site\n",
        "\n",
        "# import a site example just to get some probability data\n",
        "site = Hornsrev1Site()\n",
        "\n",
        "# create your custom data set\n",
        "ds = xr.Dataset(\n",
        "    data_vars={'P': (['wd', 'ws'], site.local_wind(0,0).P),\n",
        "               'TI': site.local_wind(0,0).TI},\n",
        "    coords={'wd': site.local_wind(0,0).wd,\n",
        "            'ws': site.local_wind(0,0).ws})\n",
        "\n",
        "# create a site from a custom data set\n",
        "mysite = XRSite(ds)"
      ],
      "execution_count": 2,
      "outputs": []
    }
  ]
}