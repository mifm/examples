{
  "nbformat": 4,
  "nbformat_minor": 0,
  "metadata": {
    "colab": {
      "name": "XRSite.ipynb",
      "provenance": [],
      "authorship_tag": "ABX9TyNB/kHaD0hqTrkAc6i9hAiu",
      "include_colab_link": true
    },
    "kernelspec": {
      "name": "python3",
      "display_name": "Python 3"
    },
    "language_info": {
      "name": "python"
    }
  },
  "cells": [
    {
      "cell_type": "markdown",
      "metadata": {
        "id": "view-in-github",
        "colab_type": "text"
      },
      "source": [
        "<a href=\"https://colab.research.google.com/github/mifm/examples/blob/master/XRSite.ipynb\" target=\"_parent\"><img src=\"https://colab.research.google.com/assets/colab-badge.svg\" alt=\"Open In Colab\"/></a>"
      ]
    },
    {
      "cell_type": "code",
      "metadata": {
        "id": "nbWPNsnikrPz"
      },
      "source": [
        "%%capture\n",
        "!pip install py_wake"
      ],
      "execution_count": 2,
      "outputs": []
    },
    {
      "cell_type": "code",
      "metadata": {
        "id": "xJaYP6JCkv1A"
      },
      "source": [
        "import xarray as xr\n",
        "from py_wake.site import XRSite\n",
        "from py_wake.examples.data.hornsrev1 import Hornsrev1Site,V80, wt_x, wt_y, wt16_x, wt16_y\n",
        "from py_wake import NOJ\n",
        "\n",
        "windTurbines = V80()\n",
        "\n",
        "# import a site example just to get some probability data\n",
        "site = Hornsrev1Site()\n",
        "\n",
        "# create your custom data set\n",
        "p_il = site.local_wind(0,0).P\n",
        "wd = site.local_wind(0,0).wd\n",
        "ws = site.local_wind(0,0).ws\n",
        "ds = xr.Dataset(\n",
        "    data_vars={'P': (['wd', 'ws'], p_il),\n",
        "               'TI': site.local_wind(0,0).TI},\n",
        "    coords={'wd': wd,\n",
        "            'ws': ws})\n",
        "\n",
        "# create a site from a custom data set\n",
        "mysite = XRSite(ds)"
      ],
      "execution_count": 24,
      "outputs": []
    },
    {
      "cell_type": "markdown",
      "metadata": {
        "id": "rq1naNDWCVUy"
      },
      "source": [
        "You can see the probability for the site you have defined does not exactly sum to 1. You can use the normalize_probabilities keyword to do this."
      ]
    },
    {
      "cell_type": "code",
      "metadata": {
        "id": "ajUfpuTQ-yNp",
        "outputId": "93801af1-2ae3-480b-838f-9120157a10f9",
        "colab": {
          "base_uri": "https://localhost:8080/"
        }
      },
      "source": [
        "noj = NOJ(mysite,windTurbines)\n",
        "print('P = ', float(mysite.ds.P.sum()))\n",
        "print('AEP_norm = ',noj.aep(site.initial_position[:,0], site.initial_position[:,1], normalize_probabilities=True))\n",
        "print('AEP = ',noj.aep(site.initial_position[:,0], site.initial_position[:,1], normalize_probabilities=False))"
      ],
      "execution_count": 37,
      "outputs": [
        {
          "output_type": "stream",
          "name": "stdout",
          "text": [
            "P =  0.9747995988520103\n",
            "AEP_norm =  721.4431676287484\n",
            "AEP =  702.4351577190602\n"
          ]
        }
      ]
    },
    {
      "cell_type": "markdown",
      "metadata": {
        "id": "HJ0MG4_kCpS4"
      },
      "source": [
        "Sensitivity to bin size. If you reduce the bin size of wind directions (only taking every 2nd element of the wind direction tensor and probability tensor in this example. Use proper downsampling normally.) you can recalculate the aep."
      ]
    },
    {
      "cell_type": "code",
      "metadata": {
        "id": "F2migwum-6tW"
      },
      "source": [
        "wd2 = wd[::2]\n",
        "p_il2 = p_il[::2,:] * 2"
      ],
      "execution_count": 32,
      "outputs": []
    },
    {
      "cell_type": "code",
      "metadata": {
        "id": "qg2AreOR--4f"
      },
      "source": [
        "mysite2 = XRSite(xr.Dataset(\n",
        "    data_vars={'P': (['wd', 'ws'], p_il2),\n",
        "               'TI': site.local_wind(0,0).TI},\n",
        "    coords={'wd': wd2,\n",
        "            'ws': ws}))"
      ],
      "execution_count": 34,
      "outputs": []
    },
    {
      "cell_type": "code",
      "metadata": {
        "id": "H2m8FaOgBl_v",
        "outputId": "a2b8ea6c-340f-43fd-a2fd-e790a5bdb82b",
        "colab": {
          "base_uri": "https://localhost:8080/"
        }
      },
      "source": [
        "noj2 = NOJ(mysite2,windTurbines)\n",
        "print('P = ', float(mysite2.ds.P.sum()))\n",
        "print('AEP_norm = ',noj2.aep(site.initial_position[:,0], site.initial_position[:,1], normalize_probabilities=True))\n",
        "print('AEP = ',noj2.aep(site.initial_position[:,0], site.initial_position[:,1], normalize_probabilities=False))"
      ],
      "execution_count": 38,
      "outputs": [
        {
          "output_type": "stream",
          "name": "stdout",
          "text": [
            "P =  0.9759464011464817\n",
            "AEP_norm =  721.4437392283411\n",
            "AEP =  702.4357142586023\n"
          ]
        }
      ]
    },
    {
      "cell_type": "code",
      "metadata": {
        "id": "QBZh3k1DBnP8"
      },
      "source": [
        ""
      ],
      "execution_count": null,
      "outputs": []
    }
  ]
}