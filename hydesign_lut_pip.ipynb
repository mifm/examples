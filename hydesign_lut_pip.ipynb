{
  "nbformat": 4,
  "nbformat_minor": 0,
  "metadata": {
    "colab": {
      "provenance": [],
      "authorship_tag": "ABX9TyNZ1/Pbp9bdbwiDrT0YgAVg",
      "include_colab_link": true
    },
    "kernelspec": {
      "name": "python3",
      "display_name": "Python 3"
    },
    "language_info": {
      "name": "python"
    }
  },
  "cells": [
    {
      "cell_type": "markdown",
      "metadata": {
        "id": "view-in-github",
        "colab_type": "text"
      },
      "source": [
        "<a href=\"https://colab.research.google.com/github/mifm/examples/blob/master/hydesign_lut_pip.ipynb\" target=\"_parent\"><img src=\"https://colab.research.google.com/assets/colab-badge.svg\" alt=\"Open In Colab\"/></a>"
      ]
    },
    {
      "cell_type": "code",
      "execution_count": null,
      "metadata": {
        "id": "ZYE3rB5ag81R"
      },
      "outputs": [],
      "source": [
        "%%capture\n",
        "!git clone https://gitlab.windenergy.dtu.dk/TOPFARM/hydesign.git\n",
        "import os\n",
        "os.chdir('hydesign')\n",
        "!git checkout pyomo_jumu"
      ]
    },
    {
      "cell_type": "code",
      "source": [
        "%%capture\n",
        "!pip install ."
      ],
      "metadata": {
        "id": "_AQYkcniXEQi"
      },
      "execution_count": null,
      "outputs": []
    },
    {
      "cell_type": "code",
      "source": [
        "from hydesign.look_up_tables import lut_filepath"
      ],
      "metadata": {
        "id": "QY0DoLuVhH-q"
      },
      "execution_count": null,
      "outputs": []
    },
    {
      "cell_type": "code",
      "source": [
        "os.path.isfile(lut_filepath + 'genWT_v3.nc')"
      ],
      "metadata": {
        "colab": {
          "base_uri": "https://localhost:8080/"
        },
        "id": "rN5n8Y8ohVDw",
        "outputId": "57a03436-cd3f-45f3-9832-b09fbb529e28"
      },
      "execution_count": null,
      "outputs": [
        {
          "output_type": "execute_result",
          "data": {
            "text/plain": [
              "True"
            ]
          },
          "metadata": {},
          "execution_count": 4
        }
      ]
    },
    {
      "cell_type": "code",
      "source": [],
      "metadata": {
        "id": "j7gdwl8kep5b"
      },
      "execution_count": null,
      "outputs": []
    }
  ]
}