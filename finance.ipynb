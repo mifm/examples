{
  "nbformat": 4,
  "nbformat_minor": 0,
  "metadata": {
    "colab": {
      "provenance": [],
      "authorship_tag": "ABX9TyNG1sv8W/723kSkSFhGxivl",
      "include_colab_link": true
    },
    "kernelspec": {
      "name": "python3",
      "display_name": "Python 3"
    },
    "language_info": {
      "name": "python"
    }
  },
  "cells": [
    {
      "cell_type": "markdown",
      "metadata": {
        "id": "view-in-github",
        "colab_type": "text"
      },
      "source": [
        "<a href=\"https://colab.research.google.com/github/mifm/examples/blob/master/finance.ipynb\" target=\"_parent\"><img src=\"https://colab.research.google.com/assets/colab-badge.svg\" alt=\"Open In Colab\"/></a>"
      ]
    },
    {
      "cell_type": "code",
      "source": [
        "%%capture\n",
        "!pip install numpy_financial"
      ],
      "metadata": {
        "id": "2X--y-0UfaeU"
      },
      "execution_count": 4,
      "outputs": []
    },
    {
      "cell_type": "code",
      "execution_count": 5,
      "metadata": {
        "id": "RIYOKcrIfO_1"
      },
      "outputs": [],
      "source": [
        "import numpy as np\n",
        "import numpy_financial as npf\n",
        "import scipy as sp"
      ]
    },
    {
      "cell_type": "code",
      "source": [
        "N = 5\n",
        "\n",
        "C_t1 = np.asarray([100] + N * [0])\n",
        "M_t = np.asarray(N * [5])\n",
        "F_t = np.asarray(N * [1])\n",
        "E_t = np.asarray(N * [10])\n",
        "P_t = np.asarray(N * [2.97])\n",
        "D_t = np.asarray(N * [0.0])\n",
        "\n",
        "M_t1 = np.hstack([0, M_t])\n",
        "F_t1 = np.hstack([0, F_t])\n",
        "E_t1 = np.hstack([0, E_t])\n",
        "P_t1 = np.hstack([0, P_t])\n",
        "D_t1 = np.hstack([0, D_t])\n",
        "\n",
        "r = 0.06\n",
        "yr = np.arange(N+1)\n",
        "depreciation_yr = [0, N]\n",
        "depreciation = [0, 1]\n",
        "inflation_yr = [0, N]\n",
        "inflation = [0.03, 0.03]\n",
        "ref_yr_inflation = 0\n",
        "tax_rate=0.26\n",
        "depre = np.interp(yr, depreciation_yr, depreciation)\n",
        "\n",
        "infl = np.interp(yr, inflation_yr, inflation)\n",
        "\n",
        "ind_ref = np.where(np.array(yr)==ref_yr_inflation)[0]\n",
        "inflation_index = np.cumprod(1+np.array(infl))\n",
        "inflation_index = inflation_index/inflation_index[ind_ref]\n",
        "\n",
        "def get_NPV(P_t1):\n",
        "    Net_revenue_t = E_t1 * P_t1\n",
        "\n",
        "    EBITDA = (Net_revenue_t) * inflation_index#[1:]\n",
        "    depreciation_on_each_year = np.hstack([0, np.diff(np.sum(C_t1)*depre)])\n",
        "\n",
        "    EBIT = EBITDA - depreciation_on_each_year\n",
        "\n",
        "    Taxes = EBIT*tax_rate\n",
        "    Net_income = EBITDA - Taxes\n",
        "\n",
        "    Cashflow = Net_income - C_t1 - M_t1 - F_t1 - D_t1\n",
        "\n",
        "    NPV = npf.npv(r, Cashflow)\n",
        "\n",
        "    LCOE = np.sum((C_t1 + M_t1 + F_t1 + D_t1) / (1 + r) ** yr) / np.sum(E_t1 / (1 + r) ** yr)\n",
        "    return NPV, LCOE\n",
        "\n",
        "def fun(price_el):\n",
        "    NPV, _ = get_NPV(price_el)\n",
        "    return NPV ** 2\n",
        "out = sp.optimize.minimize(\n",
        "    fun=fun,\n",
        "    x0=50,\n",
        "    method='SLSQP',\n",
        "    tol=1e-10)\n",
        "\n"
      ],
      "metadata": {
        "id": "NFukIn6EfWUE"
      },
      "execution_count": 6,
      "outputs": []
    },
    {
      "cell_type": "code",
      "source": [
        "NPV, LCOE = get_NPV(P_t1)\n",
        "break_even_price=out.x[0]\n",
        "\n",
        "\n",
        "print('NPV: ', NPV)\n",
        "print('LCOE: ', LCOE)\n",
        "print('break_even_price: ', break_even_price)\n"
      ],
      "metadata": {
        "colab": {
          "base_uri": "https://localhost:8080/"
        },
        "id": "ktZul3y2fqHj",
        "outputId": "d90b8149-2311-412d-f52f-75f8659bc2a0"
      },
      "execution_count": 7,
      "outputs": [
        {
          "output_type": "stream",
          "name": "stdout",
          "text": [
            "NPV:  -2.465477215590031\n",
            "LCOE:  2.9739640043118962\n",
            "break_even_price:  3.042568347622598\n"
          ]
        }
      ]
    },
    {
      "cell_type": "code",
      "source": [],
      "metadata": {
        "id": "kfECs3-Cfqzz"
      },
      "execution_count": null,
      "outputs": []
    }
  ]
}