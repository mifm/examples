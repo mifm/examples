{
  "nbformat": 4,
  "nbformat_minor": 0,
  "metadata": {
    "colab": {
      "provenance": [],
      "authorship_tag": "ABX9TyMcR9bLm+OAFALPJhhex0aw",
      "include_colab_link": true
    },
    "kernelspec": {
      "name": "python3",
      "display_name": "Python 3"
    },
    "language_info": {
      "name": "python"
    }
  },
  "cells": [
    {
      "cell_type": "markdown",
      "metadata": {
        "id": "view-in-github",
        "colab_type": "text"
      },
      "source": [
        "<a href=\"https://colab.research.google.com/github/mifm/examples/blob/master/hydesign_bidirectional_flow.ipynb\" target=\"_parent\"><img src=\"https://colab.research.google.com/assets/colab-badge.svg\" alt=\"Open In Colab\"/></a>"
      ]
    },
    {
      "cell_type": "code",
      "execution_count": 1,
      "metadata": {
        "id": "ogR07g5Bsz_0"
      },
      "outputs": [],
      "source": [
        "%%capture\n",
        "!pip install hydesign"
      ]
    },
    {
      "cell_type": "code",
      "source": [
        "from hydesign.assembly.hpp_assembly_P2X_bidrectional import hpp_model_P2X_bidirectional\n",
        "import pandas as pd\n",
        "from hydesign.examples import examples_filepath"
      ],
      "metadata": {
        "id": "vL6Dpo2is24G"
      },
      "execution_count": 3,
      "outputs": []
    },
    {
      "cell_type": "code",
      "source": [
        "name = 'Denmark_good_wind'\n",
        "\n",
        "examples_sites = pd.read_csv(f'{examples_filepath}examples_sites.csv', index_col=0, sep=';')\n",
        "ex_site = examples_sites.loc[examples_sites.name == name]\n",
        "longitude = ex_site['longitude'].values[0]\n",
        "latitude = ex_site['latitude'].values[0]\n",
        "altitude = ex_site['altitude'].values[0]\n",
        "input_ts_fn = examples_filepath+ex_site['input_ts_fn'].values[0]\n",
        "sim_pars_fn = examples_filepath+ex_site['sim_pars_fn'].values[0]\n",
        "H2_demand_fn = examples_filepath+ex_site['H2_demand_col'].values[0]\n",
        "\n",
        "\n",
        "hpp = hpp_model_P2X_bidirectional(\n",
        "    latitude=latitude,\n",
        "    longitude=longitude,\n",
        "    altitude=altitude,\n",
        "    max_num_batteries_allowed = 10,\n",
        "    work_dir = './',\n",
        "    sim_pars_fn = sim_pars_fn,\n",
        "    input_ts_fn = input_ts_fn,\n",
        "    H2_demand_fn = H2_demand_fn,\n",
        "    electrolyzer_eff_curve_name = 'Alkaline electrolyzer H2 production',\n",
        "    penalty_factor_H2=0.0,\n",
        "    )\n",
        "\n",
        "    # Wind plant design\n",
        "x={'clearance': 50, 'sp': 300, 'p_rated': 10, 'Nwt': 30, 'wind_MW_per_km2': 10,\n",
        "    # PV plant design\n",
        "    'solar_MW': 0, 'surface_tilt': 45, 'surface_azimuth': 180, 'DC_AC_ratio': 1.5,\n",
        "    # Energy storage & EMS price constrains\n",
        "      'b_P': 40, 'b_E_h': 4, 'cost_of_battery_P_fluct_in_peak_price_ratio': 5,\n",
        "    # PtG plant design\n",
        "      'ptg_MW': 150,\n",
        "    # Hydrogen storage capacity\n",
        "      'HSS_kg': 500}\n"
      ],
      "metadata": {
        "colab": {
          "base_uri": "https://localhost:8080/"
        },
        "id": "jMnv607Ls7F2",
        "outputId": "1a7e6625-d1e6-45fc-969d-e6d5d02daa6f"
      },
      "execution_count": 8,
      "outputs": [
        {
          "output_type": "stream",
          "name": "stdout",
          "text": [
            "\n",
            "Fixed parameters on the site\n",
            "-------------------------------\n",
            "longitude = 8.594398\n",
            "latitude = 56.227322\n",
            "altitude = 85.0\n"
          ]
        }
      ]
    },
    {
      "cell_type": "code",
      "source": [
        "res = hpp.evaluate(**x)"
      ],
      "metadata": {
        "id": "G_cm9KBHuAY4"
      },
      "execution_count": 9,
      "outputs": []
    },
    {
      "cell_type": "code",
      "source": [
        "hpp.print_design(list(x.values()), res)"
      ],
      "metadata": {
        "colab": {
          "base_uri": "https://localhost:8080/"
        },
        "id": "gfSTstnpuBVX",
        "outputId": "4983b854-575c-4ddc-c596-04192e147b29"
      },
      "execution_count": 10,
      "outputs": [
        {
          "output_type": "stream",
          "name": "stdout",
          "text": [
            "\n",
            "Design:\n",
            "---------------\n",
            "clearance [m]: 50.000\n",
            "sp [W/m2]: 300.000\n",
            "p_rated [MW]: 10.000\n",
            "Nwt: 30.000\n",
            "wind_MW_per_km2 [MW/km2]: 10.000\n",
            "solar_MW [MW]: 0.000\n",
            "surface_tilt [deg]: 45.000\n",
            "surface_azimuth [deg]: 180.000\n",
            "DC_AC_ratio: 1.500\n",
            "b_P [MW]: 40.000\n",
            "b_E_h [h]: 4.000\n",
            "cost_of_battery_P_fluct_in_peak_price_ratio: 5.000\n",
            "ptg_MW [MW]: 150.000\n",
            "HSS_kg [kg]: 500.000\n",
            "\n",
            "\n",
            "NPV_over_CAPEX: 0.424\n",
            "NPV [MEuro]: 215.144\n",
            "IRR: 0.098\n",
            "LCOE [Euro/MWh]: 36.826\n",
            "LCOH [Euro/kg]: 11.924\n",
            "Revenue [MEuro]: 1133.226\n",
            "CAPEX [MEuro]: 506.867\n",
            "OPEX [MEuro]: 9.190\n",
            "penalty lifetime [MEuro]: 0.000\n",
            "AEP [GWh]: 997.308\n",
            "annual_Power2Grid [GWh]: 390.626\n",
            "GUF: 0.379\n",
            "annual_H2 [tons]: 5559.838\n",
            "annual_P_ptg [GWh]: 606.682\n",
            "annual_P_ptg_H2 [GWh]: 0.000\n",
            "grid [MW]: 300.000\n",
            "wind [MW]: 300.000\n",
            "solar [MW]: 0.000\n",
            "PtG [MW]: 150.000\n",
            "HSS [kg]: 500.000\n",
            "Battery Energy [MWh]: 160.000\n",
            "Battery Power [MW]: 40.000\n",
            "Total curtailment [GWh]: 0.000\n",
            "Awpp [km2]: 30.000\n",
            "Apvp [km2]: 0.000\n",
            "Rotor diam [m]: 206.013\n",
            "Hub height [m]: 153.006\n",
            "Number of batteries used in lifetime: 1.000\n",
            "Break-even H2 price [Euro/kg]: 2.883\n",
            "Break-even PPA price [Euro/MWh]: 14.748\n",
            "Capacity factor wind [-]: 0.380\n",
            "\n"
          ]
        }
      ]
    },
    {
      "cell_type": "code",
      "source": [],
      "metadata": {
        "id": "n8ICInM-vMqg"
      },
      "execution_count": null,
      "outputs": []
    }
  ]
}