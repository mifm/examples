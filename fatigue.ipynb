{
  "nbformat": 4,
  "nbformat_minor": 0,
  "metadata": {
    "colab": {
      "provenance": [],
      "authorship_tag": "ABX9TyMo1A7Fd1nKSXbDnmZcBM0T",
      "include_colab_link": true
    },
    "kernelspec": {
      "name": "python3",
      "display_name": "Python 3"
    },
    "language_info": {
      "name": "python"
    }
  },
  "cells": [
    {
      "cell_type": "markdown",
      "metadata": {
        "id": "view-in-github",
        "colab_type": "text"
      },
      "source": [
        "<a href=\"https://colab.research.google.com/github/mifm/examples/blob/master/fatigue.ipynb\" target=\"_parent\"><img src=\"https://colab.research.google.com/assets/colab-badge.svg\" alt=\"Open In Colab\"/></a>"
      ]
    },
    {
      "cell_type": "code",
      "execution_count": null,
      "metadata": {
        "id": "KXwrJUKmu_e3"
      },
      "outputs": [],
      "source": [
        "!pip install wetb\n",
        "!pip install rainflow"
      ]
    },
    {
      "cell_type": "markdown",
      "source": [
        "# Use either Wind Energy Toolbox (WETB) or Rainflow to do rainflow counting:"
      ],
      "metadata": {
        "id": "6PO6k34m2n83"
      }
    },
    {
      "cell_type": "code",
      "source": [
        "import numpy as np\n",
        "from wetb.fatigue_tools.rainflowcounting import rainflowcount\n",
        "from wetb.fatigue_tools.fatigue import eq_load, cycle_matrix, cycle_matrix2\n",
        "\n",
        "rainflow_astm = rainflowcount.rainflow_astm\n",
        "\n",
        "signal1 = np.array([-2.0, 0.0, 1.0, 0.0, -3.0, 0.0, 5.0, 0.0, -1.0, 0.0, 3.0, 0.0, -4.0, 0.0, 4.0, 0.0, -2.0])\n",
        "cm1 = cycle_matrix(signal1, 4, 1, rainflow_func=rainflow_astm)\n",
        "cycles, ampl_bin_mean, ampl_edges, mean_bin_mean, mean_edges = cm1"
      ],
      "metadata": {
        "id": "kJVCiQVZvGuq"
      },
      "execution_count": 58,
      "outputs": []
    },
    {
      "cell_type": "code",
      "source": [
        "print([(ae, float(c)) for c, ae in zip(cycles, ampl_edges[1:])])"
      ],
      "metadata": {
        "colab": {
          "base_uri": "https://localhost:8080/"
        },
        "id": "7Z7Nao3k1LyV",
        "outputId": "21f97609-bbe0-44ec-8f5a-28e956b44f39"
      },
      "execution_count": 77,
      "outputs": [
        {
          "output_type": "stream",
          "name": "stdout",
          "text": [
            "[(2.25, 0.0), (4.5, 2.0), (6.75, 0.5), (9.0, 1.5)]\n"
          ]
        }
      ]
    },
    {
      "cell_type": "code",
      "source": [
        "import rainflow\n",
        "rainflow.count_cycles(signal1, nbins = 4)"
      ],
      "metadata": {
        "colab": {
          "base_uri": "https://localhost:8080/"
        },
        "id": "qzkMnsh3v329",
        "outputId": "3cd1d000-94df-40b5-f58e-d135071a688b"
      },
      "execution_count": 78,
      "outputs": [
        {
          "output_type": "execute_result",
          "data": {
            "text/plain": [
              "[(2.25, 0.0), (4.5, 2.0), (6.75, 0.5), (9.0, 1.5)]"
            ]
          },
          "metadata": {},
          "execution_count": 78
        }
      ]
    },
    {
      "cell_type": "markdown",
      "source": [
        "# Print the Markov matrix:"
      ],
      "metadata": {
        "id": "NGkGB7ss8r9b"
      }
    },
    {
      "cell_type": "code",
      "source": [
        "cycle_matrix(signal1, 4, 4, rainflow_func=rainflow_astm)[0]"
      ],
      "metadata": {
        "colab": {
          "base_uri": "https://localhost:8080/"
        },
        "id": "dbg_QpVS8xr5",
        "outputId": "7b259fe0-d974-4082-aced-dc336a07922b"
      },
      "execution_count": 86,
      "outputs": [
        {
          "output_type": "execute_result",
          "data": {
            "text/plain": [
              "array([[0. , 0. , 0. , 0. ],\n",
              "       [0.5, 0.5, 0. , 1. ],\n",
              "       [0. , 0. , 0. , 0.5],\n",
              "       [0. , 0. , 0.5, 1. ]])"
            ]
          },
          "metadata": {},
          "execution_count": 86
        }
      ]
    },
    {
      "cell_type": "markdown",
      "source": [
        "# Calculate 1s Equivalent loads with different Wohler exponents with WETB:"
      ],
      "metadata": {
        "id": "Cu4CK_ks2xMG"
      }
    },
    {
      "cell_type": "code",
      "source": [
        "?eq_load"
      ],
      "metadata": {
        "id": "sYEeXMRi28Tc"
      },
      "execution_count": 83,
      "outputs": []
    },
    {
      "cell_type": "code",
      "source": [
        "eq_load(signal1, m=[4, 8, 12], no_bins=50, neq=17, rainflow_func=rainflow_astm)"
      ],
      "metadata": {
        "colab": {
          "base_uri": "https://localhost:8080/"
        },
        "id": "dzj1ln-7v9IR",
        "outputId": "77323580-4eb1-4cca-d467-4548d6bb76d7"
      },
      "execution_count": 84,
      "outputs": [
        {
          "output_type": "execute_result",
          "data": {
            "text/plain": [
              "[[4.721598967469384, 6.243278863166493, 6.936829789229306]]"
            ]
          },
          "metadata": {},
          "execution_count": 84
        }
      ]
    },
    {
      "cell_type": "code",
      "source": [],
      "metadata": {
        "id": "FRlO-agk2Pct"
      },
      "execution_count": null,
      "outputs": []
    }
  ]
}