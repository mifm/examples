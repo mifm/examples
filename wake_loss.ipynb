{
  "nbformat": 4,
  "nbformat_minor": 0,
  "metadata": {
    "colab": {
      "provenance": [],
      "authorship_tag": "ABX9TyPCDJvG+Zy4laBN6hbH+InZ",
      "include_colab_link": true
    },
    "kernelspec": {
      "name": "python3",
      "display_name": "Python 3"
    },
    "language_info": {
      "name": "python"
    }
  },
  "cells": [
    {
      "cell_type": "markdown",
      "metadata": {
        "id": "view-in-github",
        "colab_type": "text"
      },
      "source": [
        "<a href=\"https://colab.research.google.com/github/mifm/examples/blob/master/wake_loss.ipynb\" target=\"_parent\"><img src=\"https://colab.research.google.com/assets/colab-badge.svg\" alt=\"Open In Colab\"/></a>"
      ]
    },
    {
      "cell_type": "code",
      "execution_count": null,
      "metadata": {
        "id": "Qn9-iCETjgHm"
      },
      "outputs": [],
      "source": [
        "!pip install py_wake"
      ]
    },
    {
      "cell_type": "code",
      "source": [
        "import numpy as np\n",
        "\n",
        "from py_wake.deficit_models.gaussian import BastankhahGaussian\n",
        "from py_wake.utils.gradients import autograd\n",
        "from py_wake.validation.lillgrund import wt_x, wt_y, LillgrundSite, ct_curve, power_curve\n",
        "from py_wake.wind_turbines import WindTurbine\n",
        "from py_wake.wind_turbines.power_ct_functions import PowerCtTabular\n",
        "\n",
        "wind_turbines = WindTurbine('SWT2p3_93_65', 92.6, 65, PowerCtTabular(ct_curve[:,0],power_curve[:,1], 'kW', ct_curve[:,1]))\n",
        "site = LillgrundSite()\n",
        "wf_model = BastankhahGaussian(site, wind_turbines)\n",
        "\n",
        "print(wf_model(wt_x, wt_y).aep(with_wake_loss=False).values.sum())\n",
        "print(wf_model.aep(wt_x, wt_y, with_wake_loss=False))\n",
        "print(wf_model(wt_x, wt_y).aep(with_wake_loss=True).values.sum())\n",
        "print(wf_model.aep(wt_x, wt_y, with_wake_loss=True))\n",
        "\n"
      ],
      "metadata": {
        "colab": {
          "base_uri": "https://localhost:8080/"
        },
        "id": "wFsDye3ejh8U",
        "outputId": "fb7c6daa-e42b-4972-d29c-dfa2e7ef7b84"
      },
      "execution_count": 6,
      "outputs": [
        {
          "output_type": "stream",
          "name": "stdout",
          "text": [
            "46121.48947970182\n",
            "960.8643641604544\n",
            "36559.123720435055\n",
            "36559.123720435055\n"
          ]
        }
      ]
    },
    {
      "cell_type": "code",
      "source": [],
      "metadata": {
        "id": "J7x9R0l6j68x"
      },
      "execution_count": null,
      "outputs": []
    }
  ]
}